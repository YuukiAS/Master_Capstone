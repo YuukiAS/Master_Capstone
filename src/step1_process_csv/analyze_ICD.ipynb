{
 "cells": [
  {
   "cell_type": "markdown",
   "metadata": {},
   "source": [
    "Using database, we determine whether each patient has CVD using ICD-10 codes."
   ]
  },
  {
   "cell_type": "code",
   "execution_count": 8,
   "metadata": {},
   "outputs": [],
   "source": [
    "import sqlite3\n",
    "from tqdm import tqdm\n",
    "from datetime import datetime\n",
    "import sys\n",
    "\n",
    "sys.path.append(\"../..\")\n",
    "\n",
    "from utils.constants import DatabaseConfig, TableNames"
   ]
  },
  {
   "cell_type": "code",
   "execution_count": 5,
   "metadata": {},
   "outputs": [],
   "source": [
    "conn = sqlite3.connect(DatabaseConfig.DB_PATH)\n",
    "cursor = conn.cursor()\n",
    "primary_key = \"eid\""
   ]
  },
  {
   "cell_type": "markdown",
   "metadata": {},
   "source": [
    "## Determine whether the patient has CVD using ICD-10 codes\n",
    "\n",
    "+ Create `CVD` column in `Processed` table to record if the subject has CVD diagnosed using ICD-10 codes."
   ]
  },
  {
   "cell_type": "code",
   "execution_count": 8,
   "metadata": {},
   "outputs": [
    {
     "name": "stderr",
     "output_type": "stream",
     "text": [
      "100%|██████████| 77888/77888 [00:00<00:00, 89793.86it/s]\n"
     ]
    }
   ],
   "source": [
    "cursor.execute(f\"\"\"\n",
    "ALTER TABLE {TableNames.PROCESSED} ADD COLUMN CVD INTEGER DEFAULT 0;\n",
    "\"\"\")\n",
    "\n",
    "# We will use data field 41270.\n",
    "cursor.execute(f\"PRAGMA table_info({TableNames.ICD});\")\n",
    "columns = [row[1] for row in cursor.fetchall() if row[1].startswith('41270')]\n",
    "columns_escaped = [f\"`{col}`\" for col in columns]\n",
    "\n",
    "query_sql = f\"\"\"\n",
    "SELECT {primary_key}, {', '.join(columns_escaped)} \n",
    "FROM {TableNames.ICD};\n",
    "\"\"\"\n",
    "cursor.execute(query_sql)\n",
    "\n",
    "for row in tqdm(cursor.fetchall()):\n",
    "    # Cursor will not include the column name\n",
    "    eid = row[0]\n",
    "    values = row[1:]\n",
    "\n",
    "    CVD = 0\n",
    "    for value in values:\n",
    "        if value == \"nan\" or not value:\n",
    "            continue\n",
    "        if value.startswith(\"I\"):\n",
    "            # select first 2 digits\n",
    "            value_two = int(value[1:3])\n",
    "           \n",
    "            # Ischamic Heart Disease\n",
    "            if value_two >= 20 and value_two <= 25:\n",
    "                CVD = 1\n",
    "                break\n",
    "            # Arrhythmia\n",
    "            if value_two >= 44 and value_two <= 49:\n",
    "                CVD = 1\n",
    "                break\n",
    "            # Cerebrovascular Disease\n",
    "            if value_two >= 60 and value_two <= 69:\n",
    "                CVD = 1\n",
    "                break\n",
    "            # Heart Failure\n",
    "            if value_two == 50:\n",
    "                CVD = 1\n",
    "                break\n",
    "            if value_two == 42:\n",
    "                value_three = int(value[1:4])\n",
    "                if value_three in [420, 428, 429]:\n",
    "                    CVD = 1\n",
    "                    break\n",
    "    if CVD:\n",
    "        # * Here we use UPDATE, since we don't have the entire column available at once.\n",
    "        update_query = f\"UPDATE {TableNames.PROCESSED} SET CVD = ? WHERE {primary_key} = ?\"\n",
    "        cursor.execute(update_query, (CVD, eid))\n",
    "\n",
    "conn.commit()"
   ]
  },
  {
   "cell_type": "markdown",
   "metadata": {},
   "source": [
    "## Determine the time that patients got the CVD"
   ]
  },
  {
   "cell_type": "code",
   "execution_count": 33,
   "metadata": {},
   "outputs": [
    {
     "name": "stderr",
     "output_type": "stream",
     "text": [
      " 90%|█████████ | 14658/16247 [00:00<00:00, 19308.22it/s]"
     ]
    },
    {
     "name": "stdout",
     "output_type": "stream",
     "text": [
      "I10 nan\n",
      "I209 nan\n",
      "I251 nan\n",
      "I259 nan\n",
      "I451 nan\n",
      "I48 nan\n",
      "I501 nan\n"
     ]
    },
    {
     "name": "stderr",
     "output_type": "stream",
     "text": [
      "100%|██████████| 16247/16247 [00:00<00:00, 19266.59it/s]\n"
     ]
    }
   ],
   "source": [
    "cursor.execute(f\"\"\"\n",
    "ALTER TABLE {TableNames.PROCESSED} ADD COLUMN CVD_date DATE;\n",
    "\"\"\")\n",
    "\n",
    "# We will use data field 41270 and 41280.\n",
    "cursor.execute(f\"PRAGMA table_info({TableNames.ICD});\")\n",
    "columns = [row[1] for row in cursor.fetchall() if row[1].startswith('41270') or row[1].startswith('41280')]\n",
    "columns_escaped = [f\"`{col}`\" for col in columns]\n",
    "\n",
    "# For those with CVD, we need to find the earliest time of the CVD and record them\n",
    "query_sql = f\"\"\"\n",
    "SELECT i.{primary_key}, {', '.join(f'i.{col}' for col in columns_escaped)} \n",
    "FROM {TableNames.ICD} i INNER JOIN {TableNames.PROCESSED} p ON i.{primary_key} = p.{primary_key}\n",
    "WHERE p.CVD = 1;\n",
    "\"\"\"\n",
    "cursor.execute(query_sql)\n",
    "\n",
    "# For each row, find the earliest time of the CVD\n",
    "for row in tqdm(cursor.fetchall()):\n",
    "    eid = row[0]\n",
    "    values = row[1:]\n",
    "    values_41270 = values[:215]\n",
    "    values_41280 = values[215:]\n",
    "\n",
    "    date_list = []\n",
    "    for i, value in enumerate(values_41270):\n",
    "        if not value:\n",
    "            continue\n",
    "        if not value.startswith(\"I\"):\n",
    "            continue\n",
    "        # select first 2 digits\n",
    "        value_two = int(value[1:3])\n",
    "        try:\n",
    "            date_i = datetime.strptime(values_41280[i], \"%Y-%m-%d\").date()\n",
    "        except ValueError:\n",
    "            print(value, values_41280[i])\n",
    "        \n",
    "        # Ischamic Heart Disease\n",
    "        if value_two >= 20 and value_two <= 25:\n",
    "            date_list.append(date_i)\n",
    "        # Arrhythmia\n",
    "        if value_two >= 44 and value_two <= 49:\n",
    "            date_list.append(date_i)\n",
    "        # Cerebrovascular Disease\n",
    "        if value_two >= 60 and value_two <= 69:\n",
    "            date_list.append(date_i)\n",
    "        # Heart Failure\n",
    "        if value_two == 50:\n",
    "            date_list.append(date_i)\n",
    "        if value_two == 42:\n",
    "            value_three = int(value[1:4])\n",
    "            if value_three in [420, 428, 429]:\n",
    "                date_list.append(date_i)\n",
    "\n",
    "    date_earliest = min(date_list)\n",
    "\n",
    "    # * Here we use UPDATE, since we don't have the entire column available at once.\n",
    "    update_query = f\"UPDATE {TableNames.PROCESSED} SET CVD_date = ? WHERE {primary_key} = ?\"\n",
    "    cursor.execute(update_query, (date_earliest, eid))\n",
    "\n",
    "conn.commit()"
   ]
  },
  {
   "cell_type": "markdown",
   "metadata": {},
   "source": [
    "# Determine whether the patient has statins at baseline\n",
    "\n",
    "+ Create `statins` column in `Processed` table to record if the subject has statins at baseline. These patients need to be excluded.\n"
   ]
  },
  {
   "cell_type": "code",
   "execution_count": null,
   "metadata": {},
   "outputs": [],
   "source": [
    "medication_encoding = [\n",
    "    1141146234,  # Atorvastatin\n",
    "    1141192410,  # Rosuvastatin\n",
    "    1140861958,  # Simvastatin\n",
    "    1140888648,  # Pravastatin\n",
    "    1140888594   # Fluvastatin\n",
    "]"
   ]
  },
  {
   "cell_type": "code",
   "execution_count": 7,
   "metadata": {},
   "outputs": [
    {
     "name": "stderr",
     "output_type": "stream",
     "text": [
      "100%|██████████| 77888/77888 [00:01<00:00, 69353.55it/s]\n"
     ]
    }
   ],
   "source": [
    "cursor.execute(f\"\"\"\n",
    "ALTER TABLE {TableNames.PROCESSED} ADD COLUMN statins INTEGER DEFAULT 0;\n",
    "\"\"\")\n",
    "\n",
    "# We will use data field 20003\n",
    "cursor.execute(f\"PRAGMA table_info({TableNames.ICD});\")\n",
    "columns = [row[1] for row in cursor.fetchall() if row[1].startswith('20003-0')]\n",
    "columns_escaped = [f\"`{col}`\" for col in columns]\n",
    "\n",
    "query_sql = f\"\"\"\n",
    "SELECT {primary_key}, {', '.join(columns_escaped)} \n",
    "FROM {TableNames.ICD};\n",
    "\"\"\"\n",
    "cursor.execute(query_sql)\n",
    "\n",
    "for row in tqdm(cursor.fetchall()):\n",
    "    eid = row[0]\n",
    "    values = row[1:]\n",
    "    for value in values:\n",
    "        if value in medication_encoding:\n",
    "            update_query = f\"UPDATE {TableNames.PROCESSED} SET statins = 1 WHERE {primary_key} = ?\"\n",
    "            cursor.execute(update_query, (eid,))\n",
    "            break\n",
    "\n",
    "conn.commit()"
   ]
  },
  {
   "cell_type": "markdown",
   "metadata": {},
   "source": [
    "# Determine the censoring date\n",
    "+ Create `Censor_date` column in `Processed` table to record the censoring date, which will be the latest date recorded in ICD-10 field."
   ]
  },
  {
   "cell_type": "code",
   "execution_count": 9,
   "metadata": {},
   "outputs": [
    {
     "name": "stderr",
     "output_type": "stream",
     "text": [
      "0it [00:00, ?it/s]"
     ]
    },
    {
     "name": "stderr",
     "output_type": "stream",
     "text": [
      "661it [00:00, 6586.45it/s]"
     ]
    },
    {
     "name": "stdout",
     "output_type": "stream",
     "text": [
      "Largest date updated: 2021-12-03\n",
      "Largest date updated: 2022-01-21\n",
      "Largest date updated: 2022-08-20\n",
      "Largest date updated: 2022-08-22\n",
      "Largest date updated: 2022-09-10\n",
      "Largest date updated: 2022-10-25\n",
      "Largest date updated: 2022-10-29\n",
      "Largest date updated: 2022-10-31\n"
     ]
    },
    {
     "name": "stderr",
     "output_type": "stream",
     "text": [
      "77888it [00:11, 6608.17it/s]\n"
     ]
    }
   ],
   "source": [
    "cursor.execute(f\"PRAGMA table_info({TableNames.ICD});\")\n",
    "# We will use data field 41280\n",
    "columns = [row[1] for row in cursor.fetchall() if row[1].startswith('41280')]\n",
    "columns_escaped = [f\"`{col}`\" for col in columns]\n",
    "\n",
    "query_sql = f\"\"\"\n",
    "SELECT {primary_key}, {', '.join(columns_escaped)} \n",
    "FROM {TableNames.ICD};\n",
    "\"\"\"\n",
    "cursor.execute(query_sql)\n",
    "\n",
    "date_largest = None\n",
    "\n",
    "for row in tqdm(cursor):\n",
    "    eid = row[0]\n",
    "    values = row[1:]\n",
    "    \n",
    "    for value in values:\n",
    "        if value == \"nan\":\n",
    "            break\n",
    "        if value:\n",
    "            if not date_largest:\n",
    "                date_largest = value\n",
    "            else:\n",
    "                if datetime.strptime(value, \"%Y-%m-%d\") > datetime.strptime(date_largest, \"%Y-%m-%d\"):\n",
    "                    date_largest = value\n",
    "                    print(f\"Largest date updated: {date_largest}\")"
   ]
  },
  {
   "cell_type": "markdown",
   "metadata": {},
   "source": [
    "Therefore, the censoring date is 2022-10-31."
   ]
  },
  {
   "cell_type": "code",
   "execution_count": 10,
   "metadata": {},
   "outputs": [],
   "source": [
    "# * Since the censoring date should be the same for all participants, we will use INSERT instead of UPDATE.\n",
    "cursor.execute(f\"\"\"\n",
    "ALTER TABLE {TableNames.PROCESSED} ADD COLUMN Censor_date DATE DEFAULT '2022-10-31';\n",
    "\"\"\")\n",
    "conn.commit()"
   ]
  }
 ],
 "metadata": {
  "kernelspec": {
   "display_name": "Python 3",
   "language": "python",
   "name": "python3"
  },
  "language_info": {
   "codemirror_mode": {
    "name": "ipython",
    "version": 3
   },
   "file_extension": ".py",
   "mimetype": "text/x-python",
   "name": "python",
   "nbconvert_exporter": "python",
   "pygments_lexer": "ipython3",
   "version": "3.9.18"
  }
 },
 "nbformat": 4,
 "nbformat_minor": 2
}
