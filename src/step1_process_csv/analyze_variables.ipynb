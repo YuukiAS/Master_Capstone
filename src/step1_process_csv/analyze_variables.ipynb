{
 "cells": [
  {
   "cell_type": "markdown",
   "metadata": {},
   "source": [
    "We analyze two types of variables here:\n",
    "+ Confounding variables (such as age and BMI)\n",
    "+ Process variables (such as maximum load and maximum heart rate during fitness test)"
   ]
  },
  {
   "cell_type": "code",
   "execution_count": 7,
   "metadata": {},
   "outputs": [],
   "source": [
    "import sqlite3\n",
    "from tqdm import tqdm\n",
    "import sys\n",
    "\n",
    "sys.path.append(\"../..\")\n",
    "\n",
    "from utils.constants import DatabaseConfig, TableNames"
   ]
  },
  {
   "cell_type": "code",
   "execution_count": 8,
   "metadata": {},
   "outputs": [],
   "source": [
    "conn = sqlite3.connect(DatabaseConfig.DB_PATH)\n",
    "cursor = conn.cursor()\n",
    "primary_key = 'eid'"
   ]
  },
  {
   "cell_type": "markdown",
   "metadata": {},
   "source": [
    "# Confounding variables \n",
    "+ Create `ethnicity` column in `Processed` table to record the ethnicity of the subject. We will only use the major categories such as white, mixed instead of minor categories such as British white, Indian white, etc.\n",
    "+ Create `BMI` column in `Processed` table to record the BMI of the subject.\n",
    "+ Create `birth_date` column in `Processed` table to record the date of birth of the subject. Note this only includes the year and month, as the day is a restricted variable.\n",
    "+ Create `hypertension_treatment` column in `Processed` table to record if the subject self reports hypertension diagnosed by a doctor, or is taking antihypertensive medication."
   ]
  },
  {
   "cell_type": "code",
   "execution_count": 12,
   "metadata": {},
   "outputs": [
    {
     "name": "stderr",
     "output_type": "stream",
     "text": [
      "100%|██████████| 77888/77888 [00:00<00:00, 103970.61it/s]\n"
     ]
    }
   ],
   "source": [
    "# Create a new column in table\n",
    "cursor.execute(f\"\"\"\n",
    "ALTER TABLE {TableNames.PROCESSED} ADD COLUMN ethnicity INTEGER;\n",
    "\"\"\")\n",
    "\n",
    "query_sql = f\"\"\"\n",
    "SELECT {primary_key}, `21000-0.0` \n",
    "FROM {TableNames.CONFOUNDERS};\n",
    "\"\"\"\n",
    "cursor.execute(query_sql)\n",
    "\n",
    "for row in tqdm(cursor.fetchall()):\n",
    "    eid = row[0]\n",
    "    ethnicity_full = row[1]\n",
    "    ethnicity_major = str(ethnicity_full)[-1]\n",
    "    update_sql = f\"UPDATE {TableNames.PROCESSED} SET ethnicity = ? WHERE eid = ?;\"\n",
    "    cursor.execute(update_sql, (ethnicity_major, eid))\n",
    "\n",
    "conn.commit()"
   ]
  },
  {
   "cell_type": "code",
   "execution_count": 18,
   "metadata": {},
   "outputs": [
    {
     "name": "stderr",
     "output_type": "stream",
     "text": [
      "100%|██████████| 77888/77888 [00:00<00:00, 109550.43it/s]\n"
     ]
    }
   ],
   "source": [
    "# Create a new column in table\n",
    "cursor.execute(f\"\"\"\n",
    "ALTER TABLE {TableNames.PROCESSED} ADD COLUMN BMI REAL;\n",
    "\"\"\")\n",
    "\n",
    "query_sql = f\"\"\"\n",
    "SELECT {primary_key}, `50-0.0` AS height, `21002-0.0` AS body_weight\n",
    "FROM {TableNames.CONFOUNDERS};\n",
    "\"\"\"\n",
    "cursor.execute(query_sql)\n",
    "\n",
    "for row in tqdm(cursor.fetchall()):\n",
    "    eid = row[0]\n",
    "    height = row[1]\n",
    "    body_weight = row[2]\n",
    "    if height is None or body_weight is None:\n",
    "        BMI = None\n",
    "    else:\n",
    "        BMI = round(body_weight / (height / 100) ** 2, 4)\n",
    "    update_sql = f\"UPDATE {TableNames.PROCESSED} SET BMI = ? WHERE eid = ?;\"\n",
    "    cursor.execute(update_sql, (BMI, eid))\n",
    "\n",
    "conn.commit()"
   ]
  },
  {
   "cell_type": "code",
   "execution_count": 6,
   "metadata": {},
   "outputs": [
    {
     "name": "stderr",
     "output_type": "stream",
     "text": [
      "100%|██████████| 77888/77888 [00:00<00:00, 128652.33it/s]\n"
     ]
    }
   ],
   "source": [
    "cursor.execute(f\"\"\"\n",
    "ALTER TABLE {TableNames.PROCESSED} ADD COLUMN birth_date DATE;\n",
    "\"\"\")\n",
    "\n",
    "query_sql = f\"\"\"\n",
    "SELECT {primary_key}, `34-0.0`, `52-0.0` \n",
    "FROM {TableNames.CONFOUNDERS};\n",
    "\"\"\"\n",
    "cursor.execute(query_sql)\n",
    "\n",
    "for row in tqdm(cursor.fetchall()):\n",
    "    eid = row[0]\n",
    "    birth_year = row[1]\n",
    "    birth_month = row[2]\n",
    "    # * SQL doesn't allow we only specify the year and month. We will use 01 as the placeholder.\n",
    "    birth_date = f\"{birth_year}-{birth_month:02d}-01\"\n",
    "    update_sql = f\"UPDATE {TableNames.PROCESSED} SET birth_date = ? WHERE eid = ?;\"\n",
    "    cursor.execute(update_sql, (birth_date, eid))\n",
    "\n",
    "conn.commit()"
   ]
  },
  {
   "cell_type": "code",
   "execution_count": 22,
   "metadata": {},
   "outputs": [
    {
     "name": "stdout",
     "output_type": "stream",
     "text": [
      "['`6150-0.0`', '`6150-0.1`', '`6150-0.2`', '`6150-0.3`', '`6153-0.0`', '`6153-0.1`', '`6153-0.2`', '`6153-0.3`', '`6177-0.0`', '`6177-0.1`', '`6177-0.2`']\n"
     ]
    },
    {
     "name": "stderr",
     "output_type": "stream",
     "text": [
      "100%|██████████| 77888/77888 [00:00<00:00, 94393.62it/s] \n"
     ]
    }
   ],
   "source": [
    "cursor.execute(f\"\"\"\n",
    "ALTER TABLE {TableNames.PROCESSED} ADD COLUMN hypertension_treatment INTEGER DEFAULT 0;\n",
    "\"\"\")\n",
    "\n",
    "# We will use data field 6177, 6153 and 6150\n",
    "cursor.execute(f\"PRAGMA table_info({TableNames.CONFOUNDERS});\")\n",
    "columns = [\n",
    "    row[1]\n",
    "    for row in cursor.fetchall()\n",
    "    if row[1].startswith(\"6177-0\") or row[1].startswith(\"6153-0\") or row[1].startswith(\"6150-0\")\n",
    "]\n",
    "columns_escaped = [f\"`{col}`\" for col in columns]\n",
    "print(columns_escaped)\n",
    "\n",
    "query_sql = f\"\"\"\n",
    "SELECT {primary_key}, {', '.join(columns_escaped)} \n",
    "FROM {TableNames.CONFOUNDERS};\n",
    "\"\"\"\n",
    "cursor.execute(query_sql)\n",
    "\n",
    "for row in tqdm(cursor.fetchall()):\n",
    "    # define If a subject didn't use the bike, or didn't complete the test, the subject will be excluded.\n",
    "    hypertension_treatment = 0\n",
    "\n",
    "    eid = row[0]\n",
    "    \n",
    "    # Order: 6150(4) + 6153(4) + 6177(3)\n",
    "    disease_reported = row[1:5]  # 6150\n",
    "    medication_female = row[5:9]  # 6153\n",
    "    medication_male = row[9:12]  # 6177\n",
    "\n",
    "    # medication_male and medication_female are incompatible.\n",
    "    male_all_none = all(x is None for x in medication_male)\n",
    "    female_all_none = all(x is None for x in medication_female)\n",
    "    assert male_all_none or female_all_none  # At least one of two lists should only have None values.\n",
    "\n",
    "    if 2 in medication_male or 2 in medication_female:\n",
    "        # 6177:\n",
    "        # 1\tCholesterol lowering medication\n",
    "        # 2\tBlood pressure medication\n",
    "        # 3\tInsulin\n",
    "        # -7\tNone of the above\n",
    "        # -1\tDo not know\n",
    "        # -3\tPrefer not to answer\n",
    "\n",
    "        # 6153:\n",
    "        # 1\tCholesterol lowering medication\n",
    "        # 2\tBlood pressure medication\n",
    "        # 3\tInsulin\n",
    "        # 4\tHormone replacement therapy\n",
    "        # 5\tOral contraceptive pill or minipill\n",
    "        # -7\tNone of the above\n",
    "        # -1\tDo not know\n",
    "        # -3\tPrefer not to answer\n",
    "        hypertension_treatment = 1\n",
    "\n",
    "    if 4 in disease_reported:\n",
    "        # 1\tHeart attack\n",
    "        # 2\tAngina\n",
    "        # 3\tStroke\n",
    "        # 4\tHigh blood pressure\n",
    "        # -7\tNone of the above\n",
    "        # -3\tPrefer not to answer\n",
    "        hypertension_treatment = 1\n",
    "\n",
    "    medication_unknown = any(code in (medication_male + medication_female) for code in (-1, -3))\n",
    "    disease_unknown = any(code in disease_reported for code in (-3, -7))\n",
    "    hypertension_treatment = None if medication_unknown and disease_unknown else hypertension_treatment\n",
    "\n",
    "    update_sql = f\"UPDATE {TableNames.PROCESSED} SET hypertension_treatment = ? WHERE eid = ?;\"\n",
    "    cursor.execute(update_sql, (hypertension_treatment, eid))\n",
    "\n",
    "conn.commit()"
   ]
  },
  {
   "cell_type": "markdown",
   "metadata": {},
   "source": [
    "# Process variables \n",
    "\n",
    "+ Create `test_status` column in `Processed` table to record the status of the fitness test. It will be True if the subject completed the test using the bike."
   ]
  },
  {
   "cell_type": "code",
   "execution_count": 15,
   "metadata": {},
   "outputs": [
    {
     "name": "stderr",
     "output_type": "stream",
     "text": [
      "100%|██████████| 77888/77888 [00:00<00:00, 245921.61it/s]\n"
     ]
    }
   ],
   "source": [
    "cursor.execute(f\"\"\"\n",
    "ALTER TABLE {TableNames.PROCESSED} ADD COLUMN test_status INTEGER DEFAULT 1;\n",
    "\"\"\")\n",
    "\n",
    "# We will use data field 6019 and 6020\n",
    "query_sql = f\"\"\"\n",
    "SELECT {primary_key}, `6019-0.0`, `6020-0.0` FROM {TableNames.ECG};\n",
    "\"\"\"\n",
    "cursor.execute(query_sql)\n",
    "\n",
    "for row in tqdm(cursor.fetchall()):\n",
    "    # define If a subject didn't use the bike, or didn't complete the test, the subject will be excluded.\n",
    "    test_status = True\n",
    "    \n",
    "    eid = row[0]\n",
    "    # ECG/Bike method for fitness test\n",
    "    if row[1] != 1.0:\n",
    "        # 2.0: resting only\n",
    "        test_status = False\n",
    "    # Completion status of fitness test\n",
    "    if row[2] != 1.0:\n",
    "        # 31.0: participant wanted to stop early\n",
    "        # 32.0: participant reported chest-pain or other discomfort\n",
    "        # 33.0: heart rate too high\n",
    "        test_status = False\n",
    "\n",
    "    if not test_status:\n",
    "        update_sql = f\"UPDATE {TableNames.PROCESSED} SET test_status = ? WHERE eid = ?;\"\n",
    "        cursor.execute(update_sql, (test_status, eid))\n",
    "\n",
    "conn.commit()"
   ]
  }
 ],
 "metadata": {
  "kernelspec": {
   "display_name": "Python 3",
   "language": "python",
   "name": "python3"
  },
  "language_info": {
   "codemirror_mode": {
    "name": "ipython",
    "version": 3
   },
   "file_extension": ".py",
   "mimetype": "text/x-python",
   "name": "python",
   "nbconvert_exporter": "python",
   "pygments_lexer": "ipython3",
   "version": "3.9.18"
  }
 },
 "nbformat": 4,
 "nbformat_minor": 2
}
