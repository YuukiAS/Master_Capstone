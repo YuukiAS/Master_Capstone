{
 "cells": [
  {
   "cell_type": "markdown",
   "metadata": {},
   "source": [
    "We analyze two types of variables here:\n",
    "+ Confounding variables (such as age and BMI)\n",
    "+ Process variables (such as maximum load and maximum heart rate during fitness test)"
   ]
  },
  {
   "cell_type": "code",
   "execution_count": 1,
   "metadata": {},
   "outputs": [],
   "source": [
    "import sqlite3\n",
    "from tqdm import tqdm\n",
    "import sys\n",
    "\n",
    "sys.path.append(\"../..\")\n",
    "\n",
    "from utils.constants import DatabaseConfig, TableNames"
   ]
  },
  {
   "cell_type": "code",
   "execution_count": 2,
   "metadata": {},
   "outputs": [],
   "source": [
    "conn = sqlite3.connect(DatabaseConfig.DB_PATH)\n",
    "cursor = conn.cursor()\n",
    "primary_key = 'eid'"
   ]
  },
  {
   "cell_type": "markdown",
   "metadata": {},
   "source": [
    "# Confounding variables \n",
    "\n",
    "+ Create `hypertension_treatment` column in `Processed` table to record if the subject self reports hypertension diagnosed by a doctor, or is taking antihypertensive medication."
   ]
  },
  {
   "cell_type": "code",
   "execution_count": 20,
   "metadata": {},
   "outputs": [
    {
     "data": {
      "text/plain": [
       "<sqlite3.Cursor at 0x7f27b0f937a0>"
      ]
     },
     "execution_count": 20,
     "metadata": {},
     "output_type": "execute_result"
    }
   ],
   "source": [
    "# Create a new column in table\n",
    "cursor.execute(f\"\"\"\n",
    "ALTER TABLE {TableNames.PROCESSED} ADD COLUMN hypertension_treatment INTEGER DEFAULT 0;\n",
    "\"\"\")\n",
    "\n",
    "# We will use data field 6177, 6153 and 6150\n",
    "cursor.execute(f\"PRAGMA table_info({TableNames.CONFOUNDERS});\")\n",
    "columns = [\n",
    "    row[1]\n",
    "    for row in cursor.fetchall()\n",
    "    if row[1].startswith(\"6177-0\") or row[1].startswith(\"6153-0\") or row[1].startswith(\"6150-0\")\n",
    "]\n",
    "columns_escaped = [f\"`{col}`\" for col in columns]\n",
    "\n",
    "query_sql = f\"\"\"\n",
    "SELECT {primary_key}, {', '.join(columns_escaped)} \n",
    "FROM {TableNames.CONFOUNDERS};\n",
    "\"\"\"\n",
    "cursor.execute(query_sql)\n",
    "\n",
    "for row in tqdm(cursor.fetchall()):\n",
    "    # define If a subject didn't use the bike, or didn't complete the test, the subject will be excluded.\n",
    "    hypertension_treatment = False\n",
    "\n",
    "    eid = row[0]\n",
    "\n",
    "    medication_male = row[1:4]  # 6177\n",
    "    medication_female = row[4:8]  # 6153\n",
    "    disease_reported = row[8:12]  # 6150\n",
    "\n",
    "    if 2 in medication_male or 2 in medication_female:\n",
    "        # 6177:\n",
    "        # 1\tCholesterol lowering medication\n",
    "        # 2\tBlood pressure medication\n",
    "        # 3\tInsulin\n",
    "        # -7\tNone of the above\n",
    "        # -1\tDo not know\n",
    "        # -3\tPrefer not to answer\n",
    "\n",
    "        # 6153:\n",
    "        # 1\tCholesterol lowering medication\n",
    "        # 2\tBlood pressure medication\n",
    "        # 3\tInsulin\n",
    "        # 4\tHormone replacement therapy\n",
    "        # 5\tOral contraceptive pill or minipill\n",
    "        # -7\tNone of the above\n",
    "        # -1\tDo not know\n",
    "        # -3\tPrefer not to answer\n",
    "        hypertension_treatment = True\n",
    "\n",
    "    if 4 in disease_reported:\n",
    "        # 1\tHeart attack\n",
    "        # 2\tAngina\n",
    "        # 3\tStroke\n",
    "        # 4\tHigh blood pressure\n",
    "        # -7\tNone of the above\n",
    "        # -3\tPrefer not to answer\n",
    "        hypertension_treatment = True\n",
    "\n",
    "    if hypertension_treatment:\n",
    "        update_query = f\"UPDATE {TableNames.PROCESSED} SET hypertension_treatment = ? WHERE eid = ?;\"\n",
    "        cursor.execute(update_query, (hypertension_treatment, eid))\n",
    "\n",
    "conn.commit()"
   ]
  },
  {
   "cell_type": "markdown",
   "metadata": {},
   "source": [
    "# Process variables \n",
    "\n",
    "+ Create `test_status` column in `Processed` table to record the status of the fitness test. It will be True if the subject completed the test using the bike."
   ]
  },
  {
   "cell_type": "code",
   "execution_count": 15,
   "metadata": {},
   "outputs": [
    {
     "name": "stderr",
     "output_type": "stream",
     "text": [
      "100%|██████████| 77888/77888 [00:00<00:00, 245921.61it/s]\n"
     ]
    }
   ],
   "source": [
    "# Create a new column in table\n",
    "cursor.execute(f\"\"\"\n",
    "ALTER TABLE {TableNames.PROCESSED} ADD COLUMN test_status INTEGER DEFAULT 1;\n",
    "\"\"\")\n",
    "\n",
    "# We will use data field 6019 and 6020\n",
    "query_sql = f\"\"\"\n",
    "SELECT {primary_key}, `6019-0.0`, `6020-0.0` FROM {TableNames.ECG};\n",
    "\"\"\"\n",
    "cursor.execute(query_sql)\n",
    "\n",
    "for row in tqdm(cursor.fetchall()):\n",
    "    # define If a subject didn't use the bike, or didn't complete the test, the subject will be excluded.\n",
    "    test_status = True\n",
    "    \n",
    "    eid = row[0]\n",
    "    # ECG/Bike method for fitness test\n",
    "    if row[1] != 1.0:\n",
    "        # 2.0: resting only\n",
    "        test_status = False\n",
    "    # Completion status of fitness test\n",
    "    if row[2] != 1.0:\n",
    "        # 31.0: participant wanted to stop early\n",
    "        # 32.0: participant reported chest-pain or other discomfort\n",
    "        # 33.0: heart rate too high\n",
    "        test_status = False\n",
    "\n",
    "    if not test_status:\n",
    "        update_query = f\"UPDATE {TableNames.PROCESSED} SET test_status = ? WHERE eid = ?;\"\n",
    "        cursor.execute(update_query, (test_status, eid))\n",
    "\n",
    "conn.commit()"
   ]
  }
 ],
 "metadata": {
  "kernelspec": {
   "display_name": "Python 3",
   "language": "python",
   "name": "python3"
  },
  "language_info": {
   "codemirror_mode": {
    "name": "ipython",
    "version": 3
   },
   "file_extension": ".py",
   "mimetype": "text/x-python",
   "name": "python",
   "nbconvert_exporter": "python",
   "pygments_lexer": "ipython3",
   "version": "3.9.18"
  }
 },
 "nbformat": 4,
 "nbformat_minor": 2
}
