{
 "cells": [
  {
   "cell_type": "markdown",
   "metadata": {},
   "source": [
    "Generate a large SQL database from the UKBiobank csv."
   ]
  },
  {
   "cell_type": "code",
   "execution_count": 1,
   "metadata": {},
   "outputs": [],
   "source": [
    "import sqlite3\n",
    "from tqdm import tqdm\n",
    "import sys\n",
    "sys.path.append('..')\n",
    "# from utils.csv_utils import count_row_numbers\n",
    "from utils.constants import variables_table_name, ICD_table_name, processed_table_name, primary_key, db_file\n",
    "from utils.sql_utils import generate_table_from_csv, update_table_from_csv"
   ]
  },
  {
   "cell_type": "code",
   "execution_count": 49,
   "metadata": {},
   "outputs": [],
   "source": [
    "Variables_columns_ID = [\n",
    "    # Main covariates\n",
    "    34,\n",
    "    52,\n",
    "    20116,\n",
    "    31,\n",
    "    2443,\n",
    "    4080,\n",
    "    21000,\n",
    "    50,\n",
    "    21002,\n",
    "    6177,\n",
    "    6153,\n",
    "    6150,\n",
    "    22189,\n",
    "    30690,\n",
    "    30760,\n",
    "    6138,\n",
    "    22032,\n",
    "    # ECG-related covariates\n",
    "    6015,\n",
    "    6016,\n",
    "    6019,\n",
    "    6020,\n",
    "    6038,\n",
    "    5991,\n",
    "    5992,\n",
    "    5984,\n",
    "    5985,\n",
    "    5983,\n",
    "    5987,\n",
    "    5988,\n",
    "    5993,\n",
    "    6032,\n",
    "    6033\n",
    "]\n",
    "ICD10_columns_ID = [41270]  # ICD-10 encoding\n",
    "\n",
    "Variables_table_name = 'Variables'\n",
    "ICD10_table_name = 'ICD10'"
   ]
  },
  {
   "cell_type": "code",
   "execution_count": 57,
   "metadata": {},
   "outputs": [
    {
     "name": "stdout",
     "output_type": "stream",
     "text": [
      "There will be 1269 columns in the temporary table: Variables_temp\n",
      "Creating temporary table: Variables_temp\n",
      "Inserting data into temporary table: Variables_temp\n"
     ]
    },
    {
     "name": "stderr",
     "output_type": "stream",
     "text": [
      "Processing CSV:   0%|          | 0/502368 [00:00<?, ?rows/s]"
     ]
    },
    {
     "name": "stdout",
     "output_type": "stream",
     "text": [
      "Valid Chunk rows: 767\n"
     ]
    },
    {
     "name": "stderr",
     "output_type": "stream",
     "text": [
      "Processing CSV:   1%|          | 5000/502368 [00:03<05:56, 1396.38rows/s]"
     ]
    },
    {
     "name": "stdout",
     "output_type": "stream",
     "text": [
      "Valid Chunk rows: 746\n"
     ]
    },
    {
     "name": "stderr",
     "output_type": "stream",
     "text": [
      "Processing CSV:   2%|▏         | 10000/502368 [00:07<05:55, 1384.89rows/s]"
     ]
    },
    {
     "name": "stdout",
     "output_type": "stream",
     "text": [
      "Valid Chunk rows: 751\n"
     ]
    },
    {
     "name": "stderr",
     "output_type": "stream",
     "text": [
      "Processing CSV:   3%|▎         | 15000/502368 [00:10<05:51, 1387.08rows/s]"
     ]
    },
    {
     "name": "stdout",
     "output_type": "stream",
     "text": [
      "Valid Chunk rows: 801\n"
     ]
    },
    {
     "name": "stderr",
     "output_type": "stream",
     "text": [
      "Processing CSV:   4%|▍         | 20000/502368 [00:14<06:05, 1320.60rows/s]"
     ]
    },
    {
     "name": "stdout",
     "output_type": "stream",
     "text": [
      "Valid Chunk rows: 760\n"
     ]
    },
    {
     "name": "stderr",
     "output_type": "stream",
     "text": [
      "Processing CSV:   5%|▍         | 25000/502368 [00:19<06:31, 1219.34rows/s]"
     ]
    },
    {
     "name": "stdout",
     "output_type": "stream",
     "text": [
      "Valid Chunk rows: 814\n"
     ]
    },
    {
     "name": "stderr",
     "output_type": "stream",
     "text": [
      "Processing CSV:   6%|▌         | 30000/502368 [00:24<06:53, 1143.04rows/s]"
     ]
    },
    {
     "name": "stdout",
     "output_type": "stream",
     "text": [
      "Valid Chunk rows: 804\n"
     ]
    },
    {
     "name": "stderr",
     "output_type": "stream",
     "text": [
      "Processing CSV:   7%|▋         | 35000/502368 [00:29<06:58, 1116.66rows/s]"
     ]
    },
    {
     "name": "stdout",
     "output_type": "stream",
     "text": [
      "Valid Chunk rows: 766\n"
     ]
    },
    {
     "name": "stderr",
     "output_type": "stream",
     "text": [
      "Processing CSV:   8%|▊         | 40000/502368 [00:33<07:00, 1100.30rows/s]"
     ]
    },
    {
     "name": "stdout",
     "output_type": "stream",
     "text": [
      "Valid Chunk rows: 762\n"
     ]
    },
    {
     "name": "stderr",
     "output_type": "stream",
     "text": [
      "Processing CSV:   9%|▉         | 45000/502368 [00:39<07:19, 1041.06rows/s]"
     ]
    },
    {
     "name": "stdout",
     "output_type": "stream",
     "text": [
      "Valid Chunk rows: 745\n"
     ]
    },
    {
     "name": "stderr",
     "output_type": "stream",
     "text": [
      "Processing CSV:  10%|▉         | 50000/502368 [00:43<07:09, 1052.16rows/s]"
     ]
    },
    {
     "name": "stdout",
     "output_type": "stream",
     "text": [
      "Valid Chunk rows: 749\n"
     ]
    },
    {
     "name": "stderr",
     "output_type": "stream",
     "text": [
      "Processing CSV:  11%|█         | 55000/502368 [00:48<07:05, 1052.22rows/s]"
     ]
    },
    {
     "name": "stdout",
     "output_type": "stream",
     "text": [
      "Valid Chunk rows: 749\n"
     ]
    },
    {
     "name": "stderr",
     "output_type": "stream",
     "text": [
      "Processing CSV:  12%|█▏        | 60000/502368 [00:53<06:59, 1053.58rows/s]"
     ]
    },
    {
     "name": "stdout",
     "output_type": "stream",
     "text": [
      "Valid Chunk rows: 761\n"
     ]
    },
    {
     "name": "stderr",
     "output_type": "stream",
     "text": [
      "Processing CSV:  13%|█▎        | 65000/502368 [00:58<06:56, 1050.23rows/s]"
     ]
    },
    {
     "name": "stdout",
     "output_type": "stream",
     "text": [
      "Valid Chunk rows: 798\n"
     ]
    },
    {
     "name": "stderr",
     "output_type": "stream",
     "text": [
      "Processing CSV:  14%|█▍        | 70000/502368 [01:02<06:50, 1053.57rows/s]"
     ]
    },
    {
     "name": "stdout",
     "output_type": "stream",
     "text": [
      "Valid Chunk rows: 811\n"
     ]
    },
    {
     "name": "stderr",
     "output_type": "stream",
     "text": [
      "Processing CSV:  15%|█▍        | 75000/502368 [01:07<06:45, 1053.75rows/s]"
     ]
    },
    {
     "name": "stdout",
     "output_type": "stream",
     "text": [
      "Valid Chunk rows: 771\n"
     ]
    },
    {
     "name": "stderr",
     "output_type": "stream",
     "text": [
      "Processing CSV:  16%|█▌        | 80000/502368 [01:12<06:39, 1057.83rows/s]"
     ]
    },
    {
     "name": "stdout",
     "output_type": "stream",
     "text": [
      "Valid Chunk rows: 759\n"
     ]
    },
    {
     "name": "stderr",
     "output_type": "stream",
     "text": [
      "Processing CSV:  17%|█▋        | 85000/502368 [01:17<06:35, 1054.97rows/s]"
     ]
    },
    {
     "name": "stdout",
     "output_type": "stream",
     "text": [
      "Valid Chunk rows: 798\n"
     ]
    },
    {
     "name": "stderr",
     "output_type": "stream",
     "text": [
      "Processing CSV:  18%|█▊        | 90000/502368 [01:24<07:29, 917.77rows/s] "
     ]
    },
    {
     "name": "stdout",
     "output_type": "stream",
     "text": [
      "Valid Chunk rows: 745\n"
     ]
    },
    {
     "name": "stderr",
     "output_type": "stream",
     "text": [
      "Processing CSV:  19%|█▉        | 95000/502368 [01:29<07:11, 944.39rows/s]"
     ]
    },
    {
     "name": "stdout",
     "output_type": "stream",
     "text": [
      "Valid Chunk rows: 823\n"
     ]
    },
    {
     "name": "stderr",
     "output_type": "stream",
     "text": [
      "Processing CSV:  20%|█▉        | 100000/502368 [01:33<06:55, 967.95rows/s]"
     ]
    },
    {
     "name": "stdout",
     "output_type": "stream",
     "text": [
      "Valid Chunk rows: 790\n"
     ]
    },
    {
     "name": "stderr",
     "output_type": "stream",
     "text": [
      "Processing CSV:  21%|██        | 105000/502368 [01:38<06:41, 988.71rows/s]"
     ]
    },
    {
     "name": "stdout",
     "output_type": "stream",
     "text": [
      "Valid Chunk rows: 846\n"
     ]
    },
    {
     "name": "stderr",
     "output_type": "stream",
     "text": [
      "Processing CSV:  22%|██▏       | 110000/502368 [01:43<06:33, 996.40rows/s]"
     ]
    },
    {
     "name": "stdout",
     "output_type": "stream",
     "text": [
      "Valid Chunk rows: 801\n"
     ]
    },
    {
     "name": "stderr",
     "output_type": "stream",
     "text": [
      "Processing CSV:  23%|██▎       | 115000/502368 [01:49<06:43, 959.99rows/s]"
     ]
    },
    {
     "name": "stdout",
     "output_type": "stream",
     "text": [
      "Valid Chunk rows: 736\n"
     ]
    },
    {
     "name": "stderr",
     "output_type": "stream",
     "text": [
      "Processing CSV:  24%|██▍       | 120000/502368 [01:54<06:41, 951.96rows/s]"
     ]
    },
    {
     "name": "stdout",
     "output_type": "stream",
     "text": [
      "Valid Chunk rows: 796\n"
     ]
    },
    {
     "name": "stderr",
     "output_type": "stream",
     "text": [
      "Processing CSV:  25%|██▍       | 125000/502368 [01:59<06:28, 971.85rows/s]"
     ]
    },
    {
     "name": "stdout",
     "output_type": "stream",
     "text": [
      "Valid Chunk rows: 771\n"
     ]
    },
    {
     "name": "stderr",
     "output_type": "stream",
     "text": [
      "Processing CSV:  26%|██▌       | 130000/502368 [02:04<06:16, 989.79rows/s]"
     ]
    },
    {
     "name": "stdout",
     "output_type": "stream",
     "text": [
      "Valid Chunk rows: 753\n"
     ]
    },
    {
     "name": "stderr",
     "output_type": "stream",
     "text": [
      "Processing CSV:  27%|██▋       | 135000/502368 [02:09<06:05, 1003.92rows/s]"
     ]
    },
    {
     "name": "stdout",
     "output_type": "stream",
     "text": [
      "Valid Chunk rows: 771\n"
     ]
    },
    {
     "name": "stderr",
     "output_type": "stream",
     "text": [
      "Processing CSV:  28%|██▊       | 140000/502368 [02:13<05:56, 1016.25rows/s]"
     ]
    },
    {
     "name": "stdout",
     "output_type": "stream",
     "text": [
      "Valid Chunk rows: 822\n"
     ]
    },
    {
     "name": "stderr",
     "output_type": "stream",
     "text": [
      "Processing CSV:  29%|██▉       | 145000/502368 [02:18<05:52, 1014.59rows/s]"
     ]
    },
    {
     "name": "stdout",
     "output_type": "stream",
     "text": [
      "Valid Chunk rows: 739\n"
     ]
    },
    {
     "name": "stderr",
     "output_type": "stream",
     "text": [
      "Processing CSV:  30%|██▉       | 150000/502368 [02:23<05:46, 1017.95rows/s]"
     ]
    },
    {
     "name": "stdout",
     "output_type": "stream",
     "text": [
      "Valid Chunk rows: 758\n"
     ]
    },
    {
     "name": "stderr",
     "output_type": "stream",
     "text": [
      "Processing CSV:  31%|███       | 155000/502368 [02:28<05:40, 1021.16rows/s]"
     ]
    },
    {
     "name": "stdout",
     "output_type": "stream",
     "text": [
      "Valid Chunk rows: 812\n"
     ]
    },
    {
     "name": "stderr",
     "output_type": "stream",
     "text": [
      "Processing CSV:  32%|███▏      | 160000/502368 [02:33<05:33, 1027.92rows/s]"
     ]
    },
    {
     "name": "stdout",
     "output_type": "stream",
     "text": [
      "Valid Chunk rows: 791\n"
     ]
    },
    {
     "name": "stderr",
     "output_type": "stream",
     "text": [
      "Processing CSV:  33%|███▎      | 165000/502368 [02:39<05:47, 970.34rows/s] "
     ]
    },
    {
     "name": "stdout",
     "output_type": "stream",
     "text": [
      "Valid Chunk rows: 729\n"
     ]
    },
    {
     "name": "stderr",
     "output_type": "stream",
     "text": [
      "Processing CSV:  34%|███▍      | 170000/502368 [02:44<05:35, 989.83rows/s]"
     ]
    },
    {
     "name": "stdout",
     "output_type": "stream",
     "text": [
      "Valid Chunk rows: 794\n"
     ]
    },
    {
     "name": "stderr",
     "output_type": "stream",
     "text": [
      "Processing CSV:  35%|███▍      | 175000/502368 [02:48<05:26, 1002.37rows/s]"
     ]
    },
    {
     "name": "stdout",
     "output_type": "stream",
     "text": [
      "Valid Chunk rows: 728\n"
     ]
    },
    {
     "name": "stderr",
     "output_type": "stream",
     "text": [
      "Processing CSV:  36%|███▌      | 180000/502368 [02:54<05:25, 990.41rows/s] "
     ]
    },
    {
     "name": "stdout",
     "output_type": "stream",
     "text": [
      "Valid Chunk rows: 776\n"
     ]
    },
    {
     "name": "stderr",
     "output_type": "stream",
     "text": [
      "Processing CSV:  37%|███▋      | 185000/502368 [02:58<05:15, 1005.87rows/s]"
     ]
    },
    {
     "name": "stdout",
     "output_type": "stream",
     "text": [
      "Valid Chunk rows: 733\n"
     ]
    },
    {
     "name": "stderr",
     "output_type": "stream",
     "text": [
      "Processing CSV:  38%|███▊      | 190000/502368 [03:03<05:05, 1021.38rows/s]"
     ]
    },
    {
     "name": "stdout",
     "output_type": "stream",
     "text": [
      "Valid Chunk rows: 739\n"
     ]
    },
    {
     "name": "stderr",
     "output_type": "stream",
     "text": [
      "Processing CSV:  39%|███▉      | 195000/502368 [03:08<04:57, 1032.46rows/s]"
     ]
    },
    {
     "name": "stdout",
     "output_type": "stream",
     "text": [
      "Valid Chunk rows: 838\n"
     ]
    },
    {
     "name": "stderr",
     "output_type": "stream",
     "text": [
      "Processing CSV:  40%|███▉      | 200000/502368 [03:13<04:50, 1041.00rows/s]"
     ]
    },
    {
     "name": "stdout",
     "output_type": "stream",
     "text": [
      "Valid Chunk rows: 824\n"
     ]
    },
    {
     "name": "stderr",
     "output_type": "stream",
     "text": [
      "Processing CSV:  41%|████      | 205000/502368 [03:17<04:46, 1039.06rows/s]"
     ]
    },
    {
     "name": "stdout",
     "output_type": "stream",
     "text": [
      "Valid Chunk rows: 770\n"
     ]
    },
    {
     "name": "stderr",
     "output_type": "stream",
     "text": [
      "Processing CSV:  42%|████▏     | 210000/502368 [03:22<04:41, 1039.41rows/s]"
     ]
    },
    {
     "name": "stdout",
     "output_type": "stream",
     "text": [
      "Valid Chunk rows: 797\n"
     ]
    },
    {
     "name": "stderr",
     "output_type": "stream",
     "text": [
      "Processing CSV:  43%|████▎     | 215000/502368 [03:27<04:38, 1033.46rows/s]"
     ]
    },
    {
     "name": "stdout",
     "output_type": "stream",
     "text": [
      "Valid Chunk rows: 779\n"
     ]
    },
    {
     "name": "stderr",
     "output_type": "stream",
     "text": [
      "Processing CSV:  44%|████▍     | 220000/502368 [03:32<04:31, 1038.37rows/s]"
     ]
    },
    {
     "name": "stdout",
     "output_type": "stream",
     "text": [
      "Valid Chunk rows: 761\n"
     ]
    },
    {
     "name": "stderr",
     "output_type": "stream",
     "text": [
      "Processing CSV:  45%|████▍     | 225000/502368 [03:37<04:26, 1041.15rows/s]"
     ]
    },
    {
     "name": "stdout",
     "output_type": "stream",
     "text": [
      "Valid Chunk rows: 793\n"
     ]
    },
    {
     "name": "stderr",
     "output_type": "stream",
     "text": [
      "Processing CSV:  46%|████▌     | 230000/502368 [03:42<04:27, 1018.15rows/s]"
     ]
    },
    {
     "name": "stdout",
     "output_type": "stream",
     "text": [
      "Valid Chunk rows: 749\n"
     ]
    },
    {
     "name": "stderr",
     "output_type": "stream",
     "text": [
      "Processing CSV:  47%|████▋     | 235000/502368 [03:47<04:28, 995.50rows/s] "
     ]
    },
    {
     "name": "stdout",
     "output_type": "stream",
     "text": [
      "Valid Chunk rows: 785\n"
     ]
    },
    {
     "name": "stderr",
     "output_type": "stream",
     "text": [
      "Processing CSV:  48%|████▊     | 240000/502368 [03:52<04:18, 1014.37rows/s]"
     ]
    },
    {
     "name": "stdout",
     "output_type": "stream",
     "text": [
      "Valid Chunk rows: 742\n"
     ]
    },
    {
     "name": "stderr",
     "output_type": "stream",
     "text": [
      "Processing CSV:  49%|████▉     | 245000/502368 [03:56<04:08, 1034.94rows/s]"
     ]
    },
    {
     "name": "stdout",
     "output_type": "stream",
     "text": [
      "Valid Chunk rows: 771\n"
     ]
    },
    {
     "name": "stderr",
     "output_type": "stream",
     "text": [
      "Processing CSV:  50%|████▉     | 250000/502368 [04:01<04:01, 1043.92rows/s]"
     ]
    },
    {
     "name": "stdout",
     "output_type": "stream",
     "text": [
      "Valid Chunk rows: 780\n"
     ]
    },
    {
     "name": "stderr",
     "output_type": "stream",
     "text": [
      "Processing CSV:  51%|█████     | 255000/502368 [04:06<03:56, 1044.07rows/s]"
     ]
    },
    {
     "name": "stdout",
     "output_type": "stream",
     "text": [
      "Valid Chunk rows: 770\n"
     ]
    },
    {
     "name": "stderr",
     "output_type": "stream",
     "text": [
      "Processing CSV:  52%|█████▏    | 260000/502368 [04:11<03:52, 1041.58rows/s]"
     ]
    },
    {
     "name": "stdout",
     "output_type": "stream",
     "text": [
      "Valid Chunk rows: 778\n"
     ]
    },
    {
     "name": "stderr",
     "output_type": "stream",
     "text": [
      "Processing CSV:  53%|█████▎    | 265000/502368 [04:15<03:46, 1045.99rows/s]"
     ]
    },
    {
     "name": "stdout",
     "output_type": "stream",
     "text": [
      "Valid Chunk rows: 763\n"
     ]
    },
    {
     "name": "stderr",
     "output_type": "stream",
     "text": [
      "Processing CSV:  54%|█████▎    | 270000/502368 [04:20<03:42, 1043.36rows/s]"
     ]
    },
    {
     "name": "stdout",
     "output_type": "stream",
     "text": [
      "Valid Chunk rows: 773\n"
     ]
    },
    {
     "name": "stderr",
     "output_type": "stream",
     "text": [
      "Processing CSV:  55%|█████▍    | 275000/502368 [04:25<03:39, 1038.03rows/s]"
     ]
    },
    {
     "name": "stdout",
     "output_type": "stream",
     "text": [
      "Valid Chunk rows: 803\n"
     ]
    },
    {
     "name": "stderr",
     "output_type": "stream",
     "text": [
      "Processing CSV:  56%|█████▌    | 280000/502368 [04:30<03:36, 1029.35rows/s]"
     ]
    },
    {
     "name": "stdout",
     "output_type": "stream",
     "text": [
      "Valid Chunk rows: 773\n"
     ]
    },
    {
     "name": "stderr",
     "output_type": "stream",
     "text": [
      "Processing CSV:  57%|█████▋    | 285000/502368 [04:35<03:30, 1032.65rows/s]"
     ]
    },
    {
     "name": "stdout",
     "output_type": "stream",
     "text": [
      "Valid Chunk rows: 830\n"
     ]
    },
    {
     "name": "stderr",
     "output_type": "stream",
     "text": [
      "Processing CSV:  58%|█████▊    | 290000/502368 [04:40<03:22, 1046.16rows/s]"
     ]
    },
    {
     "name": "stdout",
     "output_type": "stream",
     "text": [
      "Valid Chunk rows: 783\n"
     ]
    },
    {
     "name": "stderr",
     "output_type": "stream",
     "text": [
      "Processing CSV:  59%|█████▊    | 295000/502368 [04:44<03:18, 1047.22rows/s]"
     ]
    },
    {
     "name": "stdout",
     "output_type": "stream",
     "text": [
      "Valid Chunk rows: 758\n"
     ]
    },
    {
     "name": "stderr",
     "output_type": "stream",
     "text": [
      "Processing CSV:  60%|█████▉    | 300000/502368 [04:49<03:12, 1049.88rows/s]"
     ]
    },
    {
     "name": "stdout",
     "output_type": "stream",
     "text": [
      "Valid Chunk rows: 790\n"
     ]
    },
    {
     "name": "stderr",
     "output_type": "stream",
     "text": [
      "Processing CSV:  61%|██████    | 305000/502368 [04:54<03:07, 1052.23rows/s]"
     ]
    },
    {
     "name": "stdout",
     "output_type": "stream",
     "text": [
      "Valid Chunk rows: 804\n"
     ]
    },
    {
     "name": "stderr",
     "output_type": "stream",
     "text": [
      "Processing CSV:  62%|██████▏   | 310000/502368 [04:58<03:02, 1054.23rows/s]"
     ]
    },
    {
     "name": "stdout",
     "output_type": "stream",
     "text": [
      "Valid Chunk rows: 784\n"
     ]
    },
    {
     "name": "stderr",
     "output_type": "stream",
     "text": [
      "Processing CSV:  63%|██████▎   | 315000/502368 [05:03<02:57, 1053.91rows/s]"
     ]
    },
    {
     "name": "stdout",
     "output_type": "stream",
     "text": [
      "Valid Chunk rows: 827\n"
     ]
    },
    {
     "name": "stderr",
     "output_type": "stream",
     "text": [
      "Processing CSV:  64%|██████▎   | 320000/502368 [05:08<02:53, 1053.14rows/s]"
     ]
    },
    {
     "name": "stdout",
     "output_type": "stream",
     "text": [
      "Valid Chunk rows: 761\n"
     ]
    },
    {
     "name": "stderr",
     "output_type": "stream",
     "text": [
      "Processing CSV:  65%|██████▍   | 325000/502368 [05:13<02:49, 1045.00rows/s]"
     ]
    },
    {
     "name": "stdout",
     "output_type": "stream",
     "text": [
      "Valid Chunk rows: 775\n"
     ]
    },
    {
     "name": "stderr",
     "output_type": "stream",
     "text": [
      "Processing CSV:  66%|██████▌   | 330000/502368 [05:18<02:48, 1021.72rows/s]"
     ]
    },
    {
     "name": "stdout",
     "output_type": "stream",
     "text": [
      "Valid Chunk rows: 750\n"
     ]
    },
    {
     "name": "stderr",
     "output_type": "stream",
     "text": [
      "Processing CSV:  67%|██████▋   | 335000/502368 [05:23<02:44, 1019.82rows/s]"
     ]
    },
    {
     "name": "stdout",
     "output_type": "stream",
     "text": [
      "Valid Chunk rows: 820\n"
     ]
    },
    {
     "name": "stderr",
     "output_type": "stream",
     "text": [
      "Processing CSV:  68%|██████▊   | 340000/502368 [05:28<02:38, 1022.84rows/s]"
     ]
    },
    {
     "name": "stdout",
     "output_type": "stream",
     "text": [
      "Valid Chunk rows: 754\n"
     ]
    },
    {
     "name": "stderr",
     "output_type": "stream",
     "text": [
      "Processing CSV:  69%|██████▊   | 345000/502368 [05:32<02:31, 1036.37rows/s]"
     ]
    },
    {
     "name": "stdout",
     "output_type": "stream",
     "text": [
      "Valid Chunk rows: 775\n"
     ]
    },
    {
     "name": "stderr",
     "output_type": "stream",
     "text": [
      "Processing CSV:  70%|██████▉   | 350000/502368 [05:37<02:26, 1042.54rows/s]"
     ]
    },
    {
     "name": "stdout",
     "output_type": "stream",
     "text": [
      "Valid Chunk rows: 806\n"
     ]
    },
    {
     "name": "stderr",
     "output_type": "stream",
     "text": [
      "Processing CSV:  71%|███████   | 355000/502368 [05:42<02:20, 1049.09rows/s]"
     ]
    },
    {
     "name": "stdout",
     "output_type": "stream",
     "text": [
      "Valid Chunk rows: 741\n"
     ]
    },
    {
     "name": "stderr",
     "output_type": "stream",
     "text": [
      "Processing CSV:  72%|███████▏  | 360000/502368 [05:47<02:15, 1052.72rows/s]"
     ]
    },
    {
     "name": "stdout",
     "output_type": "stream",
     "text": [
      "Valid Chunk rows: 784\n"
     ]
    },
    {
     "name": "stderr",
     "output_type": "stream",
     "text": [
      "Processing CSV:  73%|███████▎  | 365000/502368 [05:51<02:11, 1047.48rows/s]"
     ]
    },
    {
     "name": "stdout",
     "output_type": "stream",
     "text": [
      "Valid Chunk rows: 800\n"
     ]
    },
    {
     "name": "stderr",
     "output_type": "stream",
     "text": [
      "Processing CSV:  74%|███████▎  | 370000/502368 [05:56<02:06, 1049.66rows/s]"
     ]
    },
    {
     "name": "stdout",
     "output_type": "stream",
     "text": [
      "Valid Chunk rows: 787\n"
     ]
    },
    {
     "name": "stderr",
     "output_type": "stream",
     "text": [
      "Processing CSV:  75%|███████▍  | 375000/502368 [06:01<02:01, 1048.12rows/s]"
     ]
    },
    {
     "name": "stdout",
     "output_type": "stream",
     "text": [
      "Valid Chunk rows: 752\n"
     ]
    },
    {
     "name": "stderr",
     "output_type": "stream",
     "text": [
      "Processing CSV:  76%|███████▌  | 380000/502368 [06:06<01:56, 1048.79rows/s]"
     ]
    },
    {
     "name": "stdout",
     "output_type": "stream",
     "text": [
      "Valid Chunk rows: 772\n"
     ]
    },
    {
     "name": "stderr",
     "output_type": "stream",
     "text": [
      "Processing CSV:  77%|███████▋  | 385000/502368 [06:10<01:51, 1051.19rows/s]"
     ]
    },
    {
     "name": "stdout",
     "output_type": "stream",
     "text": [
      "Valid Chunk rows: 765\n"
     ]
    },
    {
     "name": "stderr",
     "output_type": "stream",
     "text": [
      "Processing CSV:  78%|███████▊  | 390000/502368 [06:15<01:46, 1050.32rows/s]"
     ]
    },
    {
     "name": "stdout",
     "output_type": "stream",
     "text": [
      "Valid Chunk rows: 773\n"
     ]
    },
    {
     "name": "stderr",
     "output_type": "stream",
     "text": [
      "Processing CSV:  79%|███████▊  | 395000/502368 [06:20<01:41, 1054.52rows/s]"
     ]
    },
    {
     "name": "stdout",
     "output_type": "stream",
     "text": [
      "Valid Chunk rows: 786\n"
     ]
    },
    {
     "name": "stderr",
     "output_type": "stream",
     "text": [
      "Processing CSV:  80%|███████▉  | 400000/502368 [06:25<01:36, 1059.19rows/s]"
     ]
    },
    {
     "name": "stdout",
     "output_type": "stream",
     "text": [
      "Valid Chunk rows: 719\n"
     ]
    },
    {
     "name": "stderr",
     "output_type": "stream",
     "text": [
      "Processing CSV:  81%|████████  | 405000/502368 [06:29<01:32, 1058.11rows/s]"
     ]
    },
    {
     "name": "stdout",
     "output_type": "stream",
     "text": [
      "Valid Chunk rows: 773\n"
     ]
    },
    {
     "name": "stderr",
     "output_type": "stream",
     "text": [
      "Processing CSV:  82%|████████▏ | 410000/502368 [06:34<01:27, 1056.45rows/s]"
     ]
    },
    {
     "name": "stdout",
     "output_type": "stream",
     "text": [
      "Valid Chunk rows: 748\n"
     ]
    },
    {
     "name": "stderr",
     "output_type": "stream",
     "text": [
      "Processing CSV:  83%|████████▎ | 415000/502368 [06:39<01:23, 1051.69rows/s]"
     ]
    },
    {
     "name": "stdout",
     "output_type": "stream",
     "text": [
      "Valid Chunk rows: 807\n"
     ]
    },
    {
     "name": "stderr",
     "output_type": "stream",
     "text": [
      "Processing CSV:  84%|████████▎ | 420000/502368 [06:44<01:18, 1053.77rows/s]"
     ]
    },
    {
     "name": "stdout",
     "output_type": "stream",
     "text": [
      "Valid Chunk rows: 760\n"
     ]
    },
    {
     "name": "stderr",
     "output_type": "stream",
     "text": [
      "Processing CSV:  85%|████████▍ | 425000/502368 [06:48<01:13, 1049.98rows/s]"
     ]
    },
    {
     "name": "stdout",
     "output_type": "stream",
     "text": [
      "Valid Chunk rows: 709\n"
     ]
    },
    {
     "name": "stderr",
     "output_type": "stream",
     "text": [
      "Processing CSV:  86%|████████▌ | 430000/502368 [06:53<01:08, 1059.07rows/s]"
     ]
    },
    {
     "name": "stdout",
     "output_type": "stream",
     "text": [
      "Valid Chunk rows: 806\n"
     ]
    },
    {
     "name": "stderr",
     "output_type": "stream",
     "text": [
      "Processing CSV:  87%|████████▋ | 435000/502368 [06:58<01:03, 1056.10rows/s]"
     ]
    },
    {
     "name": "stdout",
     "output_type": "stream",
     "text": [
      "Valid Chunk rows: 770\n"
     ]
    },
    {
     "name": "stderr",
     "output_type": "stream",
     "text": [
      "Processing CSV:  88%|████████▊ | 440000/502368 [07:02<00:58, 1064.27rows/s]"
     ]
    },
    {
     "name": "stdout",
     "output_type": "stream",
     "text": [
      "Valid Chunk rows: 764\n"
     ]
    },
    {
     "name": "stderr",
     "output_type": "stream",
     "text": [
      "Processing CSV:  89%|████████▊ | 445000/502368 [07:07<00:53, 1062.77rows/s]"
     ]
    },
    {
     "name": "stdout",
     "output_type": "stream",
     "text": [
      "Valid Chunk rows: 776\n"
     ]
    },
    {
     "name": "stderr",
     "output_type": "stream",
     "text": [
      "Processing CSV:  90%|████████▉ | 450000/502368 [07:13<00:51, 1016.95rows/s]"
     ]
    },
    {
     "name": "stdout",
     "output_type": "stream",
     "text": [
      "Valid Chunk rows: 750\n"
     ]
    },
    {
     "name": "stderr",
     "output_type": "stream",
     "text": [
      "Processing CSV:  91%|█████████ | 455000/502368 [07:17<00:46, 1024.77rows/s]"
     ]
    },
    {
     "name": "stdout",
     "output_type": "stream",
     "text": [
      "Valid Chunk rows: 768\n"
     ]
    },
    {
     "name": "stderr",
     "output_type": "stream",
     "text": [
      "Processing CSV:  92%|█████████▏| 460000/502368 [07:22<00:41, 1031.27rows/s]"
     ]
    },
    {
     "name": "stdout",
     "output_type": "stream",
     "text": [
      "Valid Chunk rows: 761\n"
     ]
    },
    {
     "name": "stderr",
     "output_type": "stream",
     "text": [
      "Processing CSV:  93%|█████████▎| 465000/502368 [07:27<00:35, 1038.61rows/s]"
     ]
    },
    {
     "name": "stdout",
     "output_type": "stream",
     "text": [
      "Valid Chunk rows: 782\n"
     ]
    },
    {
     "name": "stderr",
     "output_type": "stream",
     "text": [
      "Processing CSV:  94%|█████████▎| 470000/502368 [07:32<00:30, 1045.69rows/s]"
     ]
    },
    {
     "name": "stdout",
     "output_type": "stream",
     "text": [
      "Valid Chunk rows: 725\n"
     ]
    },
    {
     "name": "stderr",
     "output_type": "stream",
     "text": [
      "Processing CSV:  95%|█████████▍| 475000/502368 [07:36<00:26, 1050.89rows/s]"
     ]
    },
    {
     "name": "stdout",
     "output_type": "stream",
     "text": [
      "Valid Chunk rows: 772\n"
     ]
    },
    {
     "name": "stderr",
     "output_type": "stream",
     "text": [
      "Processing CSV:  96%|█████████▌| 480000/502368 [07:41<00:21, 1054.70rows/s]"
     ]
    },
    {
     "name": "stdout",
     "output_type": "stream",
     "text": [
      "Valid Chunk rows: 795\n"
     ]
    },
    {
     "name": "stderr",
     "output_type": "stream",
     "text": [
      "Processing CSV:  97%|█████████▋| 485000/502368 [07:46<00:16, 1056.93rows/s]"
     ]
    },
    {
     "name": "stdout",
     "output_type": "stream",
     "text": [
      "Valid Chunk rows: 773\n"
     ]
    },
    {
     "name": "stderr",
     "output_type": "stream",
     "text": [
      "Processing CSV:  98%|█████████▊| 490000/502368 [07:51<00:11, 1034.46rows/s]"
     ]
    },
    {
     "name": "stdout",
     "output_type": "stream",
     "text": [
      "Valid Chunk rows: 764\n"
     ]
    },
    {
     "name": "stderr",
     "output_type": "stream",
     "text": [
      "Processing CSV:  99%|█████████▊| 495000/502368 [07:55<00:07, 1039.52rows/s]"
     ]
    },
    {
     "name": "stdout",
     "output_type": "stream",
     "text": [
      "Valid Chunk rows: 804\n"
     ]
    },
    {
     "name": "stderr",
     "output_type": "stream",
     "text": [
      "Processing CSV: 100%|█████████▉| 500000/502368 [08:00<00:02, 1032.12rows/s]"
     ]
    },
    {
     "name": "stdout",
     "output_type": "stream",
     "text": [
      "Valid Chunk rows: 371\n"
     ]
    },
    {
     "name": "stderr",
     "output_type": "stream",
     "text": [
      "Processing CSV: 505000rows [08:03, 1044.78rows/s]                          \n"
     ]
    },
    {
     "name": "stdout",
     "output_type": "stream",
     "text": [
      "Dropping empty columns and creating the formal table: Variables\n",
      "Dropping empty column: 5983-1.105\n",
      "Dropping empty column: 5983-1.106\n",
      "Dropping empty column: 5983-1.107\n",
      "Dropping empty column: 5983-1.108\n",
      "Dropping empty column: 5983-1.109\n",
      "Dropping empty column: 5983-1.110\n",
      "Dropping empty column: 5983-1.111\n",
      "Dropping empty column: 5984-1.105\n",
      "Dropping empty column: 5984-1.106\n",
      "Dropping empty column: 5984-1.107\n",
      "Dropping empty column: 5984-1.108\n",
      "Dropping empty column: 5984-1.109\n",
      "Dropping empty column: 5984-1.110\n",
      "Dropping empty column: 5984-1.111\n",
      "Dropping empty column: 5984-1.112\n",
      "Dropping empty column: 5984-1.113\n",
      "Dropping empty column: 5985-1.105\n",
      "Dropping empty column: 5985-1.106\n",
      "Dropping empty column: 5985-1.107\n",
      "Dropping empty column: 5985-1.108\n",
      "Dropping empty column: 5985-1.109\n",
      "Dropping empty column: 5985-1.110\n",
      "Dropping empty column: 5985-1.111\n",
      "Dropping empty column: 5985-1.112\n",
      "Dropping empty column: 5985-1.113\n",
      "Dropping empty column: 5987-1.105\n",
      "Dropping empty column: 5987-1.106\n",
      "Dropping empty column: 5987-1.107\n",
      "Dropping empty column: 5987-1.108\n",
      "Dropping empty column: 5987-1.109\n",
      "Dropping empty column: 5987-1.110\n",
      "Dropping empty column: 5987-1.111\n",
      "Dropping empty column: 5987-1.112\n",
      "Dropping empty column: 5987-1.113\n",
      "Dropping empty column: 5988-1.105\n",
      "Dropping empty column: 5988-1.106\n",
      "Dropping empty column: 5988-1.107\n",
      "Dropping empty column: 5988-1.108\n",
      "Dropping empty column: 5988-1.109\n",
      "Dropping empty column: 5988-1.110\n",
      "Dropping empty column: 5988-1.111\n",
      "Dropping empty column: 5988-1.112\n",
      "Dropping empty column: 5988-1.113\n",
      "Dropping empty column: 6150-1.3\n",
      "Dropping empty column: 6153-3.3\n",
      "There will be 1224 columns in the table: Variables\n"
     ]
    }
   ],
   "source": [
    "generate_table_from_csv(Variables_table_name, Variables_columns_ID)"
   ]
  },
  {
   "cell_type": "code",
   "execution_count": 62,
   "metadata": {},
   "outputs": [
    {
     "name": "stdout",
     "output_type": "stream",
     "text": [
      "(0, 'eid', 'INTEGER', 0, None, 1)\n",
      "(1, '31-0.0', '', 0, None, 0)\n",
      "(2, '34-0.0', '', 0, None, 0)\n",
      "(3, '50-0.0', '', 0, None, 0)\n",
      "(4, '50-1.0', '', 0, None, 0)\n",
      "(5, '50-2.0', '', 0, None, 0)\n",
      "(6, '50-3.0', '', 0, None, 0)\n",
      "(7, '52-0.0', '', 0, None, 0)\n",
      "(8, '2443-0.0', '', 0, None, 0)\n",
      "(9, '2443-1.0', '', 0, None, 0)\n",
      "(10, '2443-2.0', '', 0, None, 0)\n",
      "(11, '2443-3.0', '', 0, None, 0)\n",
      "(12, '4080-0.0', '', 0, None, 0)\n",
      "(13, '4080-0.1', '', 0, None, 0)\n",
      "(14, '4080-1.0', '', 0, None, 0)\n",
      "(15, '4080-1.1', '', 0, None, 0)\n",
      "(16, '4080-2.0', '', 0, None, 0)\n",
      "(17, '4080-2.1', '', 0, None, 0)\n",
      "(18, '4080-3.0', '', 0, None, 0)\n",
      "(19, '4080-3.1', '', 0, None, 0)\n",
      "(20, '5983-0.0', '', 0, None, 0)\n",
      "(21, '5983-0.1', '', 0, None, 0)\n",
      "(22, '5983-0.2', '', 0, None, 0)\n",
      "(23, '5983-0.3', '', 0, None, 0)\n",
      "(24, '5983-0.4', '', 0, None, 0)\n",
      "(25, '5983-0.5', '', 0, None, 0)\n",
      "(26, '5983-0.6', '', 0, None, 0)\n",
      "(27, '5983-0.7', '', 0, None, 0)\n",
      "(28, '5983-0.8', '', 0, None, 0)\n",
      "(29, '5983-0.9', '', 0, None, 0)\n",
      "(30, '5983-0.10', '', 0, None, 0)\n",
      "(31, '5983-0.11', '', 0, None, 0)\n",
      "(32, '5983-0.12', '', 0, None, 0)\n",
      "(33, '5983-0.13', '', 0, None, 0)\n",
      "(34, '5983-0.14', '', 0, None, 0)\n",
      "(35, '5983-0.15', '', 0, None, 0)\n",
      "(36, '5983-0.16', '', 0, None, 0)\n",
      "(37, '5983-0.17', '', 0, None, 0)\n",
      "(38, '5983-0.18', '', 0, None, 0)\n",
      "(39, '5983-0.19', '', 0, None, 0)\n",
      "(40, '5983-0.20', '', 0, None, 0)\n",
      "(41, '5983-0.21', '', 0, None, 0)\n",
      "(42, '5983-0.22', '', 0, None, 0)\n",
      "(43, '5983-0.23', '', 0, None, 0)\n",
      "(44, '5983-0.24', '', 0, None, 0)\n",
      "(45, '5983-0.25', '', 0, None, 0)\n",
      "(46, '5983-0.26', '', 0, None, 0)\n",
      "(47, '5983-0.27', '', 0, None, 0)\n",
      "(48, '5983-0.28', '', 0, None, 0)\n",
      "(49, '5983-0.29', '', 0, None, 0)\n",
      "(50, '5983-0.30', '', 0, None, 0)\n",
      "(51, '5983-0.31', '', 0, None, 0)\n",
      "(52, '5983-0.32', '', 0, None, 0)\n",
      "(53, '5983-0.33', '', 0, None, 0)\n",
      "(54, '5983-0.34', '', 0, None, 0)\n",
      "(55, '5983-0.35', '', 0, None, 0)\n",
      "(56, '5983-0.36', '', 0, None, 0)\n",
      "(57, '5983-0.37', '', 0, None, 0)\n",
      "(58, '5983-0.38', '', 0, None, 0)\n",
      "(59, '5983-0.39', '', 0, None, 0)\n",
      "(60, '5983-0.40', '', 0, None, 0)\n",
      "(61, '5983-0.41', '', 0, None, 0)\n",
      "(62, '5983-0.42', '', 0, None, 0)\n",
      "(63, '5983-0.43', '', 0, None, 0)\n",
      "(64, '5983-0.44', '', 0, None, 0)\n",
      "(65, '5983-0.45', '', 0, None, 0)\n",
      "(66, '5983-0.46', '', 0, None, 0)\n",
      "(67, '5983-0.47', '', 0, None, 0)\n",
      "(68, '5983-0.48', '', 0, None, 0)\n",
      "(69, '5983-0.49', '', 0, None, 0)\n",
      "(70, '5983-0.50', '', 0, None, 0)\n",
      "(71, '5983-0.51', '', 0, None, 0)\n",
      "(72, '5983-0.52', '', 0, None, 0)\n",
      "(73, '5983-0.53', '', 0, None, 0)\n",
      "(74, '5983-0.54', '', 0, None, 0)\n",
      "(75, '5983-0.55', '', 0, None, 0)\n",
      "(76, '5983-0.56', '', 0, None, 0)\n",
      "(77, '5983-0.57', '', 0, None, 0)\n",
      "(78, '5983-0.58', '', 0, None, 0)\n",
      "(79, '5983-0.59', '', 0, None, 0)\n",
      "(80, '5983-0.60', '', 0, None, 0)\n",
      "(81, '5983-0.61', '', 0, None, 0)\n",
      "(82, '5983-0.62', '', 0, None, 0)\n",
      "(83, '5983-0.63', '', 0, None, 0)\n",
      "(84, '5983-0.64', '', 0, None, 0)\n",
      "(85, '5983-0.65', '', 0, None, 0)\n",
      "(86, '5983-0.66', '', 0, None, 0)\n",
      "(87, '5983-0.67', '', 0, None, 0)\n",
      "(88, '5983-0.68', '', 0, None, 0)\n",
      "(89, '5983-0.69', '', 0, None, 0)\n",
      "(90, '5983-0.70', '', 0, None, 0)\n",
      "(91, '5983-0.71', '', 0, None, 0)\n",
      "(92, '5983-0.72', '', 0, None, 0)\n",
      "(93, '5983-0.73', '', 0, None, 0)\n",
      "(94, '5983-0.74', '', 0, None, 0)\n",
      "(95, '5983-0.75', '', 0, None, 0)\n",
      "(96, '5983-0.76', '', 0, None, 0)\n",
      "(97, '5983-0.77', '', 0, None, 0)\n",
      "(98, '5983-0.78', '', 0, None, 0)\n",
      "(99, '5983-0.79', '', 0, None, 0)\n",
      "(100, '5983-0.80', '', 0, None, 0)\n",
      "(101, '5983-0.81', '', 0, None, 0)\n",
      "(102, '5983-0.82', '', 0, None, 0)\n",
      "(103, '5983-0.83', '', 0, None, 0)\n",
      "(104, '5983-0.84', '', 0, None, 0)\n",
      "(105, '5983-0.85', '', 0, None, 0)\n",
      "(106, '5983-0.86', '', 0, None, 0)\n",
      "(107, '5983-0.87', '', 0, None, 0)\n",
      "(108, '5983-0.88', '', 0, None, 0)\n",
      "(109, '5983-0.89', '', 0, None, 0)\n",
      "(110, '5983-0.90', '', 0, None, 0)\n",
      "(111, '5983-0.91', '', 0, None, 0)\n",
      "(112, '5983-0.92', '', 0, None, 0)\n",
      "(113, '5983-0.93', '', 0, None, 0)\n",
      "(114, '5983-0.94', '', 0, None, 0)\n",
      "(115, '5983-0.95', '', 0, None, 0)\n",
      "(116, '5983-0.96', '', 0, None, 0)\n",
      "(117, '5983-0.97', '', 0, None, 0)\n",
      "(118, '5983-0.98', '', 0, None, 0)\n",
      "(119, '5983-0.99', '', 0, None, 0)\n",
      "(120, '5983-0.100', '', 0, None, 0)\n",
      "(121, '5983-0.101', '', 0, None, 0)\n",
      "(122, '5983-0.102', '', 0, None, 0)\n",
      "(123, '5983-0.103', '', 0, None, 0)\n",
      "(124, '5983-0.104', '', 0, None, 0)\n",
      "(125, '5983-0.105', '', 0, None, 0)\n",
      "(126, '5983-0.106', '', 0, None, 0)\n",
      "(127, '5983-0.107', '', 0, None, 0)\n",
      "(128, '5983-0.108', '', 0, None, 0)\n",
      "(129, '5983-0.109', '', 0, None, 0)\n",
      "(130, '5983-0.110', '', 0, None, 0)\n",
      "(131, '5983-0.111', '', 0, None, 0)\n",
      "(132, '5983-1.0', '', 0, None, 0)\n",
      "(133, '5983-1.1', '', 0, None, 0)\n",
      "(134, '5983-1.2', '', 0, None, 0)\n",
      "(135, '5983-1.3', '', 0, None, 0)\n",
      "(136, '5983-1.4', '', 0, None, 0)\n",
      "(137, '5983-1.5', '', 0, None, 0)\n",
      "(138, '5983-1.6', '', 0, None, 0)\n",
      "(139, '5983-1.7', '', 0, None, 0)\n",
      "(140, '5983-1.8', '', 0, None, 0)\n",
      "(141, '5983-1.9', '', 0, None, 0)\n",
      "(142, '5983-1.10', '', 0, None, 0)\n",
      "(143, '5983-1.11', '', 0, None, 0)\n",
      "(144, '5983-1.12', '', 0, None, 0)\n",
      "(145, '5983-1.13', '', 0, None, 0)\n",
      "(146, '5983-1.14', '', 0, None, 0)\n",
      "(147, '5983-1.15', '', 0, None, 0)\n",
      "(148, '5983-1.16', '', 0, None, 0)\n",
      "(149, '5983-1.17', '', 0, None, 0)\n",
      "(150, '5983-1.18', '', 0, None, 0)\n",
      "(151, '5983-1.19', '', 0, None, 0)\n",
      "(152, '5983-1.20', '', 0, None, 0)\n",
      "(153, '5983-1.21', '', 0, None, 0)\n",
      "(154, '5983-1.22', '', 0, None, 0)\n",
      "(155, '5983-1.23', '', 0, None, 0)\n",
      "(156, '5983-1.24', '', 0, None, 0)\n",
      "(157, '5983-1.25', '', 0, None, 0)\n",
      "(158, '5983-1.26', '', 0, None, 0)\n",
      "(159, '5983-1.27', '', 0, None, 0)\n",
      "(160, '5983-1.28', '', 0, None, 0)\n",
      "(161, '5983-1.29', '', 0, None, 0)\n",
      "(162, '5983-1.30', '', 0, None, 0)\n",
      "(163, '5983-1.31', '', 0, None, 0)\n",
      "(164, '5983-1.32', '', 0, None, 0)\n",
      "(165, '5983-1.33', '', 0, None, 0)\n",
      "(166, '5983-1.34', '', 0, None, 0)\n",
      "(167, '5983-1.35', '', 0, None, 0)\n",
      "(168, '5983-1.36', '', 0, None, 0)\n",
      "(169, '5983-1.37', '', 0, None, 0)\n",
      "(170, '5983-1.38', '', 0, None, 0)\n",
      "(171, '5983-1.39', '', 0, None, 0)\n",
      "(172, '5983-1.40', '', 0, None, 0)\n",
      "(173, '5983-1.41', '', 0, None, 0)\n",
      "(174, '5983-1.42', '', 0, None, 0)\n",
      "(175, '5983-1.43', '', 0, None, 0)\n",
      "(176, '5983-1.44', '', 0, None, 0)\n",
      "(177, '5983-1.45', '', 0, None, 0)\n",
      "(178, '5983-1.46', '', 0, None, 0)\n",
      "(179, '5983-1.47', '', 0, None, 0)\n",
      "(180, '5983-1.48', '', 0, None, 0)\n",
      "(181, '5983-1.49', '', 0, None, 0)\n",
      "(182, '5983-1.50', '', 0, None, 0)\n",
      "(183, '5983-1.51', '', 0, None, 0)\n",
      "(184, '5983-1.52', '', 0, None, 0)\n",
      "(185, '5983-1.53', '', 0, None, 0)\n",
      "(186, '5983-1.54', '', 0, None, 0)\n",
      "(187, '5983-1.55', '', 0, None, 0)\n",
      "(188, '5983-1.56', '', 0, None, 0)\n",
      "(189, '5983-1.57', '', 0, None, 0)\n",
      "(190, '5983-1.58', '', 0, None, 0)\n",
      "(191, '5983-1.59', '', 0, None, 0)\n",
      "(192, '5983-1.60', '', 0, None, 0)\n",
      "(193, '5983-1.61', '', 0, None, 0)\n",
      "(194, '5983-1.62', '', 0, None, 0)\n",
      "(195, '5983-1.63', '', 0, None, 0)\n",
      "(196, '5983-1.64', '', 0, None, 0)\n",
      "(197, '5983-1.65', '', 0, None, 0)\n",
      "(198, '5983-1.66', '', 0, None, 0)\n",
      "(199, '5983-1.67', '', 0, None, 0)\n",
      "(200, '5983-1.68', '', 0, None, 0)\n",
      "(201, '5983-1.69', '', 0, None, 0)\n",
      "(202, '5983-1.70', '', 0, None, 0)\n",
      "(203, '5983-1.71', '', 0, None, 0)\n",
      "(204, '5983-1.72', '', 0, None, 0)\n",
      "(205, '5983-1.73', '', 0, None, 0)\n",
      "(206, '5983-1.74', '', 0, None, 0)\n",
      "(207, '5983-1.75', '', 0, None, 0)\n",
      "(208, '5983-1.76', '', 0, None, 0)\n",
      "(209, '5983-1.77', '', 0, None, 0)\n",
      "(210, '5983-1.78', '', 0, None, 0)\n",
      "(211, '5983-1.79', '', 0, None, 0)\n",
      "(212, '5983-1.80', '', 0, None, 0)\n",
      "(213, '5983-1.81', '', 0, None, 0)\n",
      "(214, '5983-1.82', '', 0, None, 0)\n",
      "(215, '5983-1.83', '', 0, None, 0)\n",
      "(216, '5983-1.84', '', 0, None, 0)\n",
      "(217, '5983-1.85', '', 0, None, 0)\n",
      "(218, '5983-1.86', '', 0, None, 0)\n",
      "(219, '5983-1.87', '', 0, None, 0)\n",
      "(220, '5983-1.88', '', 0, None, 0)\n",
      "(221, '5983-1.89', '', 0, None, 0)\n",
      "(222, '5983-1.90', '', 0, None, 0)\n",
      "(223, '5983-1.91', '', 0, None, 0)\n",
      "(224, '5983-1.92', '', 0, None, 0)\n",
      "(225, '5983-1.93', '', 0, None, 0)\n",
      "(226, '5983-1.94', '', 0, None, 0)\n",
      "(227, '5983-1.95', '', 0, None, 0)\n",
      "(228, '5983-1.96', '', 0, None, 0)\n",
      "(229, '5983-1.97', '', 0, None, 0)\n",
      "(230, '5983-1.98', '', 0, None, 0)\n",
      "(231, '5983-1.99', '', 0, None, 0)\n",
      "(232, '5983-1.100', '', 0, None, 0)\n",
      "(233, '5983-1.101', '', 0, None, 0)\n",
      "(234, '5983-1.102', '', 0, None, 0)\n",
      "(235, '5983-1.103', '', 0, None, 0)\n",
      "(236, '5983-1.104', '', 0, None, 0)\n",
      "(237, '5984-0.0', '', 0, None, 0)\n",
      "(238, '5984-0.1', '', 0, None, 0)\n",
      "(239, '5984-0.2', '', 0, None, 0)\n",
      "(240, '5984-0.3', '', 0, None, 0)\n",
      "(241, '5984-0.4', '', 0, None, 0)\n",
      "(242, '5984-0.5', '', 0, None, 0)\n",
      "(243, '5984-0.6', '', 0, None, 0)\n",
      "(244, '5984-0.7', '', 0, None, 0)\n",
      "(245, '5984-0.8', '', 0, None, 0)\n",
      "(246, '5984-0.9', '', 0, None, 0)\n",
      "(247, '5984-0.10', '', 0, None, 0)\n",
      "(248, '5984-0.11', '', 0, None, 0)\n",
      "(249, '5984-0.12', '', 0, None, 0)\n",
      "(250, '5984-0.13', '', 0, None, 0)\n",
      "(251, '5984-0.14', '', 0, None, 0)\n",
      "(252, '5984-0.15', '', 0, None, 0)\n",
      "(253, '5984-0.16', '', 0, None, 0)\n",
      "(254, '5984-0.17', '', 0, None, 0)\n",
      "(255, '5984-0.18', '', 0, None, 0)\n",
      "(256, '5984-0.19', '', 0, None, 0)\n",
      "(257, '5984-0.20', '', 0, None, 0)\n",
      "(258, '5984-0.21', '', 0, None, 0)\n",
      "(259, '5984-0.22', '', 0, None, 0)\n",
      "(260, '5984-0.23', '', 0, None, 0)\n",
      "(261, '5984-0.24', '', 0, None, 0)\n",
      "(262, '5984-0.25', '', 0, None, 0)\n",
      "(263, '5984-0.26', '', 0, None, 0)\n",
      "(264, '5984-0.27', '', 0, None, 0)\n",
      "(265, '5984-0.28', '', 0, None, 0)\n",
      "(266, '5984-0.29', '', 0, None, 0)\n",
      "(267, '5984-0.30', '', 0, None, 0)\n",
      "(268, '5984-0.31', '', 0, None, 0)\n",
      "(269, '5984-0.32', '', 0, None, 0)\n",
      "(270, '5984-0.33', '', 0, None, 0)\n",
      "(271, '5984-0.34', '', 0, None, 0)\n",
      "(272, '5984-0.35', '', 0, None, 0)\n",
      "(273, '5984-0.36', '', 0, None, 0)\n",
      "(274, '5984-0.37', '', 0, None, 0)\n",
      "(275, '5984-0.38', '', 0, None, 0)\n",
      "(276, '5984-0.39', '', 0, None, 0)\n",
      "(277, '5984-0.40', '', 0, None, 0)\n",
      "(278, '5984-0.41', '', 0, None, 0)\n",
      "(279, '5984-0.42', '', 0, None, 0)\n",
      "(280, '5984-0.43', '', 0, None, 0)\n",
      "(281, '5984-0.44', '', 0, None, 0)\n",
      "(282, '5984-0.45', '', 0, None, 0)\n",
      "(283, '5984-0.46', '', 0, None, 0)\n",
      "(284, '5984-0.47', '', 0, None, 0)\n",
      "(285, '5984-0.48', '', 0, None, 0)\n",
      "(286, '5984-0.49', '', 0, None, 0)\n",
      "(287, '5984-0.50', '', 0, None, 0)\n",
      "(288, '5984-0.51', '', 0, None, 0)\n",
      "(289, '5984-0.52', '', 0, None, 0)\n",
      "(290, '5984-0.53', '', 0, None, 0)\n",
      "(291, '5984-0.54', '', 0, None, 0)\n",
      "(292, '5984-0.55', '', 0, None, 0)\n",
      "(293, '5984-0.56', '', 0, None, 0)\n",
      "(294, '5984-0.57', '', 0, None, 0)\n",
      "(295, '5984-0.58', '', 0, None, 0)\n",
      "(296, '5984-0.59', '', 0, None, 0)\n",
      "(297, '5984-0.60', '', 0, None, 0)\n",
      "(298, '5984-0.61', '', 0, None, 0)\n",
      "(299, '5984-0.62', '', 0, None, 0)\n",
      "(300, '5984-0.63', '', 0, None, 0)\n",
      "(301, '5984-0.64', '', 0, None, 0)\n",
      "(302, '5984-0.65', '', 0, None, 0)\n",
      "(303, '5984-0.66', '', 0, None, 0)\n",
      "(304, '5984-0.67', '', 0, None, 0)\n",
      "(305, '5984-0.68', '', 0, None, 0)\n",
      "(306, '5984-0.69', '', 0, None, 0)\n",
      "(307, '5984-0.70', '', 0, None, 0)\n",
      "(308, '5984-0.71', '', 0, None, 0)\n",
      "(309, '5984-0.72', '', 0, None, 0)\n",
      "(310, '5984-0.73', '', 0, None, 0)\n",
      "(311, '5984-0.74', '', 0, None, 0)\n",
      "(312, '5984-0.75', '', 0, None, 0)\n",
      "(313, '5984-0.76', '', 0, None, 0)\n",
      "(314, '5984-0.77', '', 0, None, 0)\n",
      "(315, '5984-0.78', '', 0, None, 0)\n",
      "(316, '5984-0.79', '', 0, None, 0)\n",
      "(317, '5984-0.80', '', 0, None, 0)\n",
      "(318, '5984-0.81', '', 0, None, 0)\n",
      "(319, '5984-0.82', '', 0, None, 0)\n",
      "(320, '5984-0.83', '', 0, None, 0)\n",
      "(321, '5984-0.84', '', 0, None, 0)\n",
      "(322, '5984-0.85', '', 0, None, 0)\n",
      "(323, '5984-0.86', '', 0, None, 0)\n",
      "(324, '5984-0.87', '', 0, None, 0)\n",
      "(325, '5984-0.88', '', 0, None, 0)\n",
      "(326, '5984-0.89', '', 0, None, 0)\n",
      "(327, '5984-0.90', '', 0, None, 0)\n",
      "(328, '5984-0.91', '', 0, None, 0)\n",
      "(329, '5984-0.92', '', 0, None, 0)\n",
      "(330, '5984-0.93', '', 0, None, 0)\n",
      "(331, '5984-0.94', '', 0, None, 0)\n",
      "(332, '5984-0.95', '', 0, None, 0)\n",
      "(333, '5984-0.96', '', 0, None, 0)\n",
      "(334, '5984-0.97', '', 0, None, 0)\n",
      "(335, '5984-0.98', '', 0, None, 0)\n",
      "(336, '5984-0.99', '', 0, None, 0)\n",
      "(337, '5984-0.100', '', 0, None, 0)\n",
      "(338, '5984-0.101', '', 0, None, 0)\n",
      "(339, '5984-0.102', '', 0, None, 0)\n",
      "(340, '5984-0.103', '', 0, None, 0)\n",
      "(341, '5984-0.104', '', 0, None, 0)\n",
      "(342, '5984-0.105', '', 0, None, 0)\n",
      "(343, '5984-0.106', '', 0, None, 0)\n",
      "(344, '5984-0.107', '', 0, None, 0)\n",
      "(345, '5984-0.108', '', 0, None, 0)\n",
      "(346, '5984-0.109', '', 0, None, 0)\n",
      "(347, '5984-0.110', '', 0, None, 0)\n",
      "(348, '5984-0.111', '', 0, None, 0)\n",
      "(349, '5984-0.112', '', 0, None, 0)\n",
      "(350, '5984-0.113', '', 0, None, 0)\n",
      "(351, '5984-1.0', '', 0, None, 0)\n",
      "(352, '5984-1.1', '', 0, None, 0)\n",
      "(353, '5984-1.2', '', 0, None, 0)\n",
      "(354, '5984-1.3', '', 0, None, 0)\n",
      "(355, '5984-1.4', '', 0, None, 0)\n",
      "(356, '5984-1.5', '', 0, None, 0)\n",
      "(357, '5984-1.6', '', 0, None, 0)\n",
      "(358, '5984-1.7', '', 0, None, 0)\n",
      "(359, '5984-1.8', '', 0, None, 0)\n",
      "(360, '5984-1.9', '', 0, None, 0)\n",
      "(361, '5984-1.10', '', 0, None, 0)\n",
      "(362, '5984-1.11', '', 0, None, 0)\n",
      "(363, '5984-1.12', '', 0, None, 0)\n",
      "(364, '5984-1.13', '', 0, None, 0)\n",
      "(365, '5984-1.14', '', 0, None, 0)\n",
      "(366, '5984-1.15', '', 0, None, 0)\n",
      "(367, '5984-1.16', '', 0, None, 0)\n",
      "(368, '5984-1.17', '', 0, None, 0)\n",
      "(369, '5984-1.18', '', 0, None, 0)\n",
      "(370, '5984-1.19', '', 0, None, 0)\n",
      "(371, '5984-1.20', '', 0, None, 0)\n",
      "(372, '5984-1.21', '', 0, None, 0)\n",
      "(373, '5984-1.22', '', 0, None, 0)\n",
      "(374, '5984-1.23', '', 0, None, 0)\n",
      "(375, '5984-1.24', '', 0, None, 0)\n",
      "(376, '5984-1.25', '', 0, None, 0)\n",
      "(377, '5984-1.26', '', 0, None, 0)\n",
      "(378, '5984-1.27', '', 0, None, 0)\n",
      "(379, '5984-1.28', '', 0, None, 0)\n",
      "(380, '5984-1.29', '', 0, None, 0)\n",
      "(381, '5984-1.30', '', 0, None, 0)\n",
      "(382, '5984-1.31', '', 0, None, 0)\n",
      "(383, '5984-1.32', '', 0, None, 0)\n",
      "(384, '5984-1.33', '', 0, None, 0)\n",
      "(385, '5984-1.34', '', 0, None, 0)\n",
      "(386, '5984-1.35', '', 0, None, 0)\n",
      "(387, '5984-1.36', '', 0, None, 0)\n",
      "(388, '5984-1.37', '', 0, None, 0)\n",
      "(389, '5984-1.38', '', 0, None, 0)\n",
      "(390, '5984-1.39', '', 0, None, 0)\n",
      "(391, '5984-1.40', '', 0, None, 0)\n",
      "(392, '5984-1.41', '', 0, None, 0)\n",
      "(393, '5984-1.42', '', 0, None, 0)\n",
      "(394, '5984-1.43', '', 0, None, 0)\n",
      "(395, '5984-1.44', '', 0, None, 0)\n",
      "(396, '5984-1.45', '', 0, None, 0)\n",
      "(397, '5984-1.46', '', 0, None, 0)\n",
      "(398, '5984-1.47', '', 0, None, 0)\n",
      "(399, '5984-1.48', '', 0, None, 0)\n",
      "(400, '5984-1.49', '', 0, None, 0)\n",
      "(401, '5984-1.50', '', 0, None, 0)\n",
      "(402, '5984-1.51', '', 0, None, 0)\n",
      "(403, '5984-1.52', '', 0, None, 0)\n",
      "(404, '5984-1.53', '', 0, None, 0)\n",
      "(405, '5984-1.54', '', 0, None, 0)\n",
      "(406, '5984-1.55', '', 0, None, 0)\n",
      "(407, '5984-1.56', '', 0, None, 0)\n",
      "(408, '5984-1.57', '', 0, None, 0)\n",
      "(409, '5984-1.58', '', 0, None, 0)\n",
      "(410, '5984-1.59', '', 0, None, 0)\n",
      "(411, '5984-1.60', '', 0, None, 0)\n",
      "(412, '5984-1.61', '', 0, None, 0)\n",
      "(413, '5984-1.62', '', 0, None, 0)\n",
      "(414, '5984-1.63', '', 0, None, 0)\n",
      "(415, '5984-1.64', '', 0, None, 0)\n",
      "(416, '5984-1.65', '', 0, None, 0)\n",
      "(417, '5984-1.66', '', 0, None, 0)\n",
      "(418, '5984-1.67', '', 0, None, 0)\n",
      "(419, '5984-1.68', '', 0, None, 0)\n",
      "(420, '5984-1.69', '', 0, None, 0)\n",
      "(421, '5984-1.70', '', 0, None, 0)\n",
      "(422, '5984-1.71', '', 0, None, 0)\n",
      "(423, '5984-1.72', '', 0, None, 0)\n",
      "(424, '5984-1.73', '', 0, None, 0)\n",
      "(425, '5984-1.74', '', 0, None, 0)\n",
      "(426, '5984-1.75', '', 0, None, 0)\n",
      "(427, '5984-1.76', '', 0, None, 0)\n",
      "(428, '5984-1.77', '', 0, None, 0)\n",
      "(429, '5984-1.78', '', 0, None, 0)\n",
      "(430, '5984-1.79', '', 0, None, 0)\n",
      "(431, '5984-1.80', '', 0, None, 0)\n",
      "(432, '5984-1.81', '', 0, None, 0)\n",
      "(433, '5984-1.82', '', 0, None, 0)\n",
      "(434, '5984-1.83', '', 0, None, 0)\n",
      "(435, '5984-1.84', '', 0, None, 0)\n",
      "(436, '5984-1.85', '', 0, None, 0)\n",
      "(437, '5984-1.86', '', 0, None, 0)\n",
      "(438, '5984-1.87', '', 0, None, 0)\n",
      "(439, '5984-1.88', '', 0, None, 0)\n",
      "(440, '5984-1.89', '', 0, None, 0)\n",
      "(441, '5984-1.90', '', 0, None, 0)\n",
      "(442, '5984-1.91', '', 0, None, 0)\n",
      "(443, '5984-1.92', '', 0, None, 0)\n",
      "(444, '5984-1.93', '', 0, None, 0)\n",
      "(445, '5984-1.94', '', 0, None, 0)\n",
      "(446, '5984-1.95', '', 0, None, 0)\n",
      "(447, '5984-1.96', '', 0, None, 0)\n",
      "(448, '5984-1.97', '', 0, None, 0)\n",
      "(449, '5984-1.98', '', 0, None, 0)\n",
      "(450, '5984-1.99', '', 0, None, 0)\n",
      "(451, '5984-1.100', '', 0, None, 0)\n",
      "(452, '5984-1.101', '', 0, None, 0)\n",
      "(453, '5984-1.102', '', 0, None, 0)\n",
      "(454, '5984-1.103', '', 0, None, 0)\n",
      "(455, '5984-1.104', '', 0, None, 0)\n",
      "(456, '5985-0.0', '', 0, None, 0)\n",
      "(457, '5985-0.1', '', 0, None, 0)\n",
      "(458, '5985-0.2', '', 0, None, 0)\n",
      "(459, '5985-0.3', '', 0, None, 0)\n",
      "(460, '5985-0.4', '', 0, None, 0)\n",
      "(461, '5985-0.5', '', 0, None, 0)\n",
      "(462, '5985-0.6', '', 0, None, 0)\n",
      "(463, '5985-0.7', '', 0, None, 0)\n",
      "(464, '5985-0.8', '', 0, None, 0)\n",
      "(465, '5985-0.9', '', 0, None, 0)\n",
      "(466, '5985-0.10', '', 0, None, 0)\n",
      "(467, '5985-0.11', '', 0, None, 0)\n",
      "(468, '5985-0.12', '', 0, None, 0)\n",
      "(469, '5985-0.13', '', 0, None, 0)\n",
      "(470, '5985-0.14', '', 0, None, 0)\n",
      "(471, '5985-0.15', '', 0, None, 0)\n",
      "(472, '5985-0.16', '', 0, None, 0)\n",
      "(473, '5985-0.17', '', 0, None, 0)\n",
      "(474, '5985-0.18', '', 0, None, 0)\n",
      "(475, '5985-0.19', '', 0, None, 0)\n",
      "(476, '5985-0.20', '', 0, None, 0)\n",
      "(477, '5985-0.21', '', 0, None, 0)\n",
      "(478, '5985-0.22', '', 0, None, 0)\n",
      "(479, '5985-0.23', '', 0, None, 0)\n",
      "(480, '5985-0.24', '', 0, None, 0)\n",
      "(481, '5985-0.25', '', 0, None, 0)\n",
      "(482, '5985-0.26', '', 0, None, 0)\n",
      "(483, '5985-0.27', '', 0, None, 0)\n",
      "(484, '5985-0.28', '', 0, None, 0)\n",
      "(485, '5985-0.29', '', 0, None, 0)\n",
      "(486, '5985-0.30', '', 0, None, 0)\n",
      "(487, '5985-0.31', '', 0, None, 0)\n",
      "(488, '5985-0.32', '', 0, None, 0)\n",
      "(489, '5985-0.33', '', 0, None, 0)\n",
      "(490, '5985-0.34', '', 0, None, 0)\n",
      "(491, '5985-0.35', '', 0, None, 0)\n",
      "(492, '5985-0.36', '', 0, None, 0)\n",
      "(493, '5985-0.37', '', 0, None, 0)\n",
      "(494, '5985-0.38', '', 0, None, 0)\n",
      "(495, '5985-0.39', '', 0, None, 0)\n",
      "(496, '5985-0.40', '', 0, None, 0)\n",
      "(497, '5985-0.41', '', 0, None, 0)\n",
      "(498, '5985-0.42', '', 0, None, 0)\n",
      "(499, '5985-0.43', '', 0, None, 0)\n",
      "(500, '5985-0.44', '', 0, None, 0)\n",
      "(501, '5985-0.45', '', 0, None, 0)\n",
      "(502, '5985-0.46', '', 0, None, 0)\n",
      "(503, '5985-0.47', '', 0, None, 0)\n",
      "(504, '5985-0.48', '', 0, None, 0)\n",
      "(505, '5985-0.49', '', 0, None, 0)\n",
      "(506, '5985-0.50', '', 0, None, 0)\n",
      "(507, '5985-0.51', '', 0, None, 0)\n",
      "(508, '5985-0.52', '', 0, None, 0)\n",
      "(509, '5985-0.53', '', 0, None, 0)\n",
      "(510, '5985-0.54', '', 0, None, 0)\n",
      "(511, '5985-0.55', '', 0, None, 0)\n",
      "(512, '5985-0.56', '', 0, None, 0)\n",
      "(513, '5985-0.57', '', 0, None, 0)\n",
      "(514, '5985-0.58', '', 0, None, 0)\n",
      "(515, '5985-0.59', '', 0, None, 0)\n",
      "(516, '5985-0.60', '', 0, None, 0)\n",
      "(517, '5985-0.61', '', 0, None, 0)\n",
      "(518, '5985-0.62', '', 0, None, 0)\n",
      "(519, '5985-0.63', '', 0, None, 0)\n",
      "(520, '5985-0.64', '', 0, None, 0)\n",
      "(521, '5985-0.65', '', 0, None, 0)\n",
      "(522, '5985-0.66', '', 0, None, 0)\n",
      "(523, '5985-0.67', '', 0, None, 0)\n",
      "(524, '5985-0.68', '', 0, None, 0)\n",
      "(525, '5985-0.69', '', 0, None, 0)\n",
      "(526, '5985-0.70', '', 0, None, 0)\n",
      "(527, '5985-0.71', '', 0, None, 0)\n",
      "(528, '5985-0.72', '', 0, None, 0)\n",
      "(529, '5985-0.73', '', 0, None, 0)\n",
      "(530, '5985-0.74', '', 0, None, 0)\n",
      "(531, '5985-0.75', '', 0, None, 0)\n",
      "(532, '5985-0.76', '', 0, None, 0)\n",
      "(533, '5985-0.77', '', 0, None, 0)\n",
      "(534, '5985-0.78', '', 0, None, 0)\n",
      "(535, '5985-0.79', '', 0, None, 0)\n",
      "(536, '5985-0.80', '', 0, None, 0)\n",
      "(537, '5985-0.81', '', 0, None, 0)\n",
      "(538, '5985-0.82', '', 0, None, 0)\n",
      "(539, '5985-0.83', '', 0, None, 0)\n",
      "(540, '5985-0.84', '', 0, None, 0)\n",
      "(541, '5985-0.85', '', 0, None, 0)\n",
      "(542, '5985-0.86', '', 0, None, 0)\n",
      "(543, '5985-0.87', '', 0, None, 0)\n",
      "(544, '5985-0.88', '', 0, None, 0)\n",
      "(545, '5985-0.89', '', 0, None, 0)\n",
      "(546, '5985-0.90', '', 0, None, 0)\n",
      "(547, '5985-0.91', '', 0, None, 0)\n",
      "(548, '5985-0.92', '', 0, None, 0)\n",
      "(549, '5985-0.93', '', 0, None, 0)\n",
      "(550, '5985-0.94', '', 0, None, 0)\n",
      "(551, '5985-0.95', '', 0, None, 0)\n",
      "(552, '5985-0.96', '', 0, None, 0)\n",
      "(553, '5985-0.97', '', 0, None, 0)\n",
      "(554, '5985-0.98', '', 0, None, 0)\n",
      "(555, '5985-0.99', '', 0, None, 0)\n",
      "(556, '5985-0.100', '', 0, None, 0)\n",
      "(557, '5985-0.101', '', 0, None, 0)\n",
      "(558, '5985-0.102', '', 0, None, 0)\n",
      "(559, '5985-0.103', '', 0, None, 0)\n",
      "(560, '5985-0.104', '', 0, None, 0)\n",
      "(561, '5985-0.105', '', 0, None, 0)\n",
      "(562, '5985-0.106', '', 0, None, 0)\n",
      "(563, '5985-0.107', '', 0, None, 0)\n",
      "(564, '5985-0.108', '', 0, None, 0)\n",
      "(565, '5985-0.109', '', 0, None, 0)\n",
      "(566, '5985-0.110', '', 0, None, 0)\n",
      "(567, '5985-0.111', '', 0, None, 0)\n",
      "(568, '5985-0.112', '', 0, None, 0)\n",
      "(569, '5985-0.113', '', 0, None, 0)\n",
      "(570, '5985-1.0', '', 0, None, 0)\n",
      "(571, '5985-1.1', '', 0, None, 0)\n",
      "(572, '5985-1.2', '', 0, None, 0)\n",
      "(573, '5985-1.3', '', 0, None, 0)\n",
      "(574, '5985-1.4', '', 0, None, 0)\n",
      "(575, '5985-1.5', '', 0, None, 0)\n",
      "(576, '5985-1.6', '', 0, None, 0)\n",
      "(577, '5985-1.7', '', 0, None, 0)\n",
      "(578, '5985-1.8', '', 0, None, 0)\n",
      "(579, '5985-1.9', '', 0, None, 0)\n",
      "(580, '5985-1.10', '', 0, None, 0)\n",
      "(581, '5985-1.11', '', 0, None, 0)\n",
      "(582, '5985-1.12', '', 0, None, 0)\n",
      "(583, '5985-1.13', '', 0, None, 0)\n",
      "(584, '5985-1.14', '', 0, None, 0)\n",
      "(585, '5985-1.15', '', 0, None, 0)\n",
      "(586, '5985-1.16', '', 0, None, 0)\n",
      "(587, '5985-1.17', '', 0, None, 0)\n",
      "(588, '5985-1.18', '', 0, None, 0)\n",
      "(589, '5985-1.19', '', 0, None, 0)\n",
      "(590, '5985-1.20', '', 0, None, 0)\n",
      "(591, '5985-1.21', '', 0, None, 0)\n",
      "(592, '5985-1.22', '', 0, None, 0)\n",
      "(593, '5985-1.23', '', 0, None, 0)\n",
      "(594, '5985-1.24', '', 0, None, 0)\n",
      "(595, '5985-1.25', '', 0, None, 0)\n",
      "(596, '5985-1.26', '', 0, None, 0)\n",
      "(597, '5985-1.27', '', 0, None, 0)\n",
      "(598, '5985-1.28', '', 0, None, 0)\n",
      "(599, '5985-1.29', '', 0, None, 0)\n",
      "(600, '5985-1.30', '', 0, None, 0)\n",
      "(601, '5985-1.31', '', 0, None, 0)\n",
      "(602, '5985-1.32', '', 0, None, 0)\n",
      "(603, '5985-1.33', '', 0, None, 0)\n",
      "(604, '5985-1.34', '', 0, None, 0)\n",
      "(605, '5985-1.35', '', 0, None, 0)\n",
      "(606, '5985-1.36', '', 0, None, 0)\n",
      "(607, '5985-1.37', '', 0, None, 0)\n",
      "(608, '5985-1.38', '', 0, None, 0)\n",
      "(609, '5985-1.39', '', 0, None, 0)\n",
      "(610, '5985-1.40', '', 0, None, 0)\n",
      "(611, '5985-1.41', '', 0, None, 0)\n",
      "(612, '5985-1.42', '', 0, None, 0)\n",
      "(613, '5985-1.43', '', 0, None, 0)\n",
      "(614, '5985-1.44', '', 0, None, 0)\n",
      "(615, '5985-1.45', '', 0, None, 0)\n",
      "(616, '5985-1.46', '', 0, None, 0)\n",
      "(617, '5985-1.47', '', 0, None, 0)\n",
      "(618, '5985-1.48', '', 0, None, 0)\n",
      "(619, '5985-1.49', '', 0, None, 0)\n",
      "(620, '5985-1.50', '', 0, None, 0)\n",
      "(621, '5985-1.51', '', 0, None, 0)\n",
      "(622, '5985-1.52', '', 0, None, 0)\n",
      "(623, '5985-1.53', '', 0, None, 0)\n",
      "(624, '5985-1.54', '', 0, None, 0)\n",
      "(625, '5985-1.55', '', 0, None, 0)\n",
      "(626, '5985-1.56', '', 0, None, 0)\n",
      "(627, '5985-1.57', '', 0, None, 0)\n",
      "(628, '5985-1.58', '', 0, None, 0)\n",
      "(629, '5985-1.59', '', 0, None, 0)\n",
      "(630, '5985-1.60', '', 0, None, 0)\n",
      "(631, '5985-1.61', '', 0, None, 0)\n",
      "(632, '5985-1.62', '', 0, None, 0)\n",
      "(633, '5985-1.63', '', 0, None, 0)\n",
      "(634, '5985-1.64', '', 0, None, 0)\n",
      "(635, '5985-1.65', '', 0, None, 0)\n",
      "(636, '5985-1.66', '', 0, None, 0)\n",
      "(637, '5985-1.67', '', 0, None, 0)\n",
      "(638, '5985-1.68', '', 0, None, 0)\n",
      "(639, '5985-1.69', '', 0, None, 0)\n",
      "(640, '5985-1.70', '', 0, None, 0)\n",
      "(641, '5985-1.71', '', 0, None, 0)\n",
      "(642, '5985-1.72', '', 0, None, 0)\n",
      "(643, '5985-1.73', '', 0, None, 0)\n",
      "(644, '5985-1.74', '', 0, None, 0)\n",
      "(645, '5985-1.75', '', 0, None, 0)\n",
      "(646, '5985-1.76', '', 0, None, 0)\n",
      "(647, '5985-1.77', '', 0, None, 0)\n",
      "(648, '5985-1.78', '', 0, None, 0)\n",
      "(649, '5985-1.79', '', 0, None, 0)\n",
      "(650, '5985-1.80', '', 0, None, 0)\n",
      "(651, '5985-1.81', '', 0, None, 0)\n",
      "(652, '5985-1.82', '', 0, None, 0)\n",
      "(653, '5985-1.83', '', 0, None, 0)\n",
      "(654, '5985-1.84', '', 0, None, 0)\n",
      "(655, '5985-1.85', '', 0, None, 0)\n",
      "(656, '5985-1.86', '', 0, None, 0)\n",
      "(657, '5985-1.87', '', 0, None, 0)\n",
      "(658, '5985-1.88', '', 0, None, 0)\n",
      "(659, '5985-1.89', '', 0, None, 0)\n",
      "(660, '5985-1.90', '', 0, None, 0)\n",
      "(661, '5985-1.91', '', 0, None, 0)\n",
      "(662, '5985-1.92', '', 0, None, 0)\n",
      "(663, '5985-1.93', '', 0, None, 0)\n",
      "(664, '5985-1.94', '', 0, None, 0)\n",
      "(665, '5985-1.95', '', 0, None, 0)\n",
      "(666, '5985-1.96', '', 0, None, 0)\n",
      "(667, '5985-1.97', '', 0, None, 0)\n",
      "(668, '5985-1.98', '', 0, None, 0)\n",
      "(669, '5985-1.99', '', 0, None, 0)\n",
      "(670, '5985-1.100', '', 0, None, 0)\n",
      "(671, '5985-1.101', '', 0, None, 0)\n",
      "(672, '5985-1.102', '', 0, None, 0)\n",
      "(673, '5985-1.103', '', 0, None, 0)\n",
      "(674, '5985-1.104', '', 0, None, 0)\n",
      "(675, '5987-0.0', '', 0, None, 0)\n",
      "(676, '5987-0.1', '', 0, None, 0)\n",
      "(677, '5987-0.2', '', 0, None, 0)\n",
      "(678, '5987-0.3', '', 0, None, 0)\n",
      "(679, '5987-0.4', '', 0, None, 0)\n",
      "(680, '5987-0.5', '', 0, None, 0)\n",
      "(681, '5987-0.6', '', 0, None, 0)\n",
      "(682, '5987-0.7', '', 0, None, 0)\n",
      "(683, '5987-0.8', '', 0, None, 0)\n",
      "(684, '5987-0.9', '', 0, None, 0)\n",
      "(685, '5987-0.10', '', 0, None, 0)\n",
      "(686, '5987-0.11', '', 0, None, 0)\n",
      "(687, '5987-0.12', '', 0, None, 0)\n",
      "(688, '5987-0.13', '', 0, None, 0)\n",
      "(689, '5987-0.14', '', 0, None, 0)\n",
      "(690, '5987-0.15', '', 0, None, 0)\n",
      "(691, '5987-0.16', '', 0, None, 0)\n",
      "(692, '5987-0.17', '', 0, None, 0)\n",
      "(693, '5987-0.18', '', 0, None, 0)\n",
      "(694, '5987-0.19', '', 0, None, 0)\n",
      "(695, '5987-0.20', '', 0, None, 0)\n",
      "(696, '5987-0.21', '', 0, None, 0)\n",
      "(697, '5987-0.22', '', 0, None, 0)\n",
      "(698, '5987-0.23', '', 0, None, 0)\n",
      "(699, '5987-0.24', '', 0, None, 0)\n",
      "(700, '5987-0.25', '', 0, None, 0)\n",
      "(701, '5987-0.26', '', 0, None, 0)\n",
      "(702, '5987-0.27', '', 0, None, 0)\n",
      "(703, '5987-0.28', '', 0, None, 0)\n",
      "(704, '5987-0.29', '', 0, None, 0)\n",
      "(705, '5987-0.30', '', 0, None, 0)\n",
      "(706, '5987-0.31', '', 0, None, 0)\n",
      "(707, '5987-0.32', '', 0, None, 0)\n",
      "(708, '5987-0.33', '', 0, None, 0)\n",
      "(709, '5987-0.34', '', 0, None, 0)\n",
      "(710, '5987-0.35', '', 0, None, 0)\n",
      "(711, '5987-0.36', '', 0, None, 0)\n",
      "(712, '5987-0.37', '', 0, None, 0)\n",
      "(713, '5987-0.38', '', 0, None, 0)\n",
      "(714, '5987-0.39', '', 0, None, 0)\n",
      "(715, '5987-0.40', '', 0, None, 0)\n",
      "(716, '5987-0.41', '', 0, None, 0)\n",
      "(717, '5987-0.42', '', 0, None, 0)\n",
      "(718, '5987-0.43', '', 0, None, 0)\n",
      "(719, '5987-0.44', '', 0, None, 0)\n",
      "(720, '5987-0.45', '', 0, None, 0)\n",
      "(721, '5987-0.46', '', 0, None, 0)\n",
      "(722, '5987-0.47', '', 0, None, 0)\n",
      "(723, '5987-0.48', '', 0, None, 0)\n",
      "(724, '5987-0.49', '', 0, None, 0)\n",
      "(725, '5987-0.50', '', 0, None, 0)\n",
      "(726, '5987-0.51', '', 0, None, 0)\n",
      "(727, '5987-0.52', '', 0, None, 0)\n",
      "(728, '5987-0.53', '', 0, None, 0)\n",
      "(729, '5987-0.54', '', 0, None, 0)\n",
      "(730, '5987-0.55', '', 0, None, 0)\n",
      "(731, '5987-0.56', '', 0, None, 0)\n",
      "(732, '5987-0.57', '', 0, None, 0)\n",
      "(733, '5987-0.58', '', 0, None, 0)\n",
      "(734, '5987-0.59', '', 0, None, 0)\n",
      "(735, '5987-0.60', '', 0, None, 0)\n",
      "(736, '5987-0.61', '', 0, None, 0)\n",
      "(737, '5987-0.62', '', 0, None, 0)\n",
      "(738, '5987-0.63', '', 0, None, 0)\n",
      "(739, '5987-0.64', '', 0, None, 0)\n",
      "(740, '5987-0.65', '', 0, None, 0)\n",
      "(741, '5987-0.66', '', 0, None, 0)\n",
      "(742, '5987-0.67', '', 0, None, 0)\n",
      "(743, '5987-0.68', '', 0, None, 0)\n",
      "(744, '5987-0.69', '', 0, None, 0)\n",
      "(745, '5987-0.70', '', 0, None, 0)\n",
      "(746, '5987-0.71', '', 0, None, 0)\n",
      "(747, '5987-0.72', '', 0, None, 0)\n",
      "(748, '5987-0.73', '', 0, None, 0)\n",
      "(749, '5987-0.74', '', 0, None, 0)\n",
      "(750, '5987-0.75', '', 0, None, 0)\n",
      "(751, '5987-0.76', '', 0, None, 0)\n",
      "(752, '5987-0.77', '', 0, None, 0)\n",
      "(753, '5987-0.78', '', 0, None, 0)\n",
      "(754, '5987-0.79', '', 0, None, 0)\n",
      "(755, '5987-0.80', '', 0, None, 0)\n",
      "(756, '5987-0.81', '', 0, None, 0)\n",
      "(757, '5987-0.82', '', 0, None, 0)\n",
      "(758, '5987-0.83', '', 0, None, 0)\n",
      "(759, '5987-0.84', '', 0, None, 0)\n",
      "(760, '5987-0.85', '', 0, None, 0)\n",
      "(761, '5987-0.86', '', 0, None, 0)\n",
      "(762, '5987-0.87', '', 0, None, 0)\n",
      "(763, '5987-0.88', '', 0, None, 0)\n",
      "(764, '5987-0.89', '', 0, None, 0)\n",
      "(765, '5987-0.90', '', 0, None, 0)\n",
      "(766, '5987-0.91', '', 0, None, 0)\n",
      "(767, '5987-0.92', '', 0, None, 0)\n",
      "(768, '5987-0.93', '', 0, None, 0)\n",
      "(769, '5987-0.94', '', 0, None, 0)\n",
      "(770, '5987-0.95', '', 0, None, 0)\n",
      "(771, '5987-0.96', '', 0, None, 0)\n",
      "(772, '5987-0.97', '', 0, None, 0)\n",
      "(773, '5987-0.98', '', 0, None, 0)\n",
      "(774, '5987-0.99', '', 0, None, 0)\n",
      "(775, '5987-0.100', '', 0, None, 0)\n",
      "(776, '5987-0.101', '', 0, None, 0)\n",
      "(777, '5987-0.102', '', 0, None, 0)\n",
      "(778, '5987-0.103', '', 0, None, 0)\n",
      "(779, '5987-0.104', '', 0, None, 0)\n",
      "(780, '5987-0.105', '', 0, None, 0)\n",
      "(781, '5987-0.106', '', 0, None, 0)\n",
      "(782, '5987-0.107', '', 0, None, 0)\n",
      "(783, '5987-0.108', '', 0, None, 0)\n",
      "(784, '5987-0.109', '', 0, None, 0)\n",
      "(785, '5987-0.110', '', 0, None, 0)\n",
      "(786, '5987-0.111', '', 0, None, 0)\n",
      "(787, '5987-0.112', '', 0, None, 0)\n",
      "(788, '5987-0.113', '', 0, None, 0)\n",
      "(789, '5987-1.0', '', 0, None, 0)\n",
      "(790, '5987-1.1', '', 0, None, 0)\n",
      "(791, '5987-1.2', '', 0, None, 0)\n",
      "(792, '5987-1.3', '', 0, None, 0)\n",
      "(793, '5987-1.4', '', 0, None, 0)\n",
      "(794, '5987-1.5', '', 0, None, 0)\n",
      "(795, '5987-1.6', '', 0, None, 0)\n",
      "(796, '5987-1.7', '', 0, None, 0)\n",
      "(797, '5987-1.8', '', 0, None, 0)\n",
      "(798, '5987-1.9', '', 0, None, 0)\n",
      "(799, '5987-1.10', '', 0, None, 0)\n",
      "(800, '5987-1.11', '', 0, None, 0)\n",
      "(801, '5987-1.12', '', 0, None, 0)\n",
      "(802, '5987-1.13', '', 0, None, 0)\n",
      "(803, '5987-1.14', '', 0, None, 0)\n",
      "(804, '5987-1.15', '', 0, None, 0)\n",
      "(805, '5987-1.16', '', 0, None, 0)\n",
      "(806, '5987-1.17', '', 0, None, 0)\n",
      "(807, '5987-1.18', '', 0, None, 0)\n",
      "(808, '5987-1.19', '', 0, None, 0)\n",
      "(809, '5987-1.20', '', 0, None, 0)\n",
      "(810, '5987-1.21', '', 0, None, 0)\n",
      "(811, '5987-1.22', '', 0, None, 0)\n",
      "(812, '5987-1.23', '', 0, None, 0)\n",
      "(813, '5987-1.24', '', 0, None, 0)\n",
      "(814, '5987-1.25', '', 0, None, 0)\n",
      "(815, '5987-1.26', '', 0, None, 0)\n",
      "(816, '5987-1.27', '', 0, None, 0)\n",
      "(817, '5987-1.28', '', 0, None, 0)\n",
      "(818, '5987-1.29', '', 0, None, 0)\n",
      "(819, '5987-1.30', '', 0, None, 0)\n",
      "(820, '5987-1.31', '', 0, None, 0)\n",
      "(821, '5987-1.32', '', 0, None, 0)\n",
      "(822, '5987-1.33', '', 0, None, 0)\n",
      "(823, '5987-1.34', '', 0, None, 0)\n",
      "(824, '5987-1.35', '', 0, None, 0)\n",
      "(825, '5987-1.36', '', 0, None, 0)\n",
      "(826, '5987-1.37', '', 0, None, 0)\n",
      "(827, '5987-1.38', '', 0, None, 0)\n",
      "(828, '5987-1.39', '', 0, None, 0)\n",
      "(829, '5987-1.40', '', 0, None, 0)\n",
      "(830, '5987-1.41', '', 0, None, 0)\n",
      "(831, '5987-1.42', '', 0, None, 0)\n",
      "(832, '5987-1.43', '', 0, None, 0)\n",
      "(833, '5987-1.44', '', 0, None, 0)\n",
      "(834, '5987-1.45', '', 0, None, 0)\n",
      "(835, '5987-1.46', '', 0, None, 0)\n",
      "(836, '5987-1.47', '', 0, None, 0)\n",
      "(837, '5987-1.48', '', 0, None, 0)\n",
      "(838, '5987-1.49', '', 0, None, 0)\n",
      "(839, '5987-1.50', '', 0, None, 0)\n",
      "(840, '5987-1.51', '', 0, None, 0)\n",
      "(841, '5987-1.52', '', 0, None, 0)\n",
      "(842, '5987-1.53', '', 0, None, 0)\n",
      "(843, '5987-1.54', '', 0, None, 0)\n",
      "(844, '5987-1.55', '', 0, None, 0)\n",
      "(845, '5987-1.56', '', 0, None, 0)\n",
      "(846, '5987-1.57', '', 0, None, 0)\n",
      "(847, '5987-1.58', '', 0, None, 0)\n",
      "(848, '5987-1.59', '', 0, None, 0)\n",
      "(849, '5987-1.60', '', 0, None, 0)\n",
      "(850, '5987-1.61', '', 0, None, 0)\n",
      "(851, '5987-1.62', '', 0, None, 0)\n",
      "(852, '5987-1.63', '', 0, None, 0)\n",
      "(853, '5987-1.64', '', 0, None, 0)\n",
      "(854, '5987-1.65', '', 0, None, 0)\n",
      "(855, '5987-1.66', '', 0, None, 0)\n",
      "(856, '5987-1.67', '', 0, None, 0)\n",
      "(857, '5987-1.68', '', 0, None, 0)\n",
      "(858, '5987-1.69', '', 0, None, 0)\n",
      "(859, '5987-1.70', '', 0, None, 0)\n",
      "(860, '5987-1.71', '', 0, None, 0)\n",
      "(861, '5987-1.72', '', 0, None, 0)\n",
      "(862, '5987-1.73', '', 0, None, 0)\n",
      "(863, '5987-1.74', '', 0, None, 0)\n",
      "(864, '5987-1.75', '', 0, None, 0)\n",
      "(865, '5987-1.76', '', 0, None, 0)\n",
      "(866, '5987-1.77', '', 0, None, 0)\n",
      "(867, '5987-1.78', '', 0, None, 0)\n",
      "(868, '5987-1.79', '', 0, None, 0)\n",
      "(869, '5987-1.80', '', 0, None, 0)\n",
      "(870, '5987-1.81', '', 0, None, 0)\n",
      "(871, '5987-1.82', '', 0, None, 0)\n",
      "(872, '5987-1.83', '', 0, None, 0)\n",
      "(873, '5987-1.84', '', 0, None, 0)\n",
      "(874, '5987-1.85', '', 0, None, 0)\n",
      "(875, '5987-1.86', '', 0, None, 0)\n",
      "(876, '5987-1.87', '', 0, None, 0)\n",
      "(877, '5987-1.88', '', 0, None, 0)\n",
      "(878, '5987-1.89', '', 0, None, 0)\n",
      "(879, '5987-1.90', '', 0, None, 0)\n",
      "(880, '5987-1.91', '', 0, None, 0)\n",
      "(881, '5987-1.92', '', 0, None, 0)\n",
      "(882, '5987-1.93', '', 0, None, 0)\n",
      "(883, '5987-1.94', '', 0, None, 0)\n",
      "(884, '5987-1.95', '', 0, None, 0)\n",
      "(885, '5987-1.96', '', 0, None, 0)\n",
      "(886, '5987-1.97', '', 0, None, 0)\n",
      "(887, '5987-1.98', '', 0, None, 0)\n",
      "(888, '5987-1.99', '', 0, None, 0)\n",
      "(889, '5987-1.100', '', 0, None, 0)\n",
      "(890, '5987-1.101', '', 0, None, 0)\n",
      "(891, '5987-1.102', '', 0, None, 0)\n",
      "(892, '5987-1.103', '', 0, None, 0)\n",
      "(893, '5987-1.104', '', 0, None, 0)\n",
      "(894, '5988-0.0', '', 0, None, 0)\n",
      "(895, '5988-0.1', '', 0, None, 0)\n",
      "(896, '5988-0.2', '', 0, None, 0)\n",
      "(897, '5988-0.3', '', 0, None, 0)\n",
      "(898, '5988-0.4', '', 0, None, 0)\n",
      "(899, '5988-0.5', '', 0, None, 0)\n",
      "(900, '5988-0.6', '', 0, None, 0)\n",
      "(901, '5988-0.7', '', 0, None, 0)\n",
      "(902, '5988-0.8', '', 0, None, 0)\n",
      "(903, '5988-0.9', '', 0, None, 0)\n",
      "(904, '5988-0.10', '', 0, None, 0)\n",
      "(905, '5988-0.11', '', 0, None, 0)\n",
      "(906, '5988-0.12', '', 0, None, 0)\n",
      "(907, '5988-0.13', '', 0, None, 0)\n",
      "(908, '5988-0.14', '', 0, None, 0)\n",
      "(909, '5988-0.15', '', 0, None, 0)\n",
      "(910, '5988-0.16', '', 0, None, 0)\n",
      "(911, '5988-0.17', '', 0, None, 0)\n",
      "(912, '5988-0.18', '', 0, None, 0)\n",
      "(913, '5988-0.19', '', 0, None, 0)\n",
      "(914, '5988-0.20', '', 0, None, 0)\n",
      "(915, '5988-0.21', '', 0, None, 0)\n",
      "(916, '5988-0.22', '', 0, None, 0)\n",
      "(917, '5988-0.23', '', 0, None, 0)\n",
      "(918, '5988-0.24', '', 0, None, 0)\n",
      "(919, '5988-0.25', '', 0, None, 0)\n",
      "(920, '5988-0.26', '', 0, None, 0)\n",
      "(921, '5988-0.27', '', 0, None, 0)\n",
      "(922, '5988-0.28', '', 0, None, 0)\n",
      "(923, '5988-0.29', '', 0, None, 0)\n",
      "(924, '5988-0.30', '', 0, None, 0)\n",
      "(925, '5988-0.31', '', 0, None, 0)\n",
      "(926, '5988-0.32', '', 0, None, 0)\n",
      "(927, '5988-0.33', '', 0, None, 0)\n",
      "(928, '5988-0.34', '', 0, None, 0)\n",
      "(929, '5988-0.35', '', 0, None, 0)\n",
      "(930, '5988-0.36', '', 0, None, 0)\n",
      "(931, '5988-0.37', '', 0, None, 0)\n",
      "(932, '5988-0.38', '', 0, None, 0)\n",
      "(933, '5988-0.39', '', 0, None, 0)\n",
      "(934, '5988-0.40', '', 0, None, 0)\n",
      "(935, '5988-0.41', '', 0, None, 0)\n",
      "(936, '5988-0.42', '', 0, None, 0)\n",
      "(937, '5988-0.43', '', 0, None, 0)\n",
      "(938, '5988-0.44', '', 0, None, 0)\n",
      "(939, '5988-0.45', '', 0, None, 0)\n",
      "(940, '5988-0.46', '', 0, None, 0)\n",
      "(941, '5988-0.47', '', 0, None, 0)\n",
      "(942, '5988-0.48', '', 0, None, 0)\n",
      "(943, '5988-0.49', '', 0, None, 0)\n",
      "(944, '5988-0.50', '', 0, None, 0)\n",
      "(945, '5988-0.51', '', 0, None, 0)\n",
      "(946, '5988-0.52', '', 0, None, 0)\n",
      "(947, '5988-0.53', '', 0, None, 0)\n",
      "(948, '5988-0.54', '', 0, None, 0)\n",
      "(949, '5988-0.55', '', 0, None, 0)\n",
      "(950, '5988-0.56', '', 0, None, 0)\n",
      "(951, '5988-0.57', '', 0, None, 0)\n",
      "(952, '5988-0.58', '', 0, None, 0)\n",
      "(953, '5988-0.59', '', 0, None, 0)\n",
      "(954, '5988-0.60', '', 0, None, 0)\n",
      "(955, '5988-0.61', '', 0, None, 0)\n",
      "(956, '5988-0.62', '', 0, None, 0)\n",
      "(957, '5988-0.63', '', 0, None, 0)\n",
      "(958, '5988-0.64', '', 0, None, 0)\n",
      "(959, '5988-0.65', '', 0, None, 0)\n",
      "(960, '5988-0.66', '', 0, None, 0)\n",
      "(961, '5988-0.67', '', 0, None, 0)\n",
      "(962, '5988-0.68', '', 0, None, 0)\n",
      "(963, '5988-0.69', '', 0, None, 0)\n",
      "(964, '5988-0.70', '', 0, None, 0)\n",
      "(965, '5988-0.71', '', 0, None, 0)\n",
      "(966, '5988-0.72', '', 0, None, 0)\n",
      "(967, '5988-0.73', '', 0, None, 0)\n",
      "(968, '5988-0.74', '', 0, None, 0)\n",
      "(969, '5988-0.75', '', 0, None, 0)\n",
      "(970, '5988-0.76', '', 0, None, 0)\n",
      "(971, '5988-0.77', '', 0, None, 0)\n",
      "(972, '5988-0.78', '', 0, None, 0)\n",
      "(973, '5988-0.79', '', 0, None, 0)\n",
      "(974, '5988-0.80', '', 0, None, 0)\n",
      "(975, '5988-0.81', '', 0, None, 0)\n",
      "(976, '5988-0.82', '', 0, None, 0)\n",
      "(977, '5988-0.83', '', 0, None, 0)\n",
      "(978, '5988-0.84', '', 0, None, 0)\n",
      "(979, '5988-0.85', '', 0, None, 0)\n",
      "(980, '5988-0.86', '', 0, None, 0)\n",
      "(981, '5988-0.87', '', 0, None, 0)\n",
      "(982, '5988-0.88', '', 0, None, 0)\n",
      "(983, '5988-0.89', '', 0, None, 0)\n",
      "(984, '5988-0.90', '', 0, None, 0)\n",
      "(985, '5988-0.91', '', 0, None, 0)\n",
      "(986, '5988-0.92', '', 0, None, 0)\n",
      "(987, '5988-0.93', '', 0, None, 0)\n",
      "(988, '5988-0.94', '', 0, None, 0)\n",
      "(989, '5988-0.95', '', 0, None, 0)\n",
      "(990, '5988-0.96', '', 0, None, 0)\n",
      "(991, '5988-0.97', '', 0, None, 0)\n",
      "(992, '5988-0.98', '', 0, None, 0)\n",
      "(993, '5988-0.99', '', 0, None, 0)\n",
      "(994, '5988-0.100', '', 0, None, 0)\n",
      "(995, '5988-0.101', '', 0, None, 0)\n",
      "(996, '5988-0.102', '', 0, None, 0)\n",
      "(997, '5988-0.103', '', 0, None, 0)\n",
      "(998, '5988-0.104', '', 0, None, 0)\n",
      "(999, '5988-0.105', '', 0, None, 0)\n",
      "(1000, '5988-0.106', '', 0, None, 0)\n",
      "(1001, '5988-0.107', '', 0, None, 0)\n",
      "(1002, '5988-0.108', '', 0, None, 0)\n",
      "(1003, '5988-0.109', '', 0, None, 0)\n",
      "(1004, '5988-0.110', '', 0, None, 0)\n",
      "(1005, '5988-0.111', '', 0, None, 0)\n",
      "(1006, '5988-0.112', '', 0, None, 0)\n",
      "(1007, '5988-0.113', '', 0, None, 0)\n",
      "(1008, '5988-1.0', '', 0, None, 0)\n",
      "(1009, '5988-1.1', '', 0, None, 0)\n",
      "(1010, '5988-1.2', '', 0, None, 0)\n",
      "(1011, '5988-1.3', '', 0, None, 0)\n",
      "(1012, '5988-1.4', '', 0, None, 0)\n",
      "(1013, '5988-1.5', '', 0, None, 0)\n",
      "(1014, '5988-1.6', '', 0, None, 0)\n",
      "(1015, '5988-1.7', '', 0, None, 0)\n",
      "(1016, '5988-1.8', '', 0, None, 0)\n",
      "(1017, '5988-1.9', '', 0, None, 0)\n",
      "(1018, '5988-1.10', '', 0, None, 0)\n",
      "(1019, '5988-1.11', '', 0, None, 0)\n",
      "(1020, '5988-1.12', '', 0, None, 0)\n",
      "(1021, '5988-1.13', '', 0, None, 0)\n",
      "(1022, '5988-1.14', '', 0, None, 0)\n",
      "(1023, '5988-1.15', '', 0, None, 0)\n",
      "(1024, '5988-1.16', '', 0, None, 0)\n",
      "(1025, '5988-1.17', '', 0, None, 0)\n",
      "(1026, '5988-1.18', '', 0, None, 0)\n",
      "(1027, '5988-1.19', '', 0, None, 0)\n",
      "(1028, '5988-1.20', '', 0, None, 0)\n",
      "(1029, '5988-1.21', '', 0, None, 0)\n",
      "(1030, '5988-1.22', '', 0, None, 0)\n",
      "(1031, '5988-1.23', '', 0, None, 0)\n",
      "(1032, '5988-1.24', '', 0, None, 0)\n",
      "(1033, '5988-1.25', '', 0, None, 0)\n",
      "(1034, '5988-1.26', '', 0, None, 0)\n",
      "(1035, '5988-1.27', '', 0, None, 0)\n",
      "(1036, '5988-1.28', '', 0, None, 0)\n",
      "(1037, '5988-1.29', '', 0, None, 0)\n",
      "(1038, '5988-1.30', '', 0, None, 0)\n",
      "(1039, '5988-1.31', '', 0, None, 0)\n",
      "(1040, '5988-1.32', '', 0, None, 0)\n",
      "(1041, '5988-1.33', '', 0, None, 0)\n",
      "(1042, '5988-1.34', '', 0, None, 0)\n",
      "(1043, '5988-1.35', '', 0, None, 0)\n",
      "(1044, '5988-1.36', '', 0, None, 0)\n",
      "(1045, '5988-1.37', '', 0, None, 0)\n",
      "(1046, '5988-1.38', '', 0, None, 0)\n",
      "(1047, '5988-1.39', '', 0, None, 0)\n",
      "(1048, '5988-1.40', '', 0, None, 0)\n",
      "(1049, '5988-1.41', '', 0, None, 0)\n",
      "(1050, '5988-1.42', '', 0, None, 0)\n",
      "(1051, '5988-1.43', '', 0, None, 0)\n",
      "(1052, '5988-1.44', '', 0, None, 0)\n",
      "(1053, '5988-1.45', '', 0, None, 0)\n",
      "(1054, '5988-1.46', '', 0, None, 0)\n",
      "(1055, '5988-1.47', '', 0, None, 0)\n",
      "(1056, '5988-1.48', '', 0, None, 0)\n",
      "(1057, '5988-1.49', '', 0, None, 0)\n",
      "(1058, '5988-1.50', '', 0, None, 0)\n",
      "(1059, '5988-1.51', '', 0, None, 0)\n",
      "(1060, '5988-1.52', '', 0, None, 0)\n",
      "(1061, '5988-1.53', '', 0, None, 0)\n",
      "(1062, '5988-1.54', '', 0, None, 0)\n",
      "(1063, '5988-1.55', '', 0, None, 0)\n",
      "(1064, '5988-1.56', '', 0, None, 0)\n",
      "(1065, '5988-1.57', '', 0, None, 0)\n",
      "(1066, '5988-1.58', '', 0, None, 0)\n",
      "(1067, '5988-1.59', '', 0, None, 0)\n",
      "(1068, '5988-1.60', '', 0, None, 0)\n",
      "(1069, '5988-1.61', '', 0, None, 0)\n",
      "(1070, '5988-1.62', '', 0, None, 0)\n",
      "(1071, '5988-1.63', '', 0, None, 0)\n",
      "(1072, '5988-1.64', '', 0, None, 0)\n",
      "(1073, '5988-1.65', '', 0, None, 0)\n",
      "(1074, '5988-1.66', '', 0, None, 0)\n",
      "(1075, '5988-1.67', '', 0, None, 0)\n",
      "(1076, '5988-1.68', '', 0, None, 0)\n",
      "(1077, '5988-1.69', '', 0, None, 0)\n",
      "(1078, '5988-1.70', '', 0, None, 0)\n",
      "(1079, '5988-1.71', '', 0, None, 0)\n",
      "(1080, '5988-1.72', '', 0, None, 0)\n",
      "(1081, '5988-1.73', '', 0, None, 0)\n",
      "(1082, '5988-1.74', '', 0, None, 0)\n",
      "(1083, '5988-1.75', '', 0, None, 0)\n",
      "(1084, '5988-1.76', '', 0, None, 0)\n",
      "(1085, '5988-1.77', '', 0, None, 0)\n",
      "(1086, '5988-1.78', '', 0, None, 0)\n",
      "(1087, '5988-1.79', '', 0, None, 0)\n",
      "(1088, '5988-1.80', '', 0, None, 0)\n",
      "(1089, '5988-1.81', '', 0, None, 0)\n",
      "(1090, '5988-1.82', '', 0, None, 0)\n",
      "(1091, '5988-1.83', '', 0, None, 0)\n",
      "(1092, '5988-1.84', '', 0, None, 0)\n",
      "(1093, '5988-1.85', '', 0, None, 0)\n",
      "(1094, '5988-1.86', '', 0, None, 0)\n",
      "(1095, '5988-1.87', '', 0, None, 0)\n",
      "(1096, '5988-1.88', '', 0, None, 0)\n",
      "(1097, '5988-1.89', '', 0, None, 0)\n",
      "(1098, '5988-1.90', '', 0, None, 0)\n",
      "(1099, '5988-1.91', '', 0, None, 0)\n",
      "(1100, '5988-1.92', '', 0, None, 0)\n",
      "(1101, '5988-1.93', '', 0, None, 0)\n",
      "(1102, '5988-1.94', '', 0, None, 0)\n",
      "(1103, '5988-1.95', '', 0, None, 0)\n",
      "(1104, '5988-1.96', '', 0, None, 0)\n",
      "(1105, '5988-1.97', '', 0, None, 0)\n",
      "(1106, '5988-1.98', '', 0, None, 0)\n",
      "(1107, '5988-1.99', '', 0, None, 0)\n",
      "(1108, '5988-1.100', '', 0, None, 0)\n",
      "(1109, '5988-1.101', '', 0, None, 0)\n",
      "(1110, '5988-1.102', '', 0, None, 0)\n",
      "(1111, '5988-1.103', '', 0, None, 0)\n",
      "(1112, '5988-1.104', '', 0, None, 0)\n",
      "(1113, '5991-0.0', '', 0, None, 0)\n",
      "(1114, '5991-0.1', '', 0, None, 0)\n",
      "(1115, '5991-0.2', '', 0, None, 0)\n",
      "(1116, '5991-1.0', '', 0, None, 0)\n",
      "(1117, '5991-1.1', '', 0, None, 0)\n",
      "(1118, '5991-1.2', '', 0, None, 0)\n",
      "(1119, '5992-0.0', '', 0, None, 0)\n",
      "(1120, '5992-0.1', '', 0, None, 0)\n",
      "(1121, '5992-0.2', '', 0, None, 0)\n",
      "(1122, '5992-1.0', '', 0, None, 0)\n",
      "(1123, '5992-1.1', '', 0, None, 0)\n",
      "(1124, '5992-1.2', '', 0, None, 0)\n",
      "(1125, '5993-0.0', '', 0, None, 0)\n",
      "(1126, '5993-0.1', '', 0, None, 0)\n",
      "(1127, '5993-0.2', '', 0, None, 0)\n",
      "(1128, '5993-1.0', '', 0, None, 0)\n",
      "(1129, '5993-1.1', '', 0, None, 0)\n",
      "(1130, '5993-1.2', '', 0, None, 0)\n",
      "(1131, '6015-0.0', '', 0, None, 0)\n",
      "(1132, '6015-1.0', '', 0, None, 0)\n",
      "(1133, '6016-0.0', '', 0, None, 0)\n",
      "(1134, '6016-1.0', '', 0, None, 0)\n",
      "(1135, '6019-0.0', '', 0, None, 0)\n",
      "(1136, '6019-1.0', '', 0, None, 0)\n",
      "(1137, '6020-0.0', '', 0, None, 0)\n",
      "(1138, '6020-1.0', '', 0, None, 0)\n",
      "(1139, '6032-0.0', '', 0, None, 0)\n",
      "(1140, '6032-1.0', '', 0, None, 0)\n",
      "(1141, '6033-0.0', '', 0, None, 0)\n",
      "(1142, '6033-1.0', '', 0, None, 0)\n",
      "(1143, '6038-0.0', '', 0, None, 0)\n",
      "(1144, '6038-1.0', '', 0, None, 0)\n",
      "(1145, '6138-0.0', '', 0, None, 0)\n",
      "(1146, '6138-0.1', '', 0, None, 0)\n",
      "(1147, '6138-0.2', '', 0, None, 0)\n",
      "(1148, '6138-0.3', '', 0, None, 0)\n",
      "(1149, '6138-0.4', '', 0, None, 0)\n",
      "(1150, '6138-0.5', '', 0, None, 0)\n",
      "(1151, '6138-1.0', '', 0, None, 0)\n",
      "(1152, '6138-1.1', '', 0, None, 0)\n",
      "(1153, '6138-1.2', '', 0, None, 0)\n",
      "(1154, '6138-1.3', '', 0, None, 0)\n",
      "(1155, '6138-1.4', '', 0, None, 0)\n",
      "(1156, '6138-1.5', '', 0, None, 0)\n",
      "(1157, '6138-2.0', '', 0, None, 0)\n",
      "(1158, '6138-2.1', '', 0, None, 0)\n",
      "(1159, '6138-2.2', '', 0, None, 0)\n",
      "(1160, '6138-2.3', '', 0, None, 0)\n",
      "(1161, '6138-2.4', '', 0, None, 0)\n",
      "(1162, '6138-2.5', '', 0, None, 0)\n",
      "(1163, '6138-3.0', '', 0, None, 0)\n",
      "(1164, '6138-3.1', '', 0, None, 0)\n",
      "(1165, '6138-3.2', '', 0, None, 0)\n",
      "(1166, '6138-3.3', '', 0, None, 0)\n",
      "(1167, '6138-3.4', '', 0, None, 0)\n",
      "(1168, '6138-3.5', '', 0, None, 0)\n",
      "(1169, '6150-0.0', '', 0, None, 0)\n",
      "(1170, '6150-0.1', '', 0, None, 0)\n",
      "(1171, '6150-0.2', '', 0, None, 0)\n",
      "(1172, '6150-0.3', '', 0, None, 0)\n",
      "(1173, '6150-1.0', '', 0, None, 0)\n",
      "(1174, '6150-1.1', '', 0, None, 0)\n",
      "(1175, '6150-1.2', '', 0, None, 0)\n",
      "(1176, '6150-2.0', '', 0, None, 0)\n",
      "(1177, '6150-2.1', '', 0, None, 0)\n",
      "(1178, '6150-2.2', '', 0, None, 0)\n",
      "(1179, '6150-2.3', '', 0, None, 0)\n",
      "(1180, '6153-0.0', '', 0, None, 0)\n",
      "(1181, '6153-0.1', '', 0, None, 0)\n",
      "(1182, '6153-0.2', '', 0, None, 0)\n",
      "(1183, '6153-0.3', '', 0, None, 0)\n",
      "(1184, '6153-1.0', '', 0, None, 0)\n",
      "(1185, '6153-1.1', '', 0, None, 0)\n",
      "(1186, '6153-1.2', '', 0, None, 0)\n",
      "(1187, '6153-1.3', '', 0, None, 0)\n",
      "(1188, '6153-2.0', '', 0, None, 0)\n",
      "(1189, '6153-2.1', '', 0, None, 0)\n",
      "(1190, '6153-2.2', '', 0, None, 0)\n",
      "(1191, '6153-2.3', '', 0, None, 0)\n",
      "(1192, '6153-3.0', '', 0, None, 0)\n",
      "(1193, '6153-3.1', '', 0, None, 0)\n",
      "(1194, '6153-3.2', '', 0, None, 0)\n",
      "(1195, '6177-0.0', '', 0, None, 0)\n",
      "(1196, '6177-0.1', '', 0, None, 0)\n",
      "(1197, '6177-0.2', '', 0, None, 0)\n",
      "(1198, '6177-1.0', '', 0, None, 0)\n",
      "(1199, '6177-1.1', '', 0, None, 0)\n",
      "(1200, '6177-1.2', '', 0, None, 0)\n",
      "(1201, '6177-2.0', '', 0, None, 0)\n",
      "(1202, '6177-2.1', '', 0, None, 0)\n",
      "(1203, '6177-2.2', '', 0, None, 0)\n",
      "(1204, '6177-3.0', '', 0, None, 0)\n",
      "(1205, '6177-3.1', '', 0, None, 0)\n",
      "(1206, '6177-3.2', '', 0, None, 0)\n",
      "(1207, '20116-0.0', '', 0, None, 0)\n",
      "(1208, '20116-1.0', '', 0, None, 0)\n",
      "(1209, '20116-2.0', '', 0, None, 0)\n",
      "(1210, '20116-3.0', '', 0, None, 0)\n",
      "(1211, '21000-0.0', '', 0, None, 0)\n",
      "(1212, '21000-1.0', '', 0, None, 0)\n",
      "(1213, '21000-2.0', '', 0, None, 0)\n",
      "(1214, '21000-3.0', '', 0, None, 0)\n",
      "(1215, '21002-0.0', '', 0, None, 0)\n",
      "(1216, '21002-1.0', '', 0, None, 0)\n",
      "(1217, '21002-2.0', '', 0, None, 0)\n",
      "(1218, '21002-3.0', '', 0, None, 0)\n",
      "(1219, '22032-0.0', '', 0, None, 0)\n",
      "(1220, '30690-0.0', '', 0, None, 0)\n",
      "(1221, '30690-1.0', '', 0, None, 0)\n",
      "(1222, '30760-0.0', '', 0, None, 0)\n",
      "(1223, '30760-1.0', '', 0, None, 0)\n"
     ]
    }
   ],
   "source": [
    "db_file = \"/work/users/y/u/yuukias/BIOS-Material/BIOS992/data/ukbiobank.db\"\n",
    "\n",
    "conn = sqlite3.connect(db_file)\n",
    "cursor = conn.cursor()\n",
    "\n",
    "# Check types of columns in the table\n",
    "cursor.execute(f\"PRAGMA table_info({Variables_table_name});\")\n",
    "columns = cursor.fetchall()\n",
    "\n",
    "for column in columns:\n",
    "    print(column)"
   ]
  },
  {
   "cell_type": "code",
   "execution_count": 63,
   "metadata": {},
   "outputs": [
    {
     "name": "stdout",
     "output_type": "stream",
     "text": [
      "There will be 260 columns in the temporary table: ICD10_temp\n",
      "Creating temporary table: ICD10_temp\n",
      "Inserting data into temporary table: ICD10_temp\n"
     ]
    },
    {
     "name": "stderr",
     "output_type": "stream",
     "text": [
      "Processing CSV:   1%|          | 5000/502368 [00:02<03:22, 2459.46rows/s]"
     ]
    },
    {
     "name": "stdout",
     "output_type": "stream",
     "text": [
      "Valid Chunk rows: 767\n"
     ]
    },
    {
     "name": "stderr",
     "output_type": "stream",
     "text": [
      "Processing CSV:   2%|▏         | 10000/502368 [00:04<03:19, 2468.23rows/s]"
     ]
    },
    {
     "name": "stdout",
     "output_type": "stream",
     "text": [
      "Valid Chunk rows: 746\n"
     ]
    },
    {
     "name": "stderr",
     "output_type": "stream",
     "text": [
      "Processing CSV:   3%|▎         | 15000/502368 [00:06<03:15, 2486.64rows/s]"
     ]
    },
    {
     "name": "stdout",
     "output_type": "stream",
     "text": [
      "Valid Chunk rows: 751\n"
     ]
    },
    {
     "name": "stderr",
     "output_type": "stream",
     "text": [
      "Processing CSV:   4%|▍         | 20000/502368 [00:08<03:35, 2234.97rows/s]"
     ]
    },
    {
     "name": "stdout",
     "output_type": "stream",
     "text": [
      "Valid Chunk rows: 801\n"
     ]
    },
    {
     "name": "stderr",
     "output_type": "stream",
     "text": [
      "Processing CSV:   5%|▍         | 25000/502368 [00:11<04:01, 1979.17rows/s]"
     ]
    },
    {
     "name": "stdout",
     "output_type": "stream",
     "text": [
      "Valid Chunk rows: 760\n"
     ]
    },
    {
     "name": "stderr",
     "output_type": "stream",
     "text": [
      "Processing CSV:   6%|▌         | 30000/502368 [00:14<04:19, 1821.25rows/s]"
     ]
    },
    {
     "name": "stdout",
     "output_type": "stream",
     "text": [
      "Valid Chunk rows: 814\n"
     ]
    },
    {
     "name": "stderr",
     "output_type": "stream",
     "text": [
      "Processing CSV:   7%|▋         | 35000/502368 [00:18<04:31, 1719.33rows/s]"
     ]
    },
    {
     "name": "stdout",
     "output_type": "stream",
     "text": [
      "Valid Chunk rows: 804\n"
     ]
    },
    {
     "name": "stderr",
     "output_type": "stream",
     "text": [
      "Processing CSV:   8%|▊         | 40000/502368 [00:21<04:36, 1671.46rows/s]"
     ]
    },
    {
     "name": "stdout",
     "output_type": "stream",
     "text": [
      "Valid Chunk rows: 766\n"
     ]
    },
    {
     "name": "stderr",
     "output_type": "stream",
     "text": [
      "Processing CSV:   9%|▉         | 45000/502368 [00:24<04:38, 1644.00rows/s]"
     ]
    },
    {
     "name": "stdout",
     "output_type": "stream",
     "text": [
      "Valid Chunk rows: 762\n"
     ]
    },
    {
     "name": "stderr",
     "output_type": "stream",
     "text": [
      "Processing CSV:  10%|▉         | 50000/502368 [00:27<04:38, 1624.52rows/s]"
     ]
    },
    {
     "name": "stdout",
     "output_type": "stream",
     "text": [
      "Valid Chunk rows: 745\n",
      "Valid Chunk rows: 749\n"
     ]
    },
    {
     "name": "stderr",
     "output_type": "stream",
     "text": [
      "Processing CSV:  12%|█▏        | 60000/502368 [00:33<04:35, 1602.83rows/s]"
     ]
    },
    {
     "name": "stdout",
     "output_type": "stream",
     "text": [
      "Valid Chunk rows: 749\n"
     ]
    },
    {
     "name": "stderr",
     "output_type": "stream",
     "text": [
      "Processing CSV:  13%|█▎        | 65000/502368 [00:37<04:35, 1586.25rows/s]"
     ]
    },
    {
     "name": "stdout",
     "output_type": "stream",
     "text": [
      "Valid Chunk rows: 761\n"
     ]
    },
    {
     "name": "stderr",
     "output_type": "stream",
     "text": [
      "Processing CSV:  14%|█▍        | 70000/502368 [00:40<04:34, 1573.70rows/s]"
     ]
    },
    {
     "name": "stdout",
     "output_type": "stream",
     "text": [
      "Valid Chunk rows: 798\n"
     ]
    },
    {
     "name": "stderr",
     "output_type": "stream",
     "text": [
      "Processing CSV:  15%|█▍        | 75000/502368 [00:43<04:30, 1581.66rows/s]"
     ]
    },
    {
     "name": "stdout",
     "output_type": "stream",
     "text": [
      "Valid Chunk rows: 811\n"
     ]
    },
    {
     "name": "stderr",
     "output_type": "stream",
     "text": [
      "Processing CSV:  16%|█▌        | 80000/502368 [00:46<04:26, 1587.29rows/s]"
     ]
    },
    {
     "name": "stdout",
     "output_type": "stream",
     "text": [
      "Valid Chunk rows: 771\n"
     ]
    },
    {
     "name": "stderr",
     "output_type": "stream",
     "text": [
      "Processing CSV:  17%|█▋        | 85000/502368 [00:49<04:22, 1588.35rows/s]"
     ]
    },
    {
     "name": "stdout",
     "output_type": "stream",
     "text": [
      "Valid Chunk rows: 759\n"
     ]
    },
    {
     "name": "stderr",
     "output_type": "stream",
     "text": [
      "Processing CSV:  18%|█▊        | 90000/502368 [00:52<04:20, 1584.39rows/s]"
     ]
    },
    {
     "name": "stdout",
     "output_type": "stream",
     "text": [
      "Valid Chunk rows: 798\n"
     ]
    },
    {
     "name": "stderr",
     "output_type": "stream",
     "text": [
      "Processing CSV:  19%|█▉        | 95000/502368 [00:56<04:16, 1587.36rows/s]"
     ]
    },
    {
     "name": "stdout",
     "output_type": "stream",
     "text": [
      "Valid Chunk rows: 745\n"
     ]
    },
    {
     "name": "stderr",
     "output_type": "stream",
     "text": [
      "Processing CSV:  20%|█▉        | 100000/502368 [00:59<04:13, 1588.66rows/s]"
     ]
    },
    {
     "name": "stdout",
     "output_type": "stream",
     "text": [
      "Valid Chunk rows: 823\n"
     ]
    },
    {
     "name": "stderr",
     "output_type": "stream",
     "text": [
      "Processing CSV:  21%|██        | 105000/502368 [01:02<04:10, 1586.42rows/s]"
     ]
    },
    {
     "name": "stdout",
     "output_type": "stream",
     "text": [
      "Valid Chunk rows: 790\n",
      "Valid Chunk rows: 846\n"
     ]
    },
    {
     "name": "stderr",
     "output_type": "stream",
     "text": [
      "Processing CSV:  23%|██▎       | 115000/502368 [01:08<04:04, 1585.60rows/s]"
     ]
    },
    {
     "name": "stdout",
     "output_type": "stream",
     "text": [
      "Valid Chunk rows: 801\n"
     ]
    },
    {
     "name": "stderr",
     "output_type": "stream",
     "text": [
      "Processing CSV:  24%|██▍       | 120000/502368 [01:11<03:59, 1594.94rows/s]"
     ]
    },
    {
     "name": "stdout",
     "output_type": "stream",
     "text": [
      "Valid Chunk rows: 736\n"
     ]
    },
    {
     "name": "stderr",
     "output_type": "stream",
     "text": [
      "Processing CSV:  25%|██▍       | 125000/502368 [01:14<03:56, 1594.09rows/s]"
     ]
    },
    {
     "name": "stdout",
     "output_type": "stream",
     "text": [
      "Valid Chunk rows: 796\n"
     ]
    },
    {
     "name": "stderr",
     "output_type": "stream",
     "text": [
      "Processing CSV:  26%|██▌       | 130000/502368 [01:18<03:53, 1593.67rows/s]"
     ]
    },
    {
     "name": "stdout",
     "output_type": "stream",
     "text": [
      "Valid Chunk rows: 771\n",
      "Valid Chunk rows: 753\n"
     ]
    },
    {
     "name": "stderr",
     "output_type": "stream",
     "text": [
      "Processing CSV:  28%|██▊       | 140000/502368 [01:24<03:46, 1599.98rows/s]"
     ]
    },
    {
     "name": "stdout",
     "output_type": "stream",
     "text": [
      "Valid Chunk rows: 771\n"
     ]
    },
    {
     "name": "stderr",
     "output_type": "stream",
     "text": [
      "Processing CSV:  29%|██▉       | 145000/502368 [01:27<03:43, 1599.19rows/s]"
     ]
    },
    {
     "name": "stdout",
     "output_type": "stream",
     "text": [
      "Valid Chunk rows: 822\n"
     ]
    },
    {
     "name": "stderr",
     "output_type": "stream",
     "text": [
      "Processing CSV:  30%|██▉       | 150000/502368 [01:30<03:39, 1604.10rows/s]"
     ]
    },
    {
     "name": "stdout",
     "output_type": "stream",
     "text": [
      "Valid Chunk rows: 739\n"
     ]
    },
    {
     "name": "stderr",
     "output_type": "stream",
     "text": [
      "Processing CSV:  31%|███       | 155000/502368 [01:33<03:36, 1600.90rows/s]"
     ]
    },
    {
     "name": "stdout",
     "output_type": "stream",
     "text": [
      "Valid Chunk rows: 758\n"
     ]
    },
    {
     "name": "stderr",
     "output_type": "stream",
     "text": [
      "Processing CSV:  32%|███▏      | 160000/502368 [01:38<04:02, 1411.61rows/s]"
     ]
    },
    {
     "name": "stdout",
     "output_type": "stream",
     "text": [
      "Valid Chunk rows: 812\n"
     ]
    },
    {
     "name": "stderr",
     "output_type": "stream",
     "text": [
      "Processing CSV:  33%|███▎      | 165000/502368 [01:41<03:51, 1458.80rows/s]"
     ]
    },
    {
     "name": "stdout",
     "output_type": "stream",
     "text": [
      "Valid Chunk rows: 791\n"
     ]
    },
    {
     "name": "stderr",
     "output_type": "stream",
     "text": [
      "Processing CSV:  34%|███▍      | 170000/502368 [01:44<03:43, 1486.11rows/s]"
     ]
    },
    {
     "name": "stdout",
     "output_type": "stream",
     "text": [
      "Valid Chunk rows: 729\n"
     ]
    },
    {
     "name": "stderr",
     "output_type": "stream",
     "text": [
      "Processing CSV:  35%|███▍      | 175000/502368 [01:47<03:38, 1498.53rows/s]"
     ]
    },
    {
     "name": "stdout",
     "output_type": "stream",
     "text": [
      "Valid Chunk rows: 794\n"
     ]
    },
    {
     "name": "stderr",
     "output_type": "stream",
     "text": [
      "Processing CSV:  36%|███▌      | 180000/502368 [01:51<03:34, 1502.79rows/s]"
     ]
    },
    {
     "name": "stdout",
     "output_type": "stream",
     "text": [
      "Valid Chunk rows: 728\n"
     ]
    },
    {
     "name": "stderr",
     "output_type": "stream",
     "text": [
      "Processing CSV:  37%|███▋      | 185000/502368 [01:54<03:28, 1525.78rows/s]"
     ]
    },
    {
     "name": "stdout",
     "output_type": "stream",
     "text": [
      "Valid Chunk rows: 776\n",
      "Valid Chunk rows: 733\n"
     ]
    },
    {
     "name": "stderr",
     "output_type": "stream",
     "text": [
      "Processing CSV:  39%|███▉      | 195000/502368 [02:00<03:18, 1548.98rows/s]"
     ]
    },
    {
     "name": "stdout",
     "output_type": "stream",
     "text": [
      "Valid Chunk rows: 739\n"
     ]
    },
    {
     "name": "stderr",
     "output_type": "stream",
     "text": [
      "Processing CSV:  40%|███▉      | 200000/502368 [02:03<03:13, 1559.85rows/s]"
     ]
    },
    {
     "name": "stdout",
     "output_type": "stream",
     "text": [
      "Valid Chunk rows: 838\n"
     ]
    },
    {
     "name": "stderr",
     "output_type": "stream",
     "text": [
      "Processing CSV:  41%|████      | 205000/502368 [02:06<03:08, 1576.51rows/s]"
     ]
    },
    {
     "name": "stdout",
     "output_type": "stream",
     "text": [
      "Valid Chunk rows: 824\n",
      "Valid Chunk rows: 770\n"
     ]
    },
    {
     "name": "stderr",
     "output_type": "stream",
     "text": [
      "Processing CSV:  43%|████▎     | 215000/502368 [02:13<03:00, 1588.71rows/s]"
     ]
    },
    {
     "name": "stdout",
     "output_type": "stream",
     "text": [
      "Valid Chunk rows: 797\n"
     ]
    },
    {
     "name": "stderr",
     "output_type": "stream",
     "text": [
      "Processing CSV:  44%|████▍     | 220000/502368 [02:16<02:57, 1595.01rows/s]"
     ]
    },
    {
     "name": "stdout",
     "output_type": "stream",
     "text": [
      "Valid Chunk rows: 779\n"
     ]
    },
    {
     "name": "stderr",
     "output_type": "stream",
     "text": [
      "Processing CSV:  45%|████▍     | 225000/502368 [02:19<02:54, 1593.69rows/s]"
     ]
    },
    {
     "name": "stdout",
     "output_type": "stream",
     "text": [
      "Valid Chunk rows: 761\n",
      "Valid Chunk rows: 793\n"
     ]
    },
    {
     "name": "stderr",
     "output_type": "stream",
     "text": [
      "Processing CSV:  47%|████▋     | 235000/502368 [02:27<03:13, 1379.16rows/s]"
     ]
    },
    {
     "name": "stdout",
     "output_type": "stream",
     "text": [
      "Valid Chunk rows: 749\n"
     ]
    },
    {
     "name": "stderr",
     "output_type": "stream",
     "text": [
      "Processing CSV:  48%|████▊     | 240000/502368 [02:31<03:07, 1402.88rows/s]"
     ]
    },
    {
     "name": "stdout",
     "output_type": "stream",
     "text": [
      "Valid Chunk rows: 785\n"
     ]
    },
    {
     "name": "stderr",
     "output_type": "stream",
     "text": [
      "Processing CSV:  49%|████▉     | 245000/502368 [02:34<02:59, 1434.63rows/s]"
     ]
    },
    {
     "name": "stdout",
     "output_type": "stream",
     "text": [
      "Valid Chunk rows: 742\n",
      "Valid Chunk rows: 771\n"
     ]
    },
    {
     "name": "stderr",
     "output_type": "stream",
     "text": [
      "Processing CSV:  51%|█████     | 255000/502368 [02:40<02:47, 1478.05rows/s]"
     ]
    },
    {
     "name": "stdout",
     "output_type": "stream",
     "text": [
      "Valid Chunk rows: 780\n"
     ]
    },
    {
     "name": "stderr",
     "output_type": "stream",
     "text": [
      "Processing CSV:  52%|█████▏    | 260000/502368 [02:44<02:41, 1505.33rows/s]"
     ]
    },
    {
     "name": "stdout",
     "output_type": "stream",
     "text": [
      "Valid Chunk rows: 770\n",
      "Valid Chunk rows: 778\n"
     ]
    },
    {
     "name": "stderr",
     "output_type": "stream",
     "text": [
      "Processing CSV:  53%|█████▎    | 265000/502368 [02:47<02:44, 1442.47rows/s]"
     ]
    },
    {
     "name": "stdout",
     "output_type": "stream",
     "text": [
      "Valid Chunk rows: 763\n"
     ]
    },
    {
     "name": "stderr",
     "output_type": "stream",
     "text": [
      "Processing CSV:  54%|█████▎    | 270000/502368 [02:52<02:54, 1334.24rows/s]"
     ]
    },
    {
     "name": "stdout",
     "output_type": "stream",
     "text": [
      "Valid Chunk rows: 773\n"
     ]
    },
    {
     "name": "stderr",
     "output_type": "stream",
     "text": [
      "Processing CSV:  56%|█████▌    | 280000/502368 [03:00<02:55, 1265.47rows/s]"
     ]
    },
    {
     "name": "stdout",
     "output_type": "stream",
     "text": [
      "Valid Chunk rows: 803\n"
     ]
    },
    {
     "name": "stderr",
     "output_type": "stream",
     "text": [
      "Processing CSV:  57%|█████▋    | 285000/502368 [03:03<02:40, 1350.23rows/s]"
     ]
    },
    {
     "name": "stdout",
     "output_type": "stream",
     "text": [
      "Valid Chunk rows: 773\n",
      "Valid Chunk rows: 830\n"
     ]
    },
    {
     "name": "stderr",
     "output_type": "stream",
     "text": [
      "Processing CSV:  59%|█████▊    | 295000/502368 [03:10<02:22, 1456.39rows/s]"
     ]
    },
    {
     "name": "stdout",
     "output_type": "stream",
     "text": [
      "Valid Chunk rows: 783\n",
      "Valid Chunk rows: 758\n"
     ]
    },
    {
     "name": "stderr",
     "output_type": "stream",
     "text": [
      "Processing CSV:  60%|█████▉    | 300000/502368 [03:13<02:16, 1487.07rows/s]"
     ]
    },
    {
     "name": "stdout",
     "output_type": "stream",
     "text": [
      "Valid Chunk rows: 790\n"
     ]
    },
    {
     "name": "stderr",
     "output_type": "stream",
     "text": [
      "Processing CSV:  62%|██████▏   | 310000/502368 [03:19<02:04, 1541.48rows/s]"
     ]
    },
    {
     "name": "stdout",
     "output_type": "stream",
     "text": [
      "Valid Chunk rows: 804\n",
      "Valid Chunk rows: 784\n"
     ]
    },
    {
     "name": "stderr",
     "output_type": "stream",
     "text": [
      "Processing CSV:  63%|██████▎   | 315000/502368 [03:22<02:00, 1557.02rows/s]"
     ]
    },
    {
     "name": "stdout",
     "output_type": "stream",
     "text": [
      "Valid Chunk rows: 827\n"
     ]
    },
    {
     "name": "stderr",
     "output_type": "stream",
     "text": [
      "Processing CSV:  65%|██████▍   | 325000/502368 [03:29<01:51, 1586.14rows/s]"
     ]
    },
    {
     "name": "stdout",
     "output_type": "stream",
     "text": [
      "Valid Chunk rows: 761\n"
     ]
    },
    {
     "name": "stderr",
     "output_type": "stream",
     "text": [
      "Processing CSV:  66%|██████▌   | 330000/502368 [03:32<01:47, 1599.19rows/s]"
     ]
    },
    {
     "name": "stdout",
     "output_type": "stream",
     "text": [
      "Valid Chunk rows: 775\n"
     ]
    },
    {
     "name": "stderr",
     "output_type": "stream",
     "text": [
      "Processing CSV:  67%|██████▋   | 335000/502368 [03:35<01:44, 1605.54rows/s]"
     ]
    },
    {
     "name": "stdout",
     "output_type": "stream",
     "text": [
      "Valid Chunk rows: 750\n"
     ]
    },
    {
     "name": "stderr",
     "output_type": "stream",
     "text": [
      "Processing CSV:  68%|██████▊   | 340000/502368 [03:38<01:40, 1608.23rows/s]"
     ]
    },
    {
     "name": "stdout",
     "output_type": "stream",
     "text": [
      "Valid Chunk rows: 820\n"
     ]
    },
    {
     "name": "stderr",
     "output_type": "stream",
     "text": [
      "Processing CSV:  69%|██████▊   | 345000/502368 [03:41<01:37, 1614.30rows/s]"
     ]
    },
    {
     "name": "stdout",
     "output_type": "stream",
     "text": [
      "Valid Chunk rows: 754\n"
     ]
    },
    {
     "name": "stderr",
     "output_type": "stream",
     "text": [
      "Processing CSV:  70%|██████▉   | 350000/502368 [03:44<01:33, 1625.14rows/s]"
     ]
    },
    {
     "name": "stdout",
     "output_type": "stream",
     "text": [
      "Valid Chunk rows: 775\n"
     ]
    },
    {
     "name": "stderr",
     "output_type": "stream",
     "text": [
      "Processing CSV:  71%|███████   | 355000/502368 [03:47<01:31, 1612.57rows/s]"
     ]
    },
    {
     "name": "stdout",
     "output_type": "stream",
     "text": [
      "Valid Chunk rows: 806\n"
     ]
    },
    {
     "name": "stderr",
     "output_type": "stream",
     "text": [
      "Processing CSV:  72%|███████▏  | 360000/502368 [03:50<01:28, 1614.02rows/s]"
     ]
    },
    {
     "name": "stdout",
     "output_type": "stream",
     "text": [
      "Valid Chunk rows: 741\n"
     ]
    },
    {
     "name": "stderr",
     "output_type": "stream",
     "text": [
      "Processing CSV:  73%|███████▎  | 365000/502368 [03:53<01:24, 1624.76rows/s]"
     ]
    },
    {
     "name": "stdout",
     "output_type": "stream",
     "text": [
      "Valid Chunk rows: 784\n",
      "Valid Chunk rows: 800\n"
     ]
    },
    {
     "name": "stderr",
     "output_type": "stream",
     "text": [
      "Processing CSV:  75%|███████▍  | 375000/502368 [04:00<01:19, 1604.44rows/s]"
     ]
    },
    {
     "name": "stdout",
     "output_type": "stream",
     "text": [
      "Valid Chunk rows: 787\n"
     ]
    },
    {
     "name": "stderr",
     "output_type": "stream",
     "text": [
      "Processing CSV:  76%|███████▌  | 380000/502368 [04:03<01:15, 1612.57rows/s]"
     ]
    },
    {
     "name": "stdout",
     "output_type": "stream",
     "text": [
      "Valid Chunk rows: 752\n",
      "Valid Chunk rows: 772\n"
     ]
    },
    {
     "name": "stderr",
     "output_type": "stream",
     "text": [
      "Processing CSV:  78%|███████▊  | 390000/502368 [04:09<01:09, 1626.81rows/s]"
     ]
    },
    {
     "name": "stdout",
     "output_type": "stream",
     "text": [
      "Valid Chunk rows: 765\n"
     ]
    },
    {
     "name": "stderr",
     "output_type": "stream",
     "text": [
      "Processing CSV:  79%|███████▊  | 395000/502368 [04:12<01:05, 1635.85rows/s]"
     ]
    },
    {
     "name": "stdout",
     "output_type": "stream",
     "text": [
      "Valid Chunk rows: 773\n",
      "Valid Chunk rows: 786\n"
     ]
    },
    {
     "name": "stderr",
     "output_type": "stream",
     "text": [
      "Processing CSV:  81%|████████  | 405000/502368 [04:18<01:00, 1603.53rows/s]"
     ]
    },
    {
     "name": "stdout",
     "output_type": "stream",
     "text": [
      "Valid Chunk rows: 719\n",
      "Valid Chunk rows: 773\n"
     ]
    },
    {
     "name": "stderr",
     "output_type": "stream",
     "text": [
      "Processing CSV:  82%|████████▏ | 410000/502368 [04:21<00:58, 1592.28rows/s]"
     ]
    },
    {
     "name": "stdout",
     "output_type": "stream",
     "text": [
      "Valid Chunk rows: 748\n"
     ]
    },
    {
     "name": "stderr",
     "output_type": "stream",
     "text": [
      "Processing CSV:  84%|████████▎ | 420000/502368 [04:28<00:52, 1578.22rows/s]"
     ]
    },
    {
     "name": "stdout",
     "output_type": "stream",
     "text": [
      "Valid Chunk rows: 807\n"
     ]
    },
    {
     "name": "stderr",
     "output_type": "stream",
     "text": [
      "Processing CSV:  85%|████████▍ | 425000/502368 [04:31<00:48, 1586.76rows/s]"
     ]
    },
    {
     "name": "stdout",
     "output_type": "stream",
     "text": [
      "Valid Chunk rows: 760\n",
      "Valid Chunk rows: 709\n"
     ]
    },
    {
     "name": "stderr",
     "output_type": "stream",
     "text": [
      "Processing CSV:  87%|████████▋ | 435000/502368 [04:37<00:41, 1609.10rows/s]"
     ]
    },
    {
     "name": "stdout",
     "output_type": "stream",
     "text": [
      "Valid Chunk rows: 806\n"
     ]
    },
    {
     "name": "stderr",
     "output_type": "stream",
     "text": [
      "Processing CSV:  88%|████████▊ | 440000/502368 [04:40<00:39, 1569.69rows/s]"
     ]
    },
    {
     "name": "stdout",
     "output_type": "stream",
     "text": [
      "Valid Chunk rows: 770\n"
     ]
    },
    {
     "name": "stderr",
     "output_type": "stream",
     "text": [
      "Processing CSV:  89%|████████▊ | 445000/502368 [04:44<00:37, 1512.71rows/s]"
     ]
    },
    {
     "name": "stdout",
     "output_type": "stream",
     "text": [
      "Valid Chunk rows: 764\n"
     ]
    },
    {
     "name": "stderr",
     "output_type": "stream",
     "text": [
      "Processing CSV:  90%|████████▉ | 450000/502368 [04:47<00:33, 1543.25rows/s]"
     ]
    },
    {
     "name": "stdout",
     "output_type": "stream",
     "text": [
      "Valid Chunk rows: 776\n"
     ]
    },
    {
     "name": "stderr",
     "output_type": "stream",
     "text": [
      "Processing CSV:  91%|█████████ | 455000/502368 [04:50<00:30, 1558.22rows/s]"
     ]
    },
    {
     "name": "stdout",
     "output_type": "stream",
     "text": [
      "Valid Chunk rows: 750\n"
     ]
    },
    {
     "name": "stderr",
     "output_type": "stream",
     "text": [
      "Processing CSV:  92%|█████████▏| 460000/502368 [04:53<00:26, 1572.19rows/s]"
     ]
    },
    {
     "name": "stdout",
     "output_type": "stream",
     "text": [
      "Valid Chunk rows: 768\n"
     ]
    },
    {
     "name": "stderr",
     "output_type": "stream",
     "text": [
      "Processing CSV:  93%|█████████▎| 465000/502368 [04:56<00:23, 1585.46rows/s]"
     ]
    },
    {
     "name": "stdout",
     "output_type": "stream",
     "text": [
      "Valid Chunk rows: 761\n"
     ]
    },
    {
     "name": "stderr",
     "output_type": "stream",
     "text": [
      "Processing CSV:  94%|█████████▎| 470000/502368 [04:59<00:20, 1599.89rows/s]"
     ]
    },
    {
     "name": "stdout",
     "output_type": "stream",
     "text": [
      "Valid Chunk rows: 782\n",
      "Valid Chunk rows: 725\n"
     ]
    },
    {
     "name": "stderr",
     "output_type": "stream",
     "text": [
      "Processing CSV:  96%|█████████▌| 480000/502368 [05:06<00:13, 1600.27rows/s]"
     ]
    },
    {
     "name": "stdout",
     "output_type": "stream",
     "text": [
      "Valid Chunk rows: 772\n"
     ]
    },
    {
     "name": "stderr",
     "output_type": "stream",
     "text": [
      "Processing CSV:  97%|█████████▋| 485000/502368 [05:09<00:10, 1610.86rows/s]"
     ]
    },
    {
     "name": "stdout",
     "output_type": "stream",
     "text": [
      "Valid Chunk rows: 795\n"
     ]
    },
    {
     "name": "stderr",
     "output_type": "stream",
     "text": [
      "Processing CSV:  98%|█████████▊| 490000/502368 [05:12<00:07, 1607.05rows/s]"
     ]
    },
    {
     "name": "stdout",
     "output_type": "stream",
     "text": [
      "Valid Chunk rows: 773\n"
     ]
    },
    {
     "name": "stderr",
     "output_type": "stream",
     "text": [
      "Processing CSV:  99%|█████████▊| 495000/502368 [05:15<00:04, 1593.86rows/s]"
     ]
    },
    {
     "name": "stdout",
     "output_type": "stream",
     "text": [
      "Valid Chunk rows: 764\n",
      "Valid Chunk rows: 804\n"
     ]
    },
    {
     "name": "stderr",
     "output_type": "stream",
     "text": [
      "Processing CSV: 505000rows [05:20, 1576.45rows/s]                          \n"
     ]
    },
    {
     "name": "stdout",
     "output_type": "stream",
     "text": [
      "Valid Chunk rows: 371\n",
      "Dropping empty columns in the temporary table: ICD10_temp\n"
     ]
    },
    {
     "name": "stderr",
     "output_type": "stream",
     "text": [
      " 83%|████████▎ | 217/260 [21:58<21:38, 30.20s/it]"
     ]
    },
    {
     "name": "stdout",
     "output_type": "stream",
     "text": [
      "Dropping empty column: 41270-0.215\n"
     ]
    },
    {
     "name": "stderr",
     "output_type": "stream",
     "text": [
      " 84%|████████▍ | 218/260 [22:35<22:27, 32.07s/it]"
     ]
    },
    {
     "name": "stdout",
     "output_type": "stream",
     "text": [
      "Dropping empty column: 41270-0.216\n"
     ]
    },
    {
     "name": "stderr",
     "output_type": "stream",
     "text": [
      " 84%|████████▍ | 219/260 [23:23<25:08, 36.79s/it]"
     ]
    },
    {
     "name": "stdout",
     "output_type": "stream",
     "text": [
      "Dropping empty column: 41270-0.217\n"
     ]
    },
    {
     "name": "stderr",
     "output_type": "stream",
     "text": [
      " 85%|████████▍ | 220/260 [23:59<24:31, 36.79s/it]"
     ]
    },
    {
     "name": "stdout",
     "output_type": "stream",
     "text": [
      "Dropping empty column: 41270-0.218\n"
     ]
    },
    {
     "name": "stderr",
     "output_type": "stream",
     "text": [
      " 85%|████████▌ | 221/260 [24:36<23:59, 36.90s/it]"
     ]
    },
    {
     "name": "stdout",
     "output_type": "stream",
     "text": [
      "Dropping empty column: 41270-0.219\n"
     ]
    },
    {
     "name": "stderr",
     "output_type": "stream",
     "text": [
      " 85%|████████▌ | 222/260 [25:12<23:00, 36.34s/it]"
     ]
    },
    {
     "name": "stdout",
     "output_type": "stream",
     "text": [
      "Dropping empty column: 41270-0.220\n"
     ]
    },
    {
     "name": "stderr",
     "output_type": "stream",
     "text": [
      " 86%|████████▌ | 223/260 [25:51<22:56, 37.20s/it]"
     ]
    },
    {
     "name": "stdout",
     "output_type": "stream",
     "text": [
      "Dropping empty column: 41270-0.221\n"
     ]
    },
    {
     "name": "stderr",
     "output_type": "stream",
     "text": [
      " 86%|████████▌ | 224/260 [26:36<23:46, 39.63s/it]"
     ]
    },
    {
     "name": "stdout",
     "output_type": "stream",
     "text": [
      "Dropping empty column: 41270-0.222\n"
     ]
    },
    {
     "name": "stderr",
     "output_type": "stream",
     "text": [
      " 87%|████████▋ | 225/260 [27:18<23:30, 40.31s/it]"
     ]
    },
    {
     "name": "stdout",
     "output_type": "stream",
     "text": [
      "Dropping empty column: 41270-0.223\n"
     ]
    },
    {
     "name": "stderr",
     "output_type": "stream",
     "text": [
      " 87%|████████▋ | 226/260 [28:07<24:23, 43.03s/it]"
     ]
    },
    {
     "name": "stdout",
     "output_type": "stream",
     "text": [
      "Dropping empty column: 41270-0.224\n"
     ]
    },
    {
     "name": "stderr",
     "output_type": "stream",
     "text": [
      " 87%|████████▋ | 227/260 [28:56<24:34, 44.68s/it]"
     ]
    },
    {
     "name": "stdout",
     "output_type": "stream",
     "text": [
      "Dropping empty column: 41270-0.225\n"
     ]
    },
    {
     "name": "stderr",
     "output_type": "stream",
     "text": [
      " 88%|████████▊ | 228/260 [29:31<22:14, 41.70s/it]"
     ]
    },
    {
     "name": "stdout",
     "output_type": "stream",
     "text": [
      "Dropping empty column: 41270-0.226\n"
     ]
    },
    {
     "name": "stderr",
     "output_type": "stream",
     "text": [
      " 88%|████████▊ | 229/260 [29:59<19:26, 37.61s/it]"
     ]
    },
    {
     "name": "stdout",
     "output_type": "stream",
     "text": [
      "Dropping empty column: 41270-0.227\n"
     ]
    },
    {
     "name": "stderr",
     "output_type": "stream",
     "text": [
      " 88%|████████▊ | 230/260 [30:29<17:39, 35.31s/it]"
     ]
    },
    {
     "name": "stdout",
     "output_type": "stream",
     "text": [
      "Dropping empty column: 41270-0.228\n"
     ]
    },
    {
     "name": "stderr",
     "output_type": "stream",
     "text": [
      " 89%|████████▉ | 231/260 [31:13<18:24, 38.07s/it]"
     ]
    },
    {
     "name": "stdout",
     "output_type": "stream",
     "text": [
      "Dropping empty column: 41270-0.229\n"
     ]
    },
    {
     "name": "stderr",
     "output_type": "stream",
     "text": [
      " 89%|████████▉ | 232/260 [31:44<16:44, 35.88s/it]"
     ]
    },
    {
     "name": "stdout",
     "output_type": "stream",
     "text": [
      "Dropping empty column: 41270-0.230\n"
     ]
    },
    {
     "name": "stderr",
     "output_type": "stream",
     "text": [
      " 90%|████████▉ | 233/260 [32:15<15:26, 34.32s/it]"
     ]
    },
    {
     "name": "stdout",
     "output_type": "stream",
     "text": [
      "Dropping empty column: 41270-0.231\n"
     ]
    },
    {
     "name": "stderr",
     "output_type": "stream",
     "text": [
      " 90%|█████████ | 234/260 [32:54<15:34, 35.93s/it]"
     ]
    },
    {
     "name": "stdout",
     "output_type": "stream",
     "text": [
      "Dropping empty column: 41270-0.232\n"
     ]
    },
    {
     "name": "stderr",
     "output_type": "stream",
     "text": [
      " 90%|█████████ | 235/260 [33:20<13:43, 32.94s/it]"
     ]
    },
    {
     "name": "stdout",
     "output_type": "stream",
     "text": [
      "Dropping empty column: 41270-0.233\n"
     ]
    },
    {
     "name": "stderr",
     "output_type": "stream",
     "text": [
      " 91%|█████████ | 236/260 [33:47<12:30, 31.25s/it]"
     ]
    },
    {
     "name": "stdout",
     "output_type": "stream",
     "text": [
      "Dropping empty column: 41270-0.234\n"
     ]
    },
    {
     "name": "stderr",
     "output_type": "stream",
     "text": [
      " 91%|█████████ | 237/260 [34:16<11:36, 30.29s/it]"
     ]
    },
    {
     "name": "stdout",
     "output_type": "stream",
     "text": [
      "Dropping empty column: 41270-0.235\n"
     ]
    },
    {
     "name": "stderr",
     "output_type": "stream",
     "text": [
      " 92%|█████████▏| 238/260 [34:45<10:59, 29.97s/it]"
     ]
    },
    {
     "name": "stdout",
     "output_type": "stream",
     "text": [
      "Dropping empty column: 41270-0.236\n"
     ]
    },
    {
     "name": "stderr",
     "output_type": "stream",
     "text": [
      " 92%|█████████▏| 239/260 [35:12<10:10, 29.08s/it]"
     ]
    },
    {
     "name": "stdout",
     "output_type": "stream",
     "text": [
      "Dropping empty column: 41270-0.237\n"
     ]
    },
    {
     "name": "stderr",
     "output_type": "stream",
     "text": [
      " 92%|█████████▏| 240/260 [35:32<08:50, 26.54s/it]"
     ]
    },
    {
     "name": "stdout",
     "output_type": "stream",
     "text": [
      "Dropping empty column: 41270-0.238\n"
     ]
    },
    {
     "name": "stderr",
     "output_type": "stream",
     "text": [
      " 93%|█████████▎| 241/260 [35:48<07:19, 23.11s/it]"
     ]
    },
    {
     "name": "stdout",
     "output_type": "stream",
     "text": [
      "Dropping empty column: 41270-0.239\n"
     ]
    },
    {
     "name": "stderr",
     "output_type": "stream",
     "text": [
      " 93%|█████████▎| 242/260 [35:58<05:50, 19.47s/it]"
     ]
    },
    {
     "name": "stdout",
     "output_type": "stream",
     "text": [
      "Dropping empty column: 41270-0.240\n"
     ]
    },
    {
     "name": "stderr",
     "output_type": "stream",
     "text": [
      " 93%|█████████▎| 243/260 [36:11<04:56, 17.45s/it]"
     ]
    },
    {
     "name": "stdout",
     "output_type": "stream",
     "text": [
      "Dropping empty column: 41270-0.241\n"
     ]
    },
    {
     "name": "stderr",
     "output_type": "stream",
     "text": [
      " 94%|█████████▍| 244/260 [36:24<04:14, 15.91s/it]"
     ]
    },
    {
     "name": "stdout",
     "output_type": "stream",
     "text": [
      "Dropping empty column: 41270-0.242\n"
     ]
    },
    {
     "name": "stderr",
     "output_type": "stream",
     "text": [
      " 94%|█████████▍| 245/260 [36:35<03:40, 14.70s/it]"
     ]
    },
    {
     "name": "stdout",
     "output_type": "stream",
     "text": [
      "Dropping empty column: 41270-0.243\n"
     ]
    },
    {
     "name": "stderr",
     "output_type": "stream",
     "text": [
      " 95%|█████████▍| 246/260 [36:42<02:53, 12.40s/it]"
     ]
    },
    {
     "name": "stdout",
     "output_type": "stream",
     "text": [
      "Dropping empty column: 41270-0.244\n"
     ]
    },
    {
     "name": "stderr",
     "output_type": "stream",
     "text": [
      " 95%|█████████▌| 247/260 [36:48<02:14, 10.31s/it]"
     ]
    },
    {
     "name": "stdout",
     "output_type": "stream",
     "text": [
      "Dropping empty column: 41270-0.245\n"
     ]
    },
    {
     "name": "stderr",
     "output_type": "stream",
     "text": [
      " 95%|█████████▌| 248/260 [36:53<01:44,  8.67s/it]"
     ]
    },
    {
     "name": "stdout",
     "output_type": "stream",
     "text": [
      "Dropping empty column: 41270-0.246\n"
     ]
    },
    {
     "name": "stderr",
     "output_type": "stream",
     "text": [
      " 96%|█████████▌| 249/260 [37:00<01:29,  8.13s/it]"
     ]
    },
    {
     "name": "stdout",
     "output_type": "stream",
     "text": [
      "Dropping empty column: 41270-0.247\n"
     ]
    },
    {
     "name": "stderr",
     "output_type": "stream",
     "text": [
      " 96%|█████████▌| 250/260 [37:06<01:15,  7.57s/it]"
     ]
    },
    {
     "name": "stdout",
     "output_type": "stream",
     "text": [
      "Dropping empty column: 41270-0.248\n"
     ]
    },
    {
     "name": "stderr",
     "output_type": "stream",
     "text": [
      " 97%|█████████▋| 251/260 [37:11<01:01,  6.83s/it]"
     ]
    },
    {
     "name": "stdout",
     "output_type": "stream",
     "text": [
      "Dropping empty column: 41270-0.249\n"
     ]
    },
    {
     "name": "stderr",
     "output_type": "stream",
     "text": [
      " 97%|█████████▋| 252/260 [37:16<00:50,  6.33s/it]"
     ]
    },
    {
     "name": "stdout",
     "output_type": "stream",
     "text": [
      "Dropping empty column: 41270-0.250\n"
     ]
    },
    {
     "name": "stderr",
     "output_type": "stream",
     "text": [
      " 97%|█████████▋| 253/260 [37:21<00:41,  5.97s/it]"
     ]
    },
    {
     "name": "stdout",
     "output_type": "stream",
     "text": [
      "Dropping empty column: 41270-0.251\n"
     ]
    },
    {
     "name": "stderr",
     "output_type": "stream",
     "text": [
      " 98%|█████████▊| 254/260 [37:26<00:34,  5.69s/it]"
     ]
    },
    {
     "name": "stdout",
     "output_type": "stream",
     "text": [
      "Dropping empty column: 41270-0.252\n"
     ]
    },
    {
     "name": "stderr",
     "output_type": "stream",
     "text": [
      " 98%|█████████▊| 255/260 [37:31<00:27,  5.54s/it]"
     ]
    },
    {
     "name": "stdout",
     "output_type": "stream",
     "text": [
      "Dropping empty column: 41270-0.253\n"
     ]
    },
    {
     "name": "stderr",
     "output_type": "stream",
     "text": [
      " 98%|█████████▊| 256/260 [37:37<00:21,  5.41s/it]"
     ]
    },
    {
     "name": "stdout",
     "output_type": "stream",
     "text": [
      "Dropping empty column: 41270-0.254\n"
     ]
    },
    {
     "name": "stderr",
     "output_type": "stream",
     "text": [
      " 99%|█████████▉| 257/260 [37:42<00:15,  5.33s/it]"
     ]
    },
    {
     "name": "stdout",
     "output_type": "stream",
     "text": [
      "Dropping empty column: 41270-0.255\n"
     ]
    },
    {
     "name": "stderr",
     "output_type": "stream",
     "text": [
      " 99%|█████████▉| 258/260 [37:47<00:10,  5.40s/it]"
     ]
    },
    {
     "name": "stdout",
     "output_type": "stream",
     "text": [
      "Dropping empty column: 41270-0.256\n"
     ]
    },
    {
     "name": "stderr",
     "output_type": "stream",
     "text": [
      "100%|█████████▉| 259/260 [37:53<00:05,  5.43s/it]"
     ]
    },
    {
     "name": "stdout",
     "output_type": "stream",
     "text": [
      "Dropping empty column: 41270-0.257\n"
     ]
    },
    {
     "name": "stderr",
     "output_type": "stream",
     "text": [
      "100%|██████████| 260/260 [37:58<00:00,  8.76s/it]"
     ]
    },
    {
     "name": "stdout",
     "output_type": "stream",
     "text": [
      "Dropping empty column: 41270-0.258\n",
      "There will be 216 columns in the table: ICD10\n",
      "Creating the formal table: ICD10\n",
      "Inserting data into the formal table: ICD10\n"
     ]
    },
    {
     "name": "stderr",
     "output_type": "stream",
     "text": [
      "\n"
     ]
    },
    {
     "name": "stdout",
     "output_type": "stream",
     "text": [
      "Table ICD10 has been created successfully.\n"
     ]
    }
   ],
   "source": [
    "generate_table_from_csv(ICD10_table_name, ICD10_columns_ID)"
   ]
  },
  {
   "cell_type": "code",
   "execution_count": 64,
   "metadata": {},
   "outputs": [
    {
     "name": "stdout",
     "output_type": "stream",
     "text": [
      "(0, 'eid', 'INTEGER', 0, None, 1)\n",
      "(1, '41270-0.0', '', 0, None, 0)\n",
      "(2, '41270-0.1', '', 0, None, 0)\n",
      "(3, '41270-0.2', '', 0, None, 0)\n",
      "(4, '41270-0.3', '', 0, None, 0)\n",
      "(5, '41270-0.4', '', 0, None, 0)\n",
      "(6, '41270-0.5', '', 0, None, 0)\n",
      "(7, '41270-0.6', '', 0, None, 0)\n",
      "(8, '41270-0.7', '', 0, None, 0)\n",
      "(9, '41270-0.8', '', 0, None, 0)\n",
      "(10, '41270-0.9', '', 0, None, 0)\n",
      "(11, '41270-0.10', '', 0, None, 0)\n",
      "(12, '41270-0.11', '', 0, None, 0)\n",
      "(13, '41270-0.12', '', 0, None, 0)\n",
      "(14, '41270-0.13', '', 0, None, 0)\n",
      "(15, '41270-0.14', '', 0, None, 0)\n",
      "(16, '41270-0.15', '', 0, None, 0)\n",
      "(17, '41270-0.16', '', 0, None, 0)\n",
      "(18, '41270-0.17', '', 0, None, 0)\n",
      "(19, '41270-0.18', '', 0, None, 0)\n",
      "(20, '41270-0.19', '', 0, None, 0)\n",
      "(21, '41270-0.20', '', 0, None, 0)\n",
      "(22, '41270-0.21', '', 0, None, 0)\n",
      "(23, '41270-0.22', '', 0, None, 0)\n",
      "(24, '41270-0.23', '', 0, None, 0)\n",
      "(25, '41270-0.24', '', 0, None, 0)\n",
      "(26, '41270-0.25', '', 0, None, 0)\n",
      "(27, '41270-0.26', '', 0, None, 0)\n",
      "(28, '41270-0.27', '', 0, None, 0)\n",
      "(29, '41270-0.28', '', 0, None, 0)\n",
      "(30, '41270-0.29', '', 0, None, 0)\n",
      "(31, '41270-0.30', '', 0, None, 0)\n",
      "(32, '41270-0.31', '', 0, None, 0)\n",
      "(33, '41270-0.32', '', 0, None, 0)\n",
      "(34, '41270-0.33', '', 0, None, 0)\n",
      "(35, '41270-0.34', '', 0, None, 0)\n",
      "(36, '41270-0.35', '', 0, None, 0)\n",
      "(37, '41270-0.36', '', 0, None, 0)\n",
      "(38, '41270-0.37', '', 0, None, 0)\n",
      "(39, '41270-0.38', '', 0, None, 0)\n",
      "(40, '41270-0.39', '', 0, None, 0)\n",
      "(41, '41270-0.40', '', 0, None, 0)\n",
      "(42, '41270-0.41', '', 0, None, 0)\n",
      "(43, '41270-0.42', '', 0, None, 0)\n",
      "(44, '41270-0.43', '', 0, None, 0)\n",
      "(45, '41270-0.44', '', 0, None, 0)\n",
      "(46, '41270-0.45', '', 0, None, 0)\n",
      "(47, '41270-0.46', '', 0, None, 0)\n",
      "(48, '41270-0.47', '', 0, None, 0)\n",
      "(49, '41270-0.48', '', 0, None, 0)\n",
      "(50, '41270-0.49', '', 0, None, 0)\n",
      "(51, '41270-0.50', '', 0, None, 0)\n",
      "(52, '41270-0.51', '', 0, None, 0)\n",
      "(53, '41270-0.52', '', 0, None, 0)\n",
      "(54, '41270-0.53', '', 0, None, 0)\n",
      "(55, '41270-0.54', '', 0, None, 0)\n",
      "(56, '41270-0.55', '', 0, None, 0)\n",
      "(57, '41270-0.56', '', 0, None, 0)\n",
      "(58, '41270-0.57', '', 0, None, 0)\n",
      "(59, '41270-0.58', '', 0, None, 0)\n",
      "(60, '41270-0.59', '', 0, None, 0)\n",
      "(61, '41270-0.60', '', 0, None, 0)\n",
      "(62, '41270-0.61', '', 0, None, 0)\n",
      "(63, '41270-0.62', '', 0, None, 0)\n",
      "(64, '41270-0.63', '', 0, None, 0)\n",
      "(65, '41270-0.64', '', 0, None, 0)\n",
      "(66, '41270-0.65', '', 0, None, 0)\n",
      "(67, '41270-0.66', '', 0, None, 0)\n",
      "(68, '41270-0.67', '', 0, None, 0)\n",
      "(69, '41270-0.68', '', 0, None, 0)\n",
      "(70, '41270-0.69', '', 0, None, 0)\n",
      "(71, '41270-0.70', '', 0, None, 0)\n",
      "(72, '41270-0.71', '', 0, None, 0)\n",
      "(73, '41270-0.72', '', 0, None, 0)\n",
      "(74, '41270-0.73', '', 0, None, 0)\n",
      "(75, '41270-0.74', '', 0, None, 0)\n",
      "(76, '41270-0.75', '', 0, None, 0)\n",
      "(77, '41270-0.76', '', 0, None, 0)\n",
      "(78, '41270-0.77', '', 0, None, 0)\n",
      "(79, '41270-0.78', '', 0, None, 0)\n",
      "(80, '41270-0.79', '', 0, None, 0)\n",
      "(81, '41270-0.80', '', 0, None, 0)\n",
      "(82, '41270-0.81', '', 0, None, 0)\n",
      "(83, '41270-0.82', '', 0, None, 0)\n",
      "(84, '41270-0.83', '', 0, None, 0)\n",
      "(85, '41270-0.84', '', 0, None, 0)\n",
      "(86, '41270-0.85', '', 0, None, 0)\n",
      "(87, '41270-0.86', '', 0, None, 0)\n",
      "(88, '41270-0.87', '', 0, None, 0)\n",
      "(89, '41270-0.88', '', 0, None, 0)\n",
      "(90, '41270-0.89', '', 0, None, 0)\n",
      "(91, '41270-0.90', '', 0, None, 0)\n",
      "(92, '41270-0.91', '', 0, None, 0)\n",
      "(93, '41270-0.92', '', 0, None, 0)\n",
      "(94, '41270-0.93', '', 0, None, 0)\n",
      "(95, '41270-0.94', '', 0, None, 0)\n",
      "(96, '41270-0.95', '', 0, None, 0)\n",
      "(97, '41270-0.96', '', 0, None, 0)\n",
      "(98, '41270-0.97', '', 0, None, 0)\n",
      "(99, '41270-0.98', '', 0, None, 0)\n",
      "(100, '41270-0.99', '', 0, None, 0)\n",
      "(101, '41270-0.100', '', 0, None, 0)\n",
      "(102, '41270-0.101', '', 0, None, 0)\n",
      "(103, '41270-0.102', '', 0, None, 0)\n",
      "(104, '41270-0.103', '', 0, None, 0)\n",
      "(105, '41270-0.104', '', 0, None, 0)\n",
      "(106, '41270-0.105', '', 0, None, 0)\n",
      "(107, '41270-0.106', '', 0, None, 0)\n",
      "(108, '41270-0.107', '', 0, None, 0)\n",
      "(109, '41270-0.108', '', 0, None, 0)\n",
      "(110, '41270-0.109', '', 0, None, 0)\n",
      "(111, '41270-0.110', '', 0, None, 0)\n",
      "(112, '41270-0.111', '', 0, None, 0)\n",
      "(113, '41270-0.112', '', 0, None, 0)\n",
      "(114, '41270-0.113', '', 0, None, 0)\n",
      "(115, '41270-0.114', '', 0, None, 0)\n",
      "(116, '41270-0.115', '', 0, None, 0)\n",
      "(117, '41270-0.116', '', 0, None, 0)\n",
      "(118, '41270-0.117', '', 0, None, 0)\n",
      "(119, '41270-0.118', '', 0, None, 0)\n",
      "(120, '41270-0.119', '', 0, None, 0)\n",
      "(121, '41270-0.120', '', 0, None, 0)\n",
      "(122, '41270-0.121', '', 0, None, 0)\n",
      "(123, '41270-0.122', '', 0, None, 0)\n",
      "(124, '41270-0.123', '', 0, None, 0)\n",
      "(125, '41270-0.124', '', 0, None, 0)\n",
      "(126, '41270-0.125', '', 0, None, 0)\n",
      "(127, '41270-0.126', '', 0, None, 0)\n",
      "(128, '41270-0.127', '', 0, None, 0)\n",
      "(129, '41270-0.128', '', 0, None, 0)\n",
      "(130, '41270-0.129', '', 0, None, 0)\n",
      "(131, '41270-0.130', '', 0, None, 0)\n",
      "(132, '41270-0.131', '', 0, None, 0)\n",
      "(133, '41270-0.132', '', 0, None, 0)\n",
      "(134, '41270-0.133', '', 0, None, 0)\n",
      "(135, '41270-0.134', '', 0, None, 0)\n",
      "(136, '41270-0.135', '', 0, None, 0)\n",
      "(137, '41270-0.136', '', 0, None, 0)\n",
      "(138, '41270-0.137', '', 0, None, 0)\n",
      "(139, '41270-0.138', '', 0, None, 0)\n",
      "(140, '41270-0.139', '', 0, None, 0)\n",
      "(141, '41270-0.140', '', 0, None, 0)\n",
      "(142, '41270-0.141', '', 0, None, 0)\n",
      "(143, '41270-0.142', '', 0, None, 0)\n",
      "(144, '41270-0.143', '', 0, None, 0)\n",
      "(145, '41270-0.144', '', 0, None, 0)\n",
      "(146, '41270-0.145', '', 0, None, 0)\n",
      "(147, '41270-0.146', '', 0, None, 0)\n",
      "(148, '41270-0.147', '', 0, None, 0)\n",
      "(149, '41270-0.148', '', 0, None, 0)\n",
      "(150, '41270-0.149', '', 0, None, 0)\n",
      "(151, '41270-0.150', '', 0, None, 0)\n",
      "(152, '41270-0.151', '', 0, None, 0)\n",
      "(153, '41270-0.152', '', 0, None, 0)\n",
      "(154, '41270-0.153', '', 0, None, 0)\n",
      "(155, '41270-0.154', '', 0, None, 0)\n",
      "(156, '41270-0.155', '', 0, None, 0)\n",
      "(157, '41270-0.156', '', 0, None, 0)\n",
      "(158, '41270-0.157', '', 0, None, 0)\n",
      "(159, '41270-0.158', '', 0, None, 0)\n",
      "(160, '41270-0.159', '', 0, None, 0)\n",
      "(161, '41270-0.160', '', 0, None, 0)\n",
      "(162, '41270-0.161', '', 0, None, 0)\n",
      "(163, '41270-0.162', '', 0, None, 0)\n",
      "(164, '41270-0.163', '', 0, None, 0)\n",
      "(165, '41270-0.164', '', 0, None, 0)\n",
      "(166, '41270-0.165', '', 0, None, 0)\n",
      "(167, '41270-0.166', '', 0, None, 0)\n",
      "(168, '41270-0.167', '', 0, None, 0)\n",
      "(169, '41270-0.168', '', 0, None, 0)\n",
      "(170, '41270-0.169', '', 0, None, 0)\n",
      "(171, '41270-0.170', '', 0, None, 0)\n",
      "(172, '41270-0.171', '', 0, None, 0)\n",
      "(173, '41270-0.172', '', 0, None, 0)\n",
      "(174, '41270-0.173', '', 0, None, 0)\n",
      "(175, '41270-0.174', '', 0, None, 0)\n",
      "(176, '41270-0.175', '', 0, None, 0)\n",
      "(177, '41270-0.176', '', 0, None, 0)\n",
      "(178, '41270-0.177', '', 0, None, 0)\n",
      "(179, '41270-0.178', '', 0, None, 0)\n",
      "(180, '41270-0.179', '', 0, None, 0)\n",
      "(181, '41270-0.180', '', 0, None, 0)\n",
      "(182, '41270-0.181', '', 0, None, 0)\n",
      "(183, '41270-0.182', '', 0, None, 0)\n",
      "(184, '41270-0.183', '', 0, None, 0)\n",
      "(185, '41270-0.184', '', 0, None, 0)\n",
      "(186, '41270-0.185', '', 0, None, 0)\n",
      "(187, '41270-0.186', '', 0, None, 0)\n",
      "(188, '41270-0.187', '', 0, None, 0)\n",
      "(189, '41270-0.188', '', 0, None, 0)\n",
      "(190, '41270-0.189', '', 0, None, 0)\n",
      "(191, '41270-0.190', '', 0, None, 0)\n",
      "(192, '41270-0.191', '', 0, None, 0)\n",
      "(193, '41270-0.192', '', 0, None, 0)\n",
      "(194, '41270-0.193', '', 0, None, 0)\n",
      "(195, '41270-0.194', '', 0, None, 0)\n",
      "(196, '41270-0.195', '', 0, None, 0)\n",
      "(197, '41270-0.196', '', 0, None, 0)\n",
      "(198, '41270-0.197', '', 0, None, 0)\n",
      "(199, '41270-0.198', '', 0, None, 0)\n",
      "(200, '41270-0.199', '', 0, None, 0)\n",
      "(201, '41270-0.200', '', 0, None, 0)\n",
      "(202, '41270-0.201', '', 0, None, 0)\n",
      "(203, '41270-0.202', '', 0, None, 0)\n",
      "(204, '41270-0.203', '', 0, None, 0)\n",
      "(205, '41270-0.204', '', 0, None, 0)\n",
      "(206, '41270-0.205', '', 0, None, 0)\n",
      "(207, '41270-0.206', '', 0, None, 0)\n",
      "(208, '41270-0.207', '', 0, None, 0)\n",
      "(209, '41270-0.208', '', 0, None, 0)\n",
      "(210, '41270-0.209', '', 0, None, 0)\n",
      "(211, '41270-0.210', '', 0, None, 0)\n",
      "(212, '41270-0.211', '', 0, None, 0)\n",
      "(213, '41270-0.212', '', 0, None, 0)\n",
      "(214, '41270-0.213', '', 0, None, 0)\n",
      "(215, '41270-0.214', '', 0, None, 0)\n"
     ]
    }
   ],
   "source": [
    "cursor.execute(f\"PRAGMA table_info({ICD10_table_name});\")\n",
    "columns = cursor.fetchall()\n",
    "\n",
    "for column in columns:\n",
    "    print(column)"
   ]
  },
  {
   "cell_type": "markdown",
   "metadata": {},
   "source": [
    "We also need to add 41280 for the time of ICD-10 recording"
   ]
  },
  {
   "cell_type": "code",
   "execution_count": 2,
   "metadata": {},
   "outputs": [],
   "source": [
    "import importlib\n",
    "module = importlib.import_module('utils.sql_utils')\n",
    "importlib.reload(module)\n",
    "from utils.sql_utils import update_table_from_csv"
   ]
  },
  {
   "cell_type": "code",
   "execution_count": 25,
   "metadata": {},
   "outputs": [
    {
     "name": "stdout",
     "output_type": "stream",
     "text": [
      "215 columns already exist in the table: ICD10\n",
      "44 new columns have been selected.\n",
      "Inserting data into temporary table: ICD10_temp\n"
     ]
    },
    {
     "name": "stderr",
     "output_type": "stream",
     "text": [
      "Processing CSV:   1%|          | 5000/502368 [00:02<04:35, 1805.49rows/s]"
     ]
    },
    {
     "name": "stdout",
     "output_type": "stream",
     "text": [
      "Valid Chunk rows: 767\n"
     ]
    },
    {
     "name": "stderr",
     "output_type": "stream",
     "text": [
      "Processing CSV:   2%|▏         | 10000/502368 [00:05<04:30, 1821.49rows/s]"
     ]
    },
    {
     "name": "stdout",
     "output_type": "stream",
     "text": [
      "Valid Chunk rows: 746\n"
     ]
    },
    {
     "name": "stderr",
     "output_type": "stream",
     "text": [
      "Processing CSV:   3%|▎         | 15000/502368 [00:08<04:25, 1836.85rows/s]"
     ]
    },
    {
     "name": "stdout",
     "output_type": "stream",
     "text": [
      "Valid Chunk rows: 751\n"
     ]
    },
    {
     "name": "stderr",
     "output_type": "stream",
     "text": [
      "Processing CSV:   4%|▍         | 20000/502368 [00:10<04:23, 1827.60rows/s]"
     ]
    },
    {
     "name": "stdout",
     "output_type": "stream",
     "text": [
      "Valid Chunk rows: 801\n"
     ]
    },
    {
     "name": "stderr",
     "output_type": "stream",
     "text": [
      "Processing CSV:   5%|▍         | 25000/502368 [00:13<04:25, 1800.45rows/s]"
     ]
    },
    {
     "name": "stdout",
     "output_type": "stream",
     "text": [
      "Valid Chunk rows: 760\n"
     ]
    },
    {
     "name": "stderr",
     "output_type": "stream",
     "text": [
      "Processing CSV:   6%|▌         | 30000/502368 [00:16<04:20, 1815.31rows/s]"
     ]
    },
    {
     "name": "stdout",
     "output_type": "stream",
     "text": [
      "Valid Chunk rows: 814\n"
     ]
    },
    {
     "name": "stderr",
     "output_type": "stream",
     "text": [
      "Processing CSV:   7%|▋         | 35000/502368 [00:19<04:15, 1829.99rows/s]"
     ]
    },
    {
     "name": "stdout",
     "output_type": "stream",
     "text": [
      "Valid Chunk rows: 804\n"
     ]
    },
    {
     "name": "stderr",
     "output_type": "stream",
     "text": [
      "Processing CSV:   8%|▊         | 40000/502368 [00:21<04:14, 1819.52rows/s]"
     ]
    },
    {
     "name": "stdout",
     "output_type": "stream",
     "text": [
      "Valid Chunk rows: 766\n"
     ]
    },
    {
     "name": "stderr",
     "output_type": "stream",
     "text": [
      "Processing CSV:   9%|▉         | 45000/502368 [00:24<04:08, 1837.16rows/s]"
     ]
    },
    {
     "name": "stdout",
     "output_type": "stream",
     "text": [
      "Valid Chunk rows: 762\n"
     ]
    },
    {
     "name": "stderr",
     "output_type": "stream",
     "text": [
      "Processing CSV:  10%|▉         | 50000/502368 [00:27<04:04, 1847.73rows/s]"
     ]
    },
    {
     "name": "stdout",
     "output_type": "stream",
     "text": [
      "Valid Chunk rows: 745\n"
     ]
    },
    {
     "name": "stderr",
     "output_type": "stream",
     "text": [
      "Processing CSV:  11%|█         | 55000/502368 [00:29<04:01, 1855.58rows/s]"
     ]
    },
    {
     "name": "stdout",
     "output_type": "stream",
     "text": [
      "Valid Chunk rows: 749\n"
     ]
    },
    {
     "name": "stderr",
     "output_type": "stream",
     "text": [
      "Processing CSV:  12%|█▏        | 60000/502368 [00:32<03:57, 1863.43rows/s]"
     ]
    },
    {
     "name": "stdout",
     "output_type": "stream",
     "text": [
      "Valid Chunk rows: 749\n"
     ]
    },
    {
     "name": "stderr",
     "output_type": "stream",
     "text": [
      "Processing CSV:  13%|█▎        | 65000/502368 [00:35<03:53, 1871.01rows/s]"
     ]
    },
    {
     "name": "stdout",
     "output_type": "stream",
     "text": [
      "Valid Chunk rows: 761\n"
     ]
    },
    {
     "name": "stderr",
     "output_type": "stream",
     "text": [
      "Processing CSV:  14%|█▍        | 70000/502368 [00:37<03:51, 1868.84rows/s]"
     ]
    },
    {
     "name": "stdout",
     "output_type": "stream",
     "text": [
      "Valid Chunk rows: 798\n"
     ]
    },
    {
     "name": "stderr",
     "output_type": "stream",
     "text": [
      "Processing CSV:  15%|█▍        | 75000/502368 [00:40<03:48, 1866.59rows/s]"
     ]
    },
    {
     "name": "stdout",
     "output_type": "stream",
     "text": [
      "Valid Chunk rows: 811\n"
     ]
    },
    {
     "name": "stderr",
     "output_type": "stream",
     "text": [
      "Processing CSV:  16%|█▌        | 80000/502368 [00:43<03:47, 1856.82rows/s]"
     ]
    },
    {
     "name": "stdout",
     "output_type": "stream",
     "text": [
      "Valid Chunk rows: 771\n"
     ]
    },
    {
     "name": "stderr",
     "output_type": "stream",
     "text": [
      "Processing CSV:  16%|█▌        | 80000/502368 [00:45<04:02, 1740.11rows/s]\n"
     ]
    },
    {
     "ename": "KeyboardInterrupt",
     "evalue": "",
     "output_type": "error",
     "traceback": [
      "\u001b[0;31m---------------------------------------------------------------------------\u001b[0m",
      "\u001b[0;31mKeyboardInterrupt\u001b[0m                         Traceback (most recent call last)",
      "Cell \u001b[0;32mIn[25], line 1\u001b[0m\n\u001b[0;32m----> 1\u001b[0m \u001b[43mupdate_table_from_csv\u001b[49m\u001b[43m(\u001b[49m\u001b[43mICD_table_name\u001b[49m\u001b[43m,\u001b[49m\u001b[43m \u001b[49m\u001b[43m[\u001b[49m\u001b[38;5;241;43m41280\u001b[39;49m\u001b[43m]\u001b[49m\u001b[43m)\u001b[49m\n",
      "File \u001b[0;32m/work/users/y/u/yuukias/BIOS-Material/BIOS992/script/../utils/sql_utils.py:264\u001b[0m, in \u001b[0;36mupdate_table_from_csv\u001b[0;34m(table_name, selected_columns_ID, csv_file_path, db_file_path, chunk_size, primary_key)\u001b[0m\n\u001b[1;32m    262\u001b[0m \u001b[38;5;28mprint\u001b[39m(\u001b[38;5;124mf\u001b[39m\u001b[38;5;124m\"\u001b[39m\u001b[38;5;124mInserting data into temporary table: \u001b[39m\u001b[38;5;132;01m{\u001b[39;00mtable_name_temp\u001b[38;5;132;01m}\u001b[39;00m\u001b[38;5;124m\"\u001b[39m)\n\u001b[1;32m    263\u001b[0m \u001b[38;5;28;01mwith\u001b[39;00m tqdm(total\u001b[38;5;241m=\u001b[39mTOTAL_ROWS, desc\u001b[38;5;241m=\u001b[39m\u001b[38;5;124m\"\u001b[39m\u001b[38;5;124mProcessing CSV\u001b[39m\u001b[38;5;124m\"\u001b[39m, unit\u001b[38;5;241m=\u001b[39m\u001b[38;5;124m\"\u001b[39m\u001b[38;5;124mrows\u001b[39m\u001b[38;5;124m\"\u001b[39m) \u001b[38;5;28;01mas\u001b[39;00m pbar:\n\u001b[0;32m--> 264\u001b[0m     \u001b[38;5;28;01mfor\u001b[39;00m chunk \u001b[38;5;129;01min\u001b[39;00m pd\u001b[38;5;241m.\u001b[39mread_csv(\n\u001b[1;32m    265\u001b[0m         csv_file_path, chunksize\u001b[38;5;241m=\u001b[39mchunk_size, dtype\u001b[38;5;241m=\u001b[39m\u001b[38;5;28mstr\u001b[39m, usecols\u001b[38;5;241m=\u001b[39mselected_column_csv\n\u001b[1;32m    266\u001b[0m     ):\n\u001b[1;32m    267\u001b[0m         \u001b[38;5;66;03m# We only care about those who have exercise ECG data\u001b[39;00m\n\u001b[1;32m    268\u001b[0m         chunk[primary_key] \u001b[38;5;241m=\u001b[39m pd\u001b[38;5;241m.\u001b[39mto_numeric(chunk[primary_key], errors\u001b[38;5;241m=\u001b[39m\u001b[38;5;124m\"\u001b[39m\u001b[38;5;124mcoerce\u001b[39m\u001b[38;5;124m\"\u001b[39m)\n\u001b[1;32m    269\u001b[0m         \u001b[38;5;66;03m# only keep the rows with desired eids\u001b[39;00m\n",
      "File \u001b[0;32m/work/users/y/u/yuukias/env_conda/lib/python3.9/site-packages/pandas/io/parsers/readers.py:1668\u001b[0m, in \u001b[0;36mTextFileReader.__next__\u001b[0;34m(self)\u001b[0m\n\u001b[1;32m   1666\u001b[0m \u001b[38;5;28;01mdef\u001b[39;00m \u001b[38;5;21m__next__\u001b[39m(\u001b[38;5;28mself\u001b[39m) \u001b[38;5;241m-\u001b[39m\u001b[38;5;241m>\u001b[39m DataFrame:\n\u001b[1;32m   1667\u001b[0m     \u001b[38;5;28;01mtry\u001b[39;00m:\n\u001b[0;32m-> 1668\u001b[0m         \u001b[38;5;28;01mreturn\u001b[39;00m \u001b[38;5;28;43mself\u001b[39;49m\u001b[38;5;241;43m.\u001b[39;49m\u001b[43mget_chunk\u001b[49m\u001b[43m(\u001b[49m\u001b[43m)\u001b[49m\n\u001b[1;32m   1669\u001b[0m     \u001b[38;5;28;01mexcept\u001b[39;00m \u001b[38;5;167;01mStopIteration\u001b[39;00m:\n\u001b[1;32m   1670\u001b[0m         \u001b[38;5;28mself\u001b[39m\u001b[38;5;241m.\u001b[39mclose()\n",
      "File \u001b[0;32m/work/users/y/u/yuukias/env_conda/lib/python3.9/site-packages/pandas/io/parsers/readers.py:1777\u001b[0m, in \u001b[0;36mTextFileReader.get_chunk\u001b[0;34m(self, size)\u001b[0m\n\u001b[1;32m   1775\u001b[0m         \u001b[38;5;28;01mraise\u001b[39;00m \u001b[38;5;167;01mStopIteration\u001b[39;00m\n\u001b[1;32m   1776\u001b[0m     size \u001b[38;5;241m=\u001b[39m \u001b[38;5;28mmin\u001b[39m(size, \u001b[38;5;28mself\u001b[39m\u001b[38;5;241m.\u001b[39mnrows \u001b[38;5;241m-\u001b[39m \u001b[38;5;28mself\u001b[39m\u001b[38;5;241m.\u001b[39m_currow)\n\u001b[0;32m-> 1777\u001b[0m \u001b[38;5;28;01mreturn\u001b[39;00m \u001b[38;5;28;43mself\u001b[39;49m\u001b[38;5;241;43m.\u001b[39;49m\u001b[43mread\u001b[49m\u001b[43m(\u001b[49m\u001b[43mnrows\u001b[49m\u001b[38;5;241;43m=\u001b[39;49m\u001b[43msize\u001b[49m\u001b[43m)\u001b[49m\n",
      "File \u001b[0;32m/work/users/y/u/yuukias/env_conda/lib/python3.9/site-packages/pandas/io/parsers/readers.py:1748\u001b[0m, in \u001b[0;36mTextFileReader.read\u001b[0;34m(self, nrows)\u001b[0m\n\u001b[1;32m   1741\u001b[0m nrows \u001b[38;5;241m=\u001b[39m validate_integer(\u001b[38;5;124m\"\u001b[39m\u001b[38;5;124mnrows\u001b[39m\u001b[38;5;124m\"\u001b[39m, nrows)\n\u001b[1;32m   1742\u001b[0m \u001b[38;5;28;01mtry\u001b[39;00m:\n\u001b[1;32m   1743\u001b[0m     \u001b[38;5;66;03m# error: \"ParserBase\" has no attribute \"read\"\u001b[39;00m\n\u001b[1;32m   1744\u001b[0m     (\n\u001b[1;32m   1745\u001b[0m         index,\n\u001b[1;32m   1746\u001b[0m         columns,\n\u001b[1;32m   1747\u001b[0m         col_dict,\n\u001b[0;32m-> 1748\u001b[0m     ) \u001b[38;5;241m=\u001b[39m \u001b[38;5;28;43mself\u001b[39;49m\u001b[38;5;241;43m.\u001b[39;49m\u001b[43m_engine\u001b[49m\u001b[38;5;241;43m.\u001b[39;49m\u001b[43mread\u001b[49m\u001b[43m(\u001b[49m\u001b[43m  \u001b[49m\u001b[38;5;66;43;03m# type: ignore[attr-defined]\u001b[39;49;00m\n\u001b[1;32m   1749\u001b[0m \u001b[43m        \u001b[49m\u001b[43mnrows\u001b[49m\n\u001b[1;32m   1750\u001b[0m \u001b[43m    \u001b[49m\u001b[43m)\u001b[49m\n\u001b[1;32m   1751\u001b[0m \u001b[38;5;28;01mexcept\u001b[39;00m \u001b[38;5;167;01mException\u001b[39;00m:\n\u001b[1;32m   1752\u001b[0m     \u001b[38;5;28mself\u001b[39m\u001b[38;5;241m.\u001b[39mclose()\n",
      "File \u001b[0;32m/work/users/y/u/yuukias/env_conda/lib/python3.9/site-packages/pandas/io/parsers/c_parser_wrapper.py:236\u001b[0m, in \u001b[0;36mCParserWrapper.read\u001b[0;34m(self, nrows)\u001b[0m\n\u001b[1;32m    234\u001b[0m     chunks \u001b[38;5;241m=\u001b[39m \u001b[38;5;28mself\u001b[39m\u001b[38;5;241m.\u001b[39m_reader\u001b[38;5;241m.\u001b[39mread_low_memory(nrows)\n\u001b[1;32m    235\u001b[0m     \u001b[38;5;66;03m# destructive to chunks\u001b[39;00m\n\u001b[0;32m--> 236\u001b[0m     data \u001b[38;5;241m=\u001b[39m \u001b[43m_concatenate_chunks\u001b[49m\u001b[43m(\u001b[49m\u001b[43mchunks\u001b[49m\u001b[43m)\u001b[49m\n\u001b[1;32m    238\u001b[0m \u001b[38;5;28;01melse\u001b[39;00m:\n\u001b[1;32m    239\u001b[0m     data \u001b[38;5;241m=\u001b[39m \u001b[38;5;28mself\u001b[39m\u001b[38;5;241m.\u001b[39m_reader\u001b[38;5;241m.\u001b[39mread(nrows)\n",
      "File \u001b[0;32m/work/users/y/u/yuukias/env_conda/lib/python3.9/site-packages/pandas/io/parsers/c_parser_wrapper.py:367\u001b[0m, in \u001b[0;36m_concatenate_chunks\u001b[0;34m(chunks)\u001b[0m\n\u001b[1;32m    365\u001b[0m result: \u001b[38;5;28mdict\u001b[39m \u001b[38;5;241m=\u001b[39m {}\n\u001b[1;32m    366\u001b[0m \u001b[38;5;28;01mfor\u001b[39;00m name \u001b[38;5;129;01min\u001b[39;00m names:\n\u001b[0;32m--> 367\u001b[0m     arrs \u001b[38;5;241m=\u001b[39m [chunk\u001b[38;5;241m.\u001b[39mpop(name) \u001b[38;5;28;01mfor\u001b[39;00m chunk \u001b[38;5;129;01min\u001b[39;00m chunks]\n\u001b[1;32m    368\u001b[0m     \u001b[38;5;66;03m# Check each arr for consistent types.\u001b[39;00m\n\u001b[1;32m    369\u001b[0m     dtypes \u001b[38;5;241m=\u001b[39m {a\u001b[38;5;241m.\u001b[39mdtype \u001b[38;5;28;01mfor\u001b[39;00m a \u001b[38;5;129;01min\u001b[39;00m arrs}\n",
      "File \u001b[0;32m/work/users/y/u/yuukias/env_conda/lib/python3.9/site-packages/pandas/io/parsers/c_parser_wrapper.py:367\u001b[0m, in \u001b[0;36m<listcomp>\u001b[0;34m(.0)\u001b[0m\n\u001b[1;32m    365\u001b[0m result: \u001b[38;5;28mdict\u001b[39m \u001b[38;5;241m=\u001b[39m {}\n\u001b[1;32m    366\u001b[0m \u001b[38;5;28;01mfor\u001b[39;00m name \u001b[38;5;129;01min\u001b[39;00m names:\n\u001b[0;32m--> 367\u001b[0m     arrs \u001b[38;5;241m=\u001b[39m [\u001b[43mchunk\u001b[49m\u001b[38;5;241;43m.\u001b[39;49m\u001b[43mpop\u001b[49m\u001b[43m(\u001b[49m\u001b[43mname\u001b[49m\u001b[43m)\u001b[49m \u001b[38;5;28;01mfor\u001b[39;00m chunk \u001b[38;5;129;01min\u001b[39;00m chunks]\n\u001b[1;32m    368\u001b[0m     \u001b[38;5;66;03m# Check each arr for consistent types.\u001b[39;00m\n\u001b[1;32m    369\u001b[0m     dtypes \u001b[38;5;241m=\u001b[39m {a\u001b[38;5;241m.\u001b[39mdtype \u001b[38;5;28;01mfor\u001b[39;00m a \u001b[38;5;129;01min\u001b[39;00m arrs}\n",
      "\u001b[0;31mKeyboardInterrupt\u001b[0m: "
     ]
    }
   ],
   "source": [
    "update_table_from_csv(ICD_table_name, [41280])"
   ]
  },
  {
   "cell_type": "code",
   "execution_count": 3,
   "metadata": {},
   "outputs": [
    {
     "name": "stdout",
     "output_type": "stream",
     "text": [
      "192 new columns have been selected.\n",
      "Inserting data into temporary table: ICD10_temp\n"
     ]
    },
    {
     "name": "stderr",
     "output_type": "stream",
     "text": [
      "Processing CSV:   0%|          | 0/502368 [00:00<?, ?rows/s]"
     ]
    },
    {
     "name": "stdout",
     "output_type": "stream",
     "text": [
      "Valid Chunk rows: 767\n"
     ]
    },
    {
     "name": "stderr",
     "output_type": "stream",
     "text": [
      "Processing CSV:   1%|          | 5000/502368 [00:03<06:32, 1266.69rows/s]"
     ]
    },
    {
     "name": "stdout",
     "output_type": "stream",
     "text": [
      "Valid Chunk rows: 746\n"
     ]
    },
    {
     "name": "stderr",
     "output_type": "stream",
     "text": [
      "Processing CSV:   2%|▏         | 10000/502368 [00:07<06:23, 1283.78rows/s]"
     ]
    },
    {
     "name": "stdout",
     "output_type": "stream",
     "text": [
      "Valid Chunk rows: 751\n"
     ]
    },
    {
     "name": "stderr",
     "output_type": "stream",
     "text": [
      "Processing CSV:   3%|▎         | 15000/502368 [00:11<06:17, 1291.89rows/s]"
     ]
    },
    {
     "name": "stdout",
     "output_type": "stream",
     "text": [
      "Valid Chunk rows: 801\n"
     ]
    },
    {
     "name": "stderr",
     "output_type": "stream",
     "text": [
      "Processing CSV:   4%|▍         | 20000/502368 [00:15<06:11, 1296.73rows/s]"
     ]
    },
    {
     "name": "stdout",
     "output_type": "stream",
     "text": [
      "Valid Chunk rows: 760\n"
     ]
    },
    {
     "name": "stderr",
     "output_type": "stream",
     "text": [
      "Processing CSV:   5%|▍         | 25000/502368 [00:19<06:10, 1287.45rows/s]"
     ]
    },
    {
     "name": "stdout",
     "output_type": "stream",
     "text": [
      "Valid Chunk rows: 814\n"
     ]
    },
    {
     "name": "stderr",
     "output_type": "stream",
     "text": [
      "Processing CSV:   6%|▌         | 30000/502368 [00:23<06:07, 1285.30rows/s]"
     ]
    },
    {
     "name": "stdout",
     "output_type": "stream",
     "text": [
      "Valid Chunk rows: 804\n"
     ]
    },
    {
     "name": "stderr",
     "output_type": "stream",
     "text": [
      "Processing CSV:   7%|▋         | 35000/502368 [00:27<06:06, 1275.30rows/s]"
     ]
    },
    {
     "name": "stdout",
     "output_type": "stream",
     "text": [
      "Valid Chunk rows: 766\n"
     ]
    },
    {
     "name": "stderr",
     "output_type": "stream",
     "text": [
      "Processing CSV:   8%|▊         | 40000/502368 [00:31<06:05, 1263.77rows/s]"
     ]
    },
    {
     "name": "stdout",
     "output_type": "stream",
     "text": [
      "Valid Chunk rows: 762\n"
     ]
    },
    {
     "name": "stderr",
     "output_type": "stream",
     "text": [
      "Processing CSV:   9%|▉         | 45000/502368 [00:35<06:03, 1258.06rows/s]"
     ]
    },
    {
     "name": "stdout",
     "output_type": "stream",
     "text": [
      "Valid Chunk rows: 745\n"
     ]
    },
    {
     "name": "stderr",
     "output_type": "stream",
     "text": [
      "Processing CSV:  10%|▉         | 50000/502368 [00:39<05:59, 1258.60rows/s]"
     ]
    },
    {
     "name": "stdout",
     "output_type": "stream",
     "text": [
      "Valid Chunk rows: 749\n"
     ]
    },
    {
     "name": "stderr",
     "output_type": "stream",
     "text": [
      "Processing CSV:  11%|█         | 55000/502368 [00:43<05:54, 1263.53rows/s]"
     ]
    },
    {
     "name": "stdout",
     "output_type": "stream",
     "text": [
      "Valid Chunk rows: 749\n"
     ]
    },
    {
     "name": "stderr",
     "output_type": "stream",
     "text": [
      "Processing CSV:  12%|█▏        | 60000/502368 [00:47<05:46, 1276.84rows/s]"
     ]
    },
    {
     "name": "stdout",
     "output_type": "stream",
     "text": [
      "Valid Chunk rows: 761\n"
     ]
    },
    {
     "name": "stderr",
     "output_type": "stream",
     "text": [
      "Processing CSV:  13%|█▎        | 65000/502368 [00:50<05:37, 1294.77rows/s]"
     ]
    },
    {
     "name": "stdout",
     "output_type": "stream",
     "text": [
      "Valid Chunk rows: 798\n"
     ]
    },
    {
     "name": "stderr",
     "output_type": "stream",
     "text": [
      "Processing CSV:  14%|█▍        | 70000/502368 [00:54<05:35, 1288.71rows/s]"
     ]
    },
    {
     "name": "stdout",
     "output_type": "stream",
     "text": [
      "Valid Chunk rows: 811\n"
     ]
    },
    {
     "name": "stderr",
     "output_type": "stream",
     "text": [
      "Processing CSV:  15%|█▍        | 75000/502368 [00:58<05:32, 1285.40rows/s]"
     ]
    },
    {
     "name": "stdout",
     "output_type": "stream",
     "text": [
      "Valid Chunk rows: 771\n"
     ]
    },
    {
     "name": "stderr",
     "output_type": "stream",
     "text": [
      "Processing CSV:  16%|█▌        | 80000/502368 [01:02<05:28, 1285.75rows/s]"
     ]
    },
    {
     "name": "stdout",
     "output_type": "stream",
     "text": [
      "Valid Chunk rows: 759\n"
     ]
    },
    {
     "name": "stderr",
     "output_type": "stream",
     "text": [
      "Processing CSV:  17%|█▋        | 85000/502368 [01:06<05:33, 1250.33rows/s]"
     ]
    },
    {
     "name": "stdout",
     "output_type": "stream",
     "text": [
      "Valid Chunk rows: 798\n"
     ]
    },
    {
     "name": "stderr",
     "output_type": "stream",
     "text": [
      "Processing CSV:  18%|█▊        | 90000/502368 [01:10<05:31, 1245.78rows/s]"
     ]
    },
    {
     "name": "stdout",
     "output_type": "stream",
     "text": [
      "Valid Chunk rows: 745\n"
     ]
    },
    {
     "name": "stderr",
     "output_type": "stream",
     "text": [
      "Processing CSV:  19%|█▉        | 95000/502368 [01:14<05:23, 1259.60rows/s]"
     ]
    },
    {
     "name": "stdout",
     "output_type": "stream",
     "text": [
      "Valid Chunk rows: 823\n"
     ]
    },
    {
     "name": "stderr",
     "output_type": "stream",
     "text": [
      "Processing CSV:  20%|█▉        | 100000/502368 [01:18<05:16, 1270.75rows/s]"
     ]
    },
    {
     "name": "stdout",
     "output_type": "stream",
     "text": [
      "Valid Chunk rows: 790\n"
     ]
    },
    {
     "name": "stderr",
     "output_type": "stream",
     "text": [
      "Processing CSV:  21%|██        | 105000/502368 [01:22<05:09, 1283.31rows/s]"
     ]
    },
    {
     "name": "stdout",
     "output_type": "stream",
     "text": [
      "Valid Chunk rows: 846\n"
     ]
    },
    {
     "name": "stderr",
     "output_type": "stream",
     "text": [
      "Processing CSV:  22%|██▏       | 110000/502368 [01:26<05:04, 1290.39rows/s]"
     ]
    },
    {
     "name": "stdout",
     "output_type": "stream",
     "text": [
      "Valid Chunk rows: 801\n"
     ]
    },
    {
     "name": "stderr",
     "output_type": "stream",
     "text": [
      "Processing CSV:  23%|██▎       | 115000/502368 [01:30<05:03, 1275.17rows/s]"
     ]
    },
    {
     "name": "stdout",
     "output_type": "stream",
     "text": [
      "Valid Chunk rows: 736\n"
     ]
    },
    {
     "name": "stderr",
     "output_type": "stream",
     "text": [
      "Processing CSV:  24%|██▍       | 120000/502368 [01:33<04:54, 1298.67rows/s]"
     ]
    },
    {
     "name": "stdout",
     "output_type": "stream",
     "text": [
      "Valid Chunk rows: 796\n"
     ]
    },
    {
     "name": "stderr",
     "output_type": "stream",
     "text": [
      "Processing CSV:  25%|██▍       | 125000/502368 [01:37<04:52, 1288.37rows/s]"
     ]
    },
    {
     "name": "stdout",
     "output_type": "stream",
     "text": [
      "Valid Chunk rows: 771\n"
     ]
    },
    {
     "name": "stderr",
     "output_type": "stream",
     "text": [
      "Processing CSV:  26%|██▌       | 130000/502368 [01:41<04:44, 1307.85rows/s]"
     ]
    },
    {
     "name": "stdout",
     "output_type": "stream",
     "text": [
      "Valid Chunk rows: 753\n"
     ]
    },
    {
     "name": "stderr",
     "output_type": "stream",
     "text": [
      "Processing CSV:  27%|██▋       | 135000/502368 [01:45<04:37, 1323.41rows/s]"
     ]
    },
    {
     "name": "stdout",
     "output_type": "stream",
     "text": [
      "Valid Chunk rows: 771\n"
     ]
    },
    {
     "name": "stderr",
     "output_type": "stream",
     "text": [
      "Processing CSV:  28%|██▊       | 140000/502368 [01:48<04:32, 1330.48rows/s]"
     ]
    },
    {
     "name": "stdout",
     "output_type": "stream",
     "text": [
      "Valid Chunk rows: 822\n"
     ]
    },
    {
     "name": "stderr",
     "output_type": "stream",
     "text": [
      "Processing CSV:  29%|██▉       | 145000/502368 [01:52<04:31, 1317.52rows/s]"
     ]
    },
    {
     "name": "stdout",
     "output_type": "stream",
     "text": [
      "Valid Chunk rows: 739\n"
     ]
    },
    {
     "name": "stderr",
     "output_type": "stream",
     "text": [
      "Processing CSV:  30%|██▉       | 150000/502368 [01:57<04:42, 1246.59rows/s]"
     ]
    },
    {
     "name": "stdout",
     "output_type": "stream",
     "text": [
      "Valid Chunk rows: 758\n"
     ]
    },
    {
     "name": "stderr",
     "output_type": "stream",
     "text": [
      "Processing CSV:  31%|███       | 155000/502368 [02:00<04:31, 1279.74rows/s]"
     ]
    },
    {
     "name": "stdout",
     "output_type": "stream",
     "text": [
      "Valid Chunk rows: 812\n"
     ]
    },
    {
     "name": "stderr",
     "output_type": "stream",
     "text": [
      "Processing CSV:  32%|███▏      | 160000/502368 [02:04<04:24, 1296.52rows/s]"
     ]
    },
    {
     "name": "stdout",
     "output_type": "stream",
     "text": [
      "Valid Chunk rows: 791\n"
     ]
    },
    {
     "name": "stderr",
     "output_type": "stream",
     "text": [
      "Processing CSV:  33%|███▎      | 165000/502368 [02:08<04:18, 1305.48rows/s]"
     ]
    },
    {
     "name": "stdout",
     "output_type": "stream",
     "text": [
      "Valid Chunk rows: 729\n"
     ]
    },
    {
     "name": "stderr",
     "output_type": "stream",
     "text": [
      "Processing CSV:  34%|███▍      | 170000/502368 [02:12<04:13, 1310.67rows/s]"
     ]
    },
    {
     "name": "stdout",
     "output_type": "stream",
     "text": [
      "Valid Chunk rows: 794\n"
     ]
    },
    {
     "name": "stderr",
     "output_type": "stream",
     "text": [
      "Processing CSV:  35%|███▍      | 175000/502368 [02:15<04:07, 1320.38rows/s]"
     ]
    },
    {
     "name": "stdout",
     "output_type": "stream",
     "text": [
      "Valid Chunk rows: 728\n"
     ]
    },
    {
     "name": "stderr",
     "output_type": "stream",
     "text": [
      "Processing CSV:  36%|███▌      | 180000/502368 [02:19<04:03, 1325.96rows/s]"
     ]
    },
    {
     "name": "stdout",
     "output_type": "stream",
     "text": [
      "Valid Chunk rows: 776\n"
     ]
    },
    {
     "name": "stderr",
     "output_type": "stream",
     "text": [
      "Processing CSV:  37%|███▋      | 185000/502368 [02:23<03:58, 1331.14rows/s]"
     ]
    },
    {
     "name": "stdout",
     "output_type": "stream",
     "text": [
      "Valid Chunk rows: 733\n"
     ]
    },
    {
     "name": "stderr",
     "output_type": "stream",
     "text": [
      "Processing CSV:  38%|███▊      | 190000/502368 [02:27<03:59, 1302.75rows/s]"
     ]
    },
    {
     "name": "stdout",
     "output_type": "stream",
     "text": [
      "Valid Chunk rows: 739\n"
     ]
    },
    {
     "name": "stderr",
     "output_type": "stream",
     "text": [
      "Processing CSV:  39%|███▉      | 195000/502368 [02:31<03:57, 1294.48rows/s]"
     ]
    },
    {
     "name": "stdout",
     "output_type": "stream",
     "text": [
      "Valid Chunk rows: 838\n"
     ]
    },
    {
     "name": "stderr",
     "output_type": "stream",
     "text": [
      "Processing CSV:  40%|███▉      | 200000/502368 [02:35<03:56, 1281.13rows/s]"
     ]
    },
    {
     "name": "stdout",
     "output_type": "stream",
     "text": [
      "Valid Chunk rows: 824\n"
     ]
    },
    {
     "name": "stderr",
     "output_type": "stream",
     "text": [
      "Processing CSV:  41%|████      | 205000/502368 [02:39<03:54, 1269.87rows/s]"
     ]
    },
    {
     "name": "stdout",
     "output_type": "stream",
     "text": [
      "Valid Chunk rows: 770\n"
     ]
    },
    {
     "name": "stderr",
     "output_type": "stream",
     "text": [
      "Processing CSV:  42%|████▏     | 210000/502368 [02:43<03:52, 1258.23rows/s]"
     ]
    },
    {
     "name": "stdout",
     "output_type": "stream",
     "text": [
      "Valid Chunk rows: 797\n"
     ]
    },
    {
     "name": "stderr",
     "output_type": "stream",
     "text": [
      "Processing CSV:  43%|████▎     | 215000/502368 [02:47<03:51, 1241.48rows/s]"
     ]
    },
    {
     "name": "stdout",
     "output_type": "stream",
     "text": [
      "Valid Chunk rows: 779\n"
     ]
    },
    {
     "name": "stderr",
     "output_type": "stream",
     "text": [
      "Processing CSV:  44%|████▍     | 220000/502368 [02:51<03:50, 1226.05rows/s]"
     ]
    },
    {
     "name": "stdout",
     "output_type": "stream",
     "text": [
      "Valid Chunk rows: 761\n"
     ]
    },
    {
     "name": "stderr",
     "output_type": "stream",
     "text": [
      "Processing CSV:  45%|████▍     | 225000/502368 [02:55<03:44, 1236.01rows/s]"
     ]
    },
    {
     "name": "stdout",
     "output_type": "stream",
     "text": [
      "Valid Chunk rows: 793\n"
     ]
    },
    {
     "name": "stderr",
     "output_type": "stream",
     "text": [
      "Processing CSV:  46%|████▌     | 230000/502368 [02:59<03:41, 1231.38rows/s]"
     ]
    },
    {
     "name": "stdout",
     "output_type": "stream",
     "text": [
      "Valid Chunk rows: 749\n"
     ]
    },
    {
     "name": "stderr",
     "output_type": "stream",
     "text": [
      "Processing CSV:  47%|████▋     | 235000/502368 [03:03<03:35, 1243.33rows/s]"
     ]
    },
    {
     "name": "stdout",
     "output_type": "stream",
     "text": [
      "Valid Chunk rows: 785\n"
     ]
    },
    {
     "name": "stderr",
     "output_type": "stream",
     "text": [
      "Processing CSV:  48%|████▊     | 240000/502368 [03:07<03:32, 1233.87rows/s]"
     ]
    },
    {
     "name": "stdout",
     "output_type": "stream",
     "text": [
      "Valid Chunk rows: 742\n"
     ]
    },
    {
     "name": "stderr",
     "output_type": "stream",
     "text": [
      "Processing CSV:  49%|████▉     | 245000/502368 [03:11<03:28, 1234.09rows/s]"
     ]
    },
    {
     "name": "stdout",
     "output_type": "stream",
     "text": [
      "Valid Chunk rows: 771\n"
     ]
    },
    {
     "name": "stderr",
     "output_type": "stream",
     "text": [
      "Processing CSV:  50%|████▉     | 250000/502368 [03:16<03:24, 1235.18rows/s]"
     ]
    },
    {
     "name": "stdout",
     "output_type": "stream",
     "text": [
      "Valid Chunk rows: 780\n"
     ]
    },
    {
     "name": "stderr",
     "output_type": "stream",
     "text": [
      "Processing CSV:  51%|█████     | 255000/502368 [03:19<03:17, 1249.78rows/s]"
     ]
    },
    {
     "name": "stdout",
     "output_type": "stream",
     "text": [
      "Valid Chunk rows: 770\n"
     ]
    },
    {
     "name": "stderr",
     "output_type": "stream",
     "text": [
      "Processing CSV:  52%|█████▏    | 260000/502368 [03:23<03:12, 1262.21rows/s]"
     ]
    },
    {
     "name": "stdout",
     "output_type": "stream",
     "text": [
      "Valid Chunk rows: 778\n"
     ]
    },
    {
     "name": "stderr",
     "output_type": "stream",
     "text": [
      "Processing CSV:  53%|█████▎    | 265000/502368 [03:27<03:09, 1249.53rows/s]"
     ]
    },
    {
     "name": "stdout",
     "output_type": "stream",
     "text": [
      "Valid Chunk rows: 763\n"
     ]
    },
    {
     "name": "stderr",
     "output_type": "stream",
     "text": [
      "Processing CSV:  54%|█████▎    | 270000/502368 [03:31<03:05, 1255.53rows/s]"
     ]
    },
    {
     "name": "stdout",
     "output_type": "stream",
     "text": [
      "Valid Chunk rows: 773\n"
     ]
    },
    {
     "name": "stderr",
     "output_type": "stream",
     "text": [
      "Processing CSV:  55%|█████▍    | 275000/502368 [03:35<03:00, 1259.72rows/s]"
     ]
    },
    {
     "name": "stdout",
     "output_type": "stream",
     "text": [
      "Valid Chunk rows: 803\n"
     ]
    },
    {
     "name": "stderr",
     "output_type": "stream",
     "text": [
      "Processing CSV:  56%|█████▌    | 280000/502368 [03:39<02:56, 1261.36rows/s]"
     ]
    },
    {
     "name": "stdout",
     "output_type": "stream",
     "text": [
      "Valid Chunk rows: 773\n"
     ]
    },
    {
     "name": "stderr",
     "output_type": "stream",
     "text": [
      "Processing CSV:  57%|█████▋    | 285000/502368 [03:43<02:53, 1249.30rows/s]"
     ]
    },
    {
     "name": "stdout",
     "output_type": "stream",
     "text": [
      "Valid Chunk rows: 830\n"
     ]
    },
    {
     "name": "stderr",
     "output_type": "stream",
     "text": [
      "Processing CSV:  58%|█████▊    | 290000/502368 [03:47<02:49, 1252.80rows/s]"
     ]
    },
    {
     "name": "stdout",
     "output_type": "stream",
     "text": [
      "Valid Chunk rows: 783\n"
     ]
    },
    {
     "name": "stderr",
     "output_type": "stream",
     "text": [
      "Processing CSV:  59%|█████▊    | 295000/502368 [03:51<02:46, 1246.55rows/s]"
     ]
    },
    {
     "name": "stdout",
     "output_type": "stream",
     "text": [
      "Valid Chunk rows: 758\n"
     ]
    },
    {
     "name": "stderr",
     "output_type": "stream",
     "text": [
      "Processing CSV:  60%|█████▉    | 300000/502368 [03:55<02:42, 1247.88rows/s]"
     ]
    },
    {
     "name": "stdout",
     "output_type": "stream",
     "text": [
      "Valid Chunk rows: 790\n"
     ]
    },
    {
     "name": "stderr",
     "output_type": "stream",
     "text": [
      "Processing CSV:  61%|██████    | 305000/502368 [03:59<02:38, 1248.15rows/s]"
     ]
    },
    {
     "name": "stdout",
     "output_type": "stream",
     "text": [
      "Valid Chunk rows: 804\n"
     ]
    },
    {
     "name": "stderr",
     "output_type": "stream",
     "text": [
      "Processing CSV:  62%|██████▏   | 310000/502368 [04:03<02:34, 1242.14rows/s]"
     ]
    },
    {
     "name": "stdout",
     "output_type": "stream",
     "text": [
      "Valid Chunk rows: 784\n"
     ]
    },
    {
     "name": "stderr",
     "output_type": "stream",
     "text": [
      "Processing CSV:  63%|██████▎   | 315000/502368 [04:07<02:29, 1250.29rows/s]"
     ]
    },
    {
     "name": "stdout",
     "output_type": "stream",
     "text": [
      "Valid Chunk rows: 827\n"
     ]
    },
    {
     "name": "stderr",
     "output_type": "stream",
     "text": [
      "Processing CSV:  64%|██████▎   | 320000/502368 [04:11<02:25, 1253.90rows/s]"
     ]
    },
    {
     "name": "stdout",
     "output_type": "stream",
     "text": [
      "Valid Chunk rows: 761\n"
     ]
    },
    {
     "name": "stderr",
     "output_type": "stream",
     "text": [
      "Processing CSV:  65%|██████▍   | 325000/502368 [04:15<02:22, 1240.78rows/s]"
     ]
    },
    {
     "name": "stdout",
     "output_type": "stream",
     "text": [
      "Valid Chunk rows: 775\n"
     ]
    },
    {
     "name": "stderr",
     "output_type": "stream",
     "text": [
      "Processing CSV:  66%|██████▌   | 330000/502368 [04:19<02:19, 1235.35rows/s]"
     ]
    },
    {
     "name": "stdout",
     "output_type": "stream",
     "text": [
      "Valid Chunk rows: 750\n"
     ]
    },
    {
     "name": "stderr",
     "output_type": "stream",
     "text": [
      "Processing CSV:  67%|██████▋   | 335000/502368 [04:24<02:15, 1236.27rows/s]"
     ]
    },
    {
     "name": "stdout",
     "output_type": "stream",
     "text": [
      "Valid Chunk rows: 820\n"
     ]
    },
    {
     "name": "stderr",
     "output_type": "stream",
     "text": [
      "Processing CSV:  68%|██████▊   | 340000/502368 [04:28<02:11, 1231.57rows/s]"
     ]
    },
    {
     "name": "stdout",
     "output_type": "stream",
     "text": [
      "Valid Chunk rows: 754\n"
     ]
    },
    {
     "name": "stderr",
     "output_type": "stream",
     "text": [
      "Processing CSV:  69%|██████▊   | 345000/502368 [04:32<02:06, 1241.71rows/s]"
     ]
    },
    {
     "name": "stdout",
     "output_type": "stream",
     "text": [
      "Valid Chunk rows: 775\n"
     ]
    },
    {
     "name": "stderr",
     "output_type": "stream",
     "text": [
      "Processing CSV:  70%|██████▉   | 350000/502368 [04:36<02:02, 1244.95rows/s]"
     ]
    },
    {
     "name": "stdout",
     "output_type": "stream",
     "text": [
      "Valid Chunk rows: 806\n"
     ]
    },
    {
     "name": "stderr",
     "output_type": "stream",
     "text": [
      "Processing CSV:  71%|███████   | 355000/502368 [04:40<01:59, 1233.32rows/s]"
     ]
    },
    {
     "name": "stdout",
     "output_type": "stream",
     "text": [
      "Valid Chunk rows: 741\n"
     ]
    },
    {
     "name": "stderr",
     "output_type": "stream",
     "text": [
      "Processing CSV:  72%|███████▏  | 360000/502368 [04:44<01:55, 1230.59rows/s]"
     ]
    },
    {
     "name": "stdout",
     "output_type": "stream",
     "text": [
      "Valid Chunk rows: 784\n"
     ]
    },
    {
     "name": "stderr",
     "output_type": "stream",
     "text": [
      "Processing CSV:  73%|███████▎  | 365000/502368 [04:48<01:52, 1225.35rows/s]"
     ]
    },
    {
     "name": "stdout",
     "output_type": "stream",
     "text": [
      "Valid Chunk rows: 800\n"
     ]
    },
    {
     "name": "stderr",
     "output_type": "stream",
     "text": [
      "Processing CSV:  74%|███████▎  | 370000/502368 [04:52<01:48, 1219.05rows/s]"
     ]
    },
    {
     "name": "stdout",
     "output_type": "stream",
     "text": [
      "Valid Chunk rows: 787\n"
     ]
    },
    {
     "name": "stderr",
     "output_type": "stream",
     "text": [
      "Processing CSV:  75%|███████▍  | 375000/502368 [04:56<01:44, 1213.97rows/s]"
     ]
    },
    {
     "name": "stdout",
     "output_type": "stream",
     "text": [
      "Valid Chunk rows: 752\n"
     ]
    },
    {
     "name": "stderr",
     "output_type": "stream",
     "text": [
      "Processing CSV:  76%|███████▌  | 380000/502368 [05:01<01:42, 1194.68rows/s]"
     ]
    },
    {
     "name": "stdout",
     "output_type": "stream",
     "text": [
      "Valid Chunk rows: 772\n"
     ]
    },
    {
     "name": "stderr",
     "output_type": "stream",
     "text": [
      "Processing CSV:  77%|███████▋  | 385000/502368 [05:05<01:36, 1210.83rows/s]"
     ]
    },
    {
     "name": "stdout",
     "output_type": "stream",
     "text": [
      "Valid Chunk rows: 765\n"
     ]
    },
    {
     "name": "stderr",
     "output_type": "stream",
     "text": [
      "Processing CSV:  78%|███████▊  | 390000/502368 [05:09<01:32, 1209.44rows/s]"
     ]
    },
    {
     "name": "stdout",
     "output_type": "stream",
     "text": [
      "Valid Chunk rows: 773\n"
     ]
    },
    {
     "name": "stderr",
     "output_type": "stream",
     "text": [
      "Processing CSV:  79%|███████▊  | 395000/502368 [05:13<01:29, 1202.71rows/s]"
     ]
    },
    {
     "name": "stdout",
     "output_type": "stream",
     "text": [
      "Valid Chunk rows: 786\n"
     ]
    },
    {
     "name": "stderr",
     "output_type": "stream",
     "text": [
      "Processing CSV:  80%|███████▉  | 400000/502368 [05:17<01:24, 1207.01rows/s]"
     ]
    },
    {
     "name": "stdout",
     "output_type": "stream",
     "text": [
      "Valid Chunk rows: 719\n"
     ]
    },
    {
     "name": "stderr",
     "output_type": "stream",
     "text": [
      "Processing CSV:  81%|████████  | 405000/502368 [05:21<01:20, 1205.28rows/s]"
     ]
    },
    {
     "name": "stdout",
     "output_type": "stream",
     "text": [
      "Valid Chunk rows: 773\n"
     ]
    },
    {
     "name": "stderr",
     "output_type": "stream",
     "text": [
      "Processing CSV:  82%|████████▏ | 410000/502368 [05:25<01:16, 1212.34rows/s]"
     ]
    },
    {
     "name": "stdout",
     "output_type": "stream",
     "text": [
      "Valid Chunk rows: 748\n"
     ]
    },
    {
     "name": "stderr",
     "output_type": "stream",
     "text": [
      "Processing CSV:  83%|████████▎ | 415000/502368 [05:29<01:12, 1210.47rows/s]"
     ]
    },
    {
     "name": "stdout",
     "output_type": "stream",
     "text": [
      "Valid Chunk rows: 807\n"
     ]
    },
    {
     "name": "stderr",
     "output_type": "stream",
     "text": [
      "Processing CSV:  84%|████████▎ | 420000/502368 [05:33<01:07, 1221.71rows/s]"
     ]
    },
    {
     "name": "stdout",
     "output_type": "stream",
     "text": [
      "Valid Chunk rows: 760\n"
     ]
    },
    {
     "name": "stderr",
     "output_type": "stream",
     "text": [
      "Processing CSV:  85%|████████▍ | 425000/502368 [05:38<01:04, 1206.84rows/s]"
     ]
    },
    {
     "name": "stdout",
     "output_type": "stream",
     "text": [
      "Valid Chunk rows: 709\n"
     ]
    },
    {
     "name": "stderr",
     "output_type": "stream",
     "text": [
      "Processing CSV:  86%|████████▌ | 430000/502368 [05:42<00:59, 1213.10rows/s]"
     ]
    },
    {
     "name": "stdout",
     "output_type": "stream",
     "text": [
      "Valid Chunk rows: 806\n"
     ]
    },
    {
     "name": "stderr",
     "output_type": "stream",
     "text": [
      "Processing CSV:  87%|████████▋ | 435000/502368 [05:46<00:55, 1220.95rows/s]"
     ]
    },
    {
     "name": "stdout",
     "output_type": "stream",
     "text": [
      "Valid Chunk rows: 770\n"
     ]
    },
    {
     "name": "stderr",
     "output_type": "stream",
     "text": [
      "Processing CSV:  88%|████████▊ | 440000/502368 [05:50<00:50, 1223.36rows/s]"
     ]
    },
    {
     "name": "stdout",
     "output_type": "stream",
     "text": [
      "Valid Chunk rows: 764\n"
     ]
    },
    {
     "name": "stderr",
     "output_type": "stream",
     "text": [
      "Processing CSV:  89%|████████▊ | 445000/502368 [05:54<00:47, 1207.92rows/s]"
     ]
    },
    {
     "name": "stdout",
     "output_type": "stream",
     "text": [
      "Valid Chunk rows: 776\n"
     ]
    },
    {
     "name": "stderr",
     "output_type": "stream",
     "text": [
      "Processing CSV:  90%|████████▉ | 450000/502368 [05:58<00:43, 1192.36rows/s]"
     ]
    },
    {
     "name": "stdout",
     "output_type": "stream",
     "text": [
      "Valid Chunk rows: 750\n"
     ]
    },
    {
     "name": "stderr",
     "output_type": "stream",
     "text": [
      "Processing CSV:  91%|█████████ | 455000/502368 [06:03<00:39, 1192.31rows/s]"
     ]
    },
    {
     "name": "stdout",
     "output_type": "stream",
     "text": [
      "Valid Chunk rows: 768\n"
     ]
    },
    {
     "name": "stderr",
     "output_type": "stream",
     "text": [
      "Processing CSV:  92%|█████████▏| 460000/502368 [06:07<00:35, 1206.76rows/s]"
     ]
    },
    {
     "name": "stdout",
     "output_type": "stream",
     "text": [
      "Valid Chunk rows: 761\n"
     ]
    },
    {
     "name": "stderr",
     "output_type": "stream",
     "text": [
      "Processing CSV:  93%|█████████▎| 465000/502368 [06:11<00:31, 1199.03rows/s]"
     ]
    },
    {
     "name": "stdout",
     "output_type": "stream",
     "text": [
      "Valid Chunk rows: 782\n"
     ]
    },
    {
     "name": "stderr",
     "output_type": "stream",
     "text": [
      "Processing CSV:  94%|█████████▎| 470000/502368 [06:15<00:26, 1212.66rows/s]"
     ]
    },
    {
     "name": "stdout",
     "output_type": "stream",
     "text": [
      "Valid Chunk rows: 725\n"
     ]
    },
    {
     "name": "stderr",
     "output_type": "stream",
     "text": [
      "Processing CSV:  95%|█████████▍| 475000/502368 [06:19<00:22, 1220.61rows/s]"
     ]
    },
    {
     "name": "stdout",
     "output_type": "stream",
     "text": [
      "Valid Chunk rows: 772\n"
     ]
    },
    {
     "name": "stderr",
     "output_type": "stream",
     "text": [
      "Processing CSV:  96%|█████████▌| 480000/502368 [06:23<00:18, 1190.13rows/s]"
     ]
    },
    {
     "name": "stdout",
     "output_type": "stream",
     "text": [
      "Valid Chunk rows: 795\n"
     ]
    },
    {
     "name": "stderr",
     "output_type": "stream",
     "text": [
      "Processing CSV:  97%|█████████▋| 485000/502368 [06:28<00:14, 1196.08rows/s]"
     ]
    },
    {
     "name": "stdout",
     "output_type": "stream",
     "text": [
      "Valid Chunk rows: 773\n"
     ]
    },
    {
     "name": "stderr",
     "output_type": "stream",
     "text": [
      "Processing CSV:  98%|█████████▊| 490000/502368 [06:32<00:10, 1211.66rows/s]"
     ]
    },
    {
     "name": "stdout",
     "output_type": "stream",
     "text": [
      "Valid Chunk rows: 764\n"
     ]
    },
    {
     "name": "stderr",
     "output_type": "stream",
     "text": [
      "Processing CSV:  99%|█████████▊| 495000/502368 [06:36<00:06, 1202.36rows/s]"
     ]
    },
    {
     "name": "stdout",
     "output_type": "stream",
     "text": [
      "Valid Chunk rows: 804\n"
     ]
    },
    {
     "name": "stderr",
     "output_type": "stream",
     "text": [
      "Processing CSV: 100%|█████████▉| 500000/502368 [06:41<00:02, 1129.80rows/s]"
     ]
    },
    {
     "name": "stdout",
     "output_type": "stream",
     "text": [
      "Valid Chunk rows: 371\n"
     ]
    },
    {
     "name": "stderr",
     "output_type": "stream",
     "text": [
      "Processing CSV: 505000rows [06:43, 1250.04rows/s]                          \n"
     ]
    },
    {
     "name": "stdout",
     "output_type": "stream",
     "text": [
      "Dropping empty columns in the temporary table: ICD10_temp\n"
     ]
    },
    {
     "name": "stderr",
     "output_type": "stream",
     "text": [
      " 15%|█▍        | 28/193 [00:06<00:36,  4.55it/s]"
     ]
    },
    {
     "name": "stdout",
     "output_type": "stream",
     "text": [
      "Dropping empty column: 20003-0.26\n"
     ]
    },
    {
     "name": "stderr",
     "output_type": "stream",
     "text": [
      " 15%|█▌        | 29/193 [00:06<00:36,  4.46it/s]"
     ]
    },
    {
     "name": "stdout",
     "output_type": "stream",
     "text": [
      "Dropping empty column: 20003-0.27\n"
     ]
    },
    {
     "name": "stderr",
     "output_type": "stream",
     "text": [
      " 16%|█▌        | 30/193 [00:06<00:37,  4.34it/s]"
     ]
    },
    {
     "name": "stdout",
     "output_type": "stream",
     "text": [
      "Dropping empty column: 20003-0.28\n"
     ]
    },
    {
     "name": "stderr",
     "output_type": "stream",
     "text": [
      " 17%|█▋        | 32/193 [00:06<00:34,  4.63it/s]"
     ]
    },
    {
     "name": "stdout",
     "output_type": "stream",
     "text": [
      "Dropping empty column: 20003-0.29\n",
      "Dropping empty column: 20003-0.30\n"
     ]
    },
    {
     "name": "stderr",
     "output_type": "stream",
     "text": [
      " 18%|█▊        | 34/193 [00:07<00:32,  4.91it/s]"
     ]
    },
    {
     "name": "stdout",
     "output_type": "stream",
     "text": [
      "Dropping empty column: 20003-0.31\n",
      "Dropping empty column: 20003-0.32\n"
     ]
    },
    {
     "name": "stderr",
     "output_type": "stream",
     "text": [
      " 18%|█▊        | 35/193 [00:07<00:33,  4.75it/s]"
     ]
    },
    {
     "name": "stdout",
     "output_type": "stream",
     "text": [
      "Dropping empty column: 20003-0.33\n"
     ]
    },
    {
     "name": "stderr",
     "output_type": "stream",
     "text": [
      " 19%|█▉        | 37/193 [00:08<00:32,  4.87it/s]"
     ]
    },
    {
     "name": "stdout",
     "output_type": "stream",
     "text": [
      "Dropping empty column: 20003-0.34\n",
      "Dropping empty column: 20003-0.35\n"
     ]
    },
    {
     "name": "stderr",
     "output_type": "stream",
     "text": [
      " 20%|█▉        | 38/193 [00:08<00:32,  4.76it/s]"
     ]
    },
    {
     "name": "stdout",
     "output_type": "stream",
     "text": [
      "Dropping empty column: 20003-0.36\n"
     ]
    },
    {
     "name": "stderr",
     "output_type": "stream",
     "text": [
      " 20%|██        | 39/193 [00:08<00:32,  4.68it/s]"
     ]
    },
    {
     "name": "stdout",
     "output_type": "stream",
     "text": [
      "Dropping empty column: 20003-0.37\n"
     ]
    },
    {
     "name": "stderr",
     "output_type": "stream",
     "text": [
      " 21%|██        | 40/193 [00:08<00:33,  4.62it/s]"
     ]
    },
    {
     "name": "stdout",
     "output_type": "stream",
     "text": [
      "Dropping empty column: 20003-0.38\n"
     ]
    },
    {
     "name": "stderr",
     "output_type": "stream",
     "text": [
      " 21%|██        | 41/193 [00:08<00:32,  4.67it/s]"
     ]
    },
    {
     "name": "stdout",
     "output_type": "stream",
     "text": [
      "Dropping empty column: 20003-0.39\n"
     ]
    },
    {
     "name": "stderr",
     "output_type": "stream",
     "text": [
      " 22%|██▏       | 42/193 [00:09<00:32,  4.65it/s]"
     ]
    },
    {
     "name": "stdout",
     "output_type": "stream",
     "text": [
      "Dropping empty column: 20003-0.40\n"
     ]
    },
    {
     "name": "stderr",
     "output_type": "stream",
     "text": [
      " 22%|██▏       | 43/193 [00:09<00:32,  4.65it/s]"
     ]
    },
    {
     "name": "stdout",
     "output_type": "stream",
     "text": [
      "Dropping empty column: 20003-0.41\n"
     ]
    },
    {
     "name": "stderr",
     "output_type": "stream",
     "text": [
      " 23%|██▎       | 44/193 [00:09<00:33,  4.50it/s]"
     ]
    },
    {
     "name": "stdout",
     "output_type": "stream",
     "text": [
      "Dropping empty column: 20003-0.42\n"
     ]
    },
    {
     "name": "stderr",
     "output_type": "stream",
     "text": [
      " 23%|██▎       | 45/193 [00:09<00:33,  4.36it/s]"
     ]
    },
    {
     "name": "stdout",
     "output_type": "stream",
     "text": [
      "Dropping empty column: 20003-0.43\n"
     ]
    },
    {
     "name": "stderr",
     "output_type": "stream",
     "text": [
      " 24%|██▍       | 46/193 [00:10<00:33,  4.35it/s]"
     ]
    },
    {
     "name": "stdout",
     "output_type": "stream",
     "text": [
      "Dropping empty column: 20003-0.44\n"
     ]
    },
    {
     "name": "stderr",
     "output_type": "stream",
     "text": [
      " 24%|██▍       | 47/193 [00:10<00:33,  4.40it/s]"
     ]
    },
    {
     "name": "stdout",
     "output_type": "stream",
     "text": [
      "Dropping empty column: 20003-0.45\n"
     ]
    },
    {
     "name": "stderr",
     "output_type": "stream",
     "text": [
      " 25%|██▍       | 48/193 [00:10<00:34,  4.26it/s]"
     ]
    },
    {
     "name": "stdout",
     "output_type": "stream",
     "text": [
      "Dropping empty column: 20003-0.46\n"
     ]
    },
    {
     "name": "stderr",
     "output_type": "stream",
     "text": [
      " 25%|██▌       | 49/193 [00:10<00:33,  4.32it/s]"
     ]
    },
    {
     "name": "stdout",
     "output_type": "stream",
     "text": [
      "Dropping empty column: 20003-0.47\n"
     ]
    },
    {
     "name": "stderr",
     "output_type": "stream",
     "text": [
      " 37%|███▋      | 71/193 [00:15<00:26,  4.64it/s]"
     ]
    },
    {
     "name": "stdout",
     "output_type": "stream",
     "text": [
      "Dropping empty column: 20003-1.21\n"
     ]
    },
    {
     "name": "stderr",
     "output_type": "stream",
     "text": [
      " 37%|███▋      | 72/193 [00:15<00:26,  4.54it/s]"
     ]
    },
    {
     "name": "stdout",
     "output_type": "stream",
     "text": [
      "Dropping empty column: 20003-1.22\n"
     ]
    },
    {
     "name": "stderr",
     "output_type": "stream",
     "text": [
      " 38%|███▊      | 73/193 [00:15<00:27,  4.38it/s]"
     ]
    },
    {
     "name": "stdout",
     "output_type": "stream",
     "text": [
      "Dropping empty column: 20003-1.23\n"
     ]
    },
    {
     "name": "stderr",
     "output_type": "stream",
     "text": [
      " 38%|███▊      | 74/193 [00:16<00:26,  4.49it/s]"
     ]
    },
    {
     "name": "stdout",
     "output_type": "stream",
     "text": [
      "Dropping empty column: 20003-1.24\n"
     ]
    },
    {
     "name": "stderr",
     "output_type": "stream",
     "text": [
      " 39%|███▉      | 75/193 [00:16<00:25,  4.54it/s]"
     ]
    },
    {
     "name": "stdout",
     "output_type": "stream",
     "text": [
      "Dropping empty column: 20003-1.25\n"
     ]
    },
    {
     "name": "stderr",
     "output_type": "stream",
     "text": [
      " 39%|███▉      | 76/193 [00:16<00:26,  4.47it/s]"
     ]
    },
    {
     "name": "stdout",
     "output_type": "stream",
     "text": [
      "Dropping empty column: 20003-1.26\n"
     ]
    },
    {
     "name": "stderr",
     "output_type": "stream",
     "text": [
      " 40%|███▉      | 77/193 [00:16<00:25,  4.60it/s]"
     ]
    },
    {
     "name": "stdout",
     "output_type": "stream",
     "text": [
      "Dropping empty column: 20003-1.27\n"
     ]
    },
    {
     "name": "stderr",
     "output_type": "stream",
     "text": [
      " 40%|████      | 78/193 [00:16<00:25,  4.56it/s]"
     ]
    },
    {
     "name": "stdout",
     "output_type": "stream",
     "text": [
      "Dropping empty column: 20003-1.28\n"
     ]
    },
    {
     "name": "stderr",
     "output_type": "stream",
     "text": [
      " 41%|████      | 79/193 [00:17<00:25,  4.46it/s]"
     ]
    },
    {
     "name": "stdout",
     "output_type": "stream",
     "text": [
      "Dropping empty column: 20003-1.29\n"
     ]
    },
    {
     "name": "stderr",
     "output_type": "stream",
     "text": [
      " 41%|████▏     | 80/193 [00:17<00:25,  4.41it/s]"
     ]
    },
    {
     "name": "stdout",
     "output_type": "stream",
     "text": [
      "Dropping empty column: 20003-1.30\n"
     ]
    },
    {
     "name": "stderr",
     "output_type": "stream",
     "text": [
      " 42%|████▏     | 82/193 [00:17<00:23,  4.64it/s]"
     ]
    },
    {
     "name": "stdout",
     "output_type": "stream",
     "text": [
      "Dropping empty column: 20003-1.31\n",
      "Dropping empty column: 20003-1.32\n"
     ]
    },
    {
     "name": "stderr",
     "output_type": "stream",
     "text": [
      " 43%|████▎     | 83/193 [00:18<00:24,  4.41it/s]"
     ]
    },
    {
     "name": "stdout",
     "output_type": "stream",
     "text": [
      "Dropping empty column: 20003-1.33\n"
     ]
    },
    {
     "name": "stderr",
     "output_type": "stream",
     "text": [
      " 44%|████▎     | 84/193 [00:18<00:24,  4.39it/s]"
     ]
    },
    {
     "name": "stdout",
     "output_type": "stream",
     "text": [
      "Dropping empty column: 20003-1.34\n"
     ]
    },
    {
     "name": "stderr",
     "output_type": "stream",
     "text": [
      " 44%|████▍     | 85/193 [00:18<00:25,  4.27it/s]"
     ]
    },
    {
     "name": "stdout",
     "output_type": "stream",
     "text": [
      "Dropping empty column: 20003-1.35\n"
     ]
    },
    {
     "name": "stderr",
     "output_type": "stream",
     "text": [
      " 45%|████▍     | 86/193 [00:18<00:24,  4.29it/s]"
     ]
    },
    {
     "name": "stdout",
     "output_type": "stream",
     "text": [
      "Dropping empty column: 20003-1.36\n"
     ]
    },
    {
     "name": "stderr",
     "output_type": "stream",
     "text": [
      " 45%|████▌     | 87/193 [00:19<00:25,  4.14it/s]"
     ]
    },
    {
     "name": "stdout",
     "output_type": "stream",
     "text": [
      "Dropping empty column: 20003-1.37\n"
     ]
    },
    {
     "name": "stderr",
     "output_type": "stream",
     "text": [
      " 46%|████▌     | 89/193 [00:19<00:23,  4.43it/s]"
     ]
    },
    {
     "name": "stdout",
     "output_type": "stream",
     "text": [
      "Dropping empty column: 20003-1.38\n",
      "Dropping empty column: 20003-1.39\n"
     ]
    },
    {
     "name": "stderr",
     "output_type": "stream",
     "text": [
      " 47%|████▋     | 91/193 [00:19<00:22,  4.63it/s]"
     ]
    },
    {
     "name": "stdout",
     "output_type": "stream",
     "text": [
      "Dropping empty column: 20003-1.40\n",
      "Dropping empty column: 20003-1.41\n"
     ]
    },
    {
     "name": "stderr",
     "output_type": "stream",
     "text": [
      " 48%|████▊     | 92/193 [00:20<00:21,  4.60it/s]"
     ]
    },
    {
     "name": "stdout",
     "output_type": "stream",
     "text": [
      "Dropping empty column: 20003-1.42\n"
     ]
    },
    {
     "name": "stderr",
     "output_type": "stream",
     "text": [
      " 48%|████▊     | 93/193 [00:20<00:22,  4.54it/s]"
     ]
    },
    {
     "name": "stdout",
     "output_type": "stream",
     "text": [
      "Dropping empty column: 20003-1.43\n"
     ]
    },
    {
     "name": "stderr",
     "output_type": "stream",
     "text": [
      " 49%|████▊     | 94/193 [00:20<00:22,  4.47it/s]"
     ]
    },
    {
     "name": "stdout",
     "output_type": "stream",
     "text": [
      "Dropping empty column: 20003-1.44\n"
     ]
    },
    {
     "name": "stderr",
     "output_type": "stream",
     "text": [
      " 49%|████▉     | 95/193 [00:20<00:22,  4.40it/s]"
     ]
    },
    {
     "name": "stdout",
     "output_type": "stream",
     "text": [
      "Dropping empty column: 20003-1.45\n"
     ]
    },
    {
     "name": "stderr",
     "output_type": "stream",
     "text": [
      " 50%|████▉     | 96/193 [00:21<00:21,  4.45it/s]"
     ]
    },
    {
     "name": "stdout",
     "output_type": "stream",
     "text": [
      "Dropping empty column: 20003-1.46\n"
     ]
    },
    {
     "name": "stderr",
     "output_type": "stream",
     "text": [
      " 50%|█████     | 97/193 [00:21<00:21,  4.49it/s]"
     ]
    },
    {
     "name": "stdout",
     "output_type": "stream",
     "text": [
      "Dropping empty column: 20003-1.47\n"
     ]
    },
    {
     "name": "stderr",
     "output_type": "stream",
     "text": [
      " 65%|██████▌   | 126/193 [00:27<00:14,  4.71it/s]"
     ]
    },
    {
     "name": "stdout",
     "output_type": "stream",
     "text": [
      "Dropping empty column: 20003-2.28\n"
     ]
    },
    {
     "name": "stderr",
     "output_type": "stream",
     "text": [
      " 66%|██████▌   | 127/193 [00:27<00:14,  4.71it/s]"
     ]
    },
    {
     "name": "stdout",
     "output_type": "stream",
     "text": [
      "Dropping empty column: 20003-2.29\n"
     ]
    },
    {
     "name": "stderr",
     "output_type": "stream",
     "text": [
      " 66%|██████▋   | 128/193 [00:28<00:13,  4.70it/s]"
     ]
    },
    {
     "name": "stdout",
     "output_type": "stream",
     "text": [
      "Dropping empty column: 20003-2.30\n"
     ]
    },
    {
     "name": "stderr",
     "output_type": "stream",
     "text": [
      " 67%|██████▋   | 129/193 [00:28<00:13,  4.62it/s]"
     ]
    },
    {
     "name": "stdout",
     "output_type": "stream",
     "text": [
      "Dropping empty column: 20003-2.31\n"
     ]
    },
    {
     "name": "stderr",
     "output_type": "stream",
     "text": [
      " 67%|██████▋   | 130/193 [00:28<00:13,  4.70it/s]"
     ]
    },
    {
     "name": "stdout",
     "output_type": "stream",
     "text": [
      "Dropping empty column: 20003-2.32\n"
     ]
    },
    {
     "name": "stderr",
     "output_type": "stream",
     "text": [
      " 68%|██████▊   | 132/193 [00:28<00:12,  4.84it/s]"
     ]
    },
    {
     "name": "stdout",
     "output_type": "stream",
     "text": [
      "Dropping empty column: 20003-2.33\n",
      "Dropping empty column: 20003-2.34\n"
     ]
    },
    {
     "name": "stderr",
     "output_type": "stream",
     "text": [
      " 69%|██████▉   | 133/193 [00:29<00:12,  4.82it/s]"
     ]
    },
    {
     "name": "stdout",
     "output_type": "stream",
     "text": [
      "Dropping empty column: 20003-2.35\n"
     ]
    },
    {
     "name": "stderr",
     "output_type": "stream",
     "text": [
      " 69%|██████▉   | 134/193 [00:29<00:12,  4.75it/s]"
     ]
    },
    {
     "name": "stdout",
     "output_type": "stream",
     "text": [
      "Dropping empty column: 20003-2.36\n"
     ]
    },
    {
     "name": "stderr",
     "output_type": "stream",
     "text": [
      " 70%|██████▉   | 135/193 [00:29<00:12,  4.79it/s]"
     ]
    },
    {
     "name": "stdout",
     "output_type": "stream",
     "text": [
      "Dropping empty column: 20003-2.37\n"
     ]
    },
    {
     "name": "stderr",
     "output_type": "stream",
     "text": [
      " 71%|███████   | 137/193 [00:29<00:11,  4.84it/s]"
     ]
    },
    {
     "name": "stdout",
     "output_type": "stream",
     "text": [
      "Dropping empty column: 20003-2.38\n",
      "Dropping empty column: 20003-2.39\n"
     ]
    },
    {
     "name": "stderr",
     "output_type": "stream",
     "text": [
      " 72%|███████▏  | 139/193 [00:30<00:11,  4.77it/s]"
     ]
    },
    {
     "name": "stdout",
     "output_type": "stream",
     "text": [
      "Dropping empty column: 20003-2.40\n",
      "Dropping empty column: 20003-2.41\n"
     ]
    },
    {
     "name": "stderr",
     "output_type": "stream",
     "text": [
      " 73%|███████▎  | 140/193 [00:30<00:11,  4.79it/s]"
     ]
    },
    {
     "name": "stdout",
     "output_type": "stream",
     "text": [
      "Dropping empty column: 20003-2.42\n"
     ]
    },
    {
     "name": "stderr",
     "output_type": "stream",
     "text": [
      " 73%|███████▎  | 141/193 [00:30<00:11,  4.64it/s]"
     ]
    },
    {
     "name": "stdout",
     "output_type": "stream",
     "text": [
      "Dropping empty column: 20003-2.43\n"
     ]
    },
    {
     "name": "stderr",
     "output_type": "stream",
     "text": [
      " 74%|███████▎  | 142/193 [00:30<00:10,  4.64it/s]"
     ]
    },
    {
     "name": "stdout",
     "output_type": "stream",
     "text": [
      "Dropping empty column: 20003-2.44\n"
     ]
    },
    {
     "name": "stderr",
     "output_type": "stream",
     "text": [
      " 75%|███████▍  | 144/193 [00:31<00:10,  4.83it/s]"
     ]
    },
    {
     "name": "stdout",
     "output_type": "stream",
     "text": [
      "Dropping empty column: 20003-2.45\n",
      "Dropping empty column: 20003-2.46\n"
     ]
    },
    {
     "name": "stderr",
     "output_type": "stream",
     "text": [
      " 75%|███████▌  | 145/193 [00:31<00:09,  5.00it/s]"
     ]
    },
    {
     "name": "stdout",
     "output_type": "stream",
     "text": [
      "Dropping empty column: 20003-2.47\n"
     ]
    },
    {
     "name": "stderr",
     "output_type": "stream",
     "text": [
      " 82%|████████▏ | 159/193 [00:34<00:07,  4.52it/s]"
     ]
    },
    {
     "name": "stdout",
     "output_type": "stream",
     "text": [
      "Dropping empty column: 20003-3.13\n"
     ]
    },
    {
     "name": "stderr",
     "output_type": "stream",
     "text": [
      " 83%|████████▎ | 160/193 [00:34<00:07,  4.51it/s]"
     ]
    },
    {
     "name": "stdout",
     "output_type": "stream",
     "text": [
      "Dropping empty column: 20003-3.14\n"
     ]
    },
    {
     "name": "stderr",
     "output_type": "stream",
     "text": [
      " 83%|████████▎ | 161/193 [00:35<00:07,  4.57it/s]"
     ]
    },
    {
     "name": "stdout",
     "output_type": "stream",
     "text": [
      "Dropping empty column: 20003-3.15\n"
     ]
    },
    {
     "name": "stderr",
     "output_type": "stream",
     "text": [
      " 84%|████████▍ | 162/193 [00:35<00:06,  4.54it/s]"
     ]
    },
    {
     "name": "stdout",
     "output_type": "stream",
     "text": [
      "Dropping empty column: 20003-3.16\n"
     ]
    },
    {
     "name": "stderr",
     "output_type": "stream",
     "text": [
      " 84%|████████▍ | 163/193 [00:35<00:06,  4.42it/s]"
     ]
    },
    {
     "name": "stdout",
     "output_type": "stream",
     "text": [
      "Dropping empty column: 20003-3.17\n",
      "Dropping empty column: 20003-3.18\n"
     ]
    },
    {
     "name": "stderr",
     "output_type": "stream",
     "text": [
      " 85%|████████▌ | 165/193 [00:36<00:06,  4.54it/s]"
     ]
    },
    {
     "name": "stdout",
     "output_type": "stream",
     "text": [
      "Dropping empty column: 20003-3.19\n"
     ]
    },
    {
     "name": "stderr",
     "output_type": "stream",
     "text": [
      " 86%|████████▌ | 166/193 [00:36<00:05,  4.51it/s]"
     ]
    },
    {
     "name": "stdout",
     "output_type": "stream",
     "text": [
      "Dropping empty column: 20003-3.20\n"
     ]
    },
    {
     "name": "stderr",
     "output_type": "stream",
     "text": [
      " 87%|████████▋ | 167/193 [00:36<00:05,  4.44it/s]"
     ]
    },
    {
     "name": "stdout",
     "output_type": "stream",
     "text": [
      "Dropping empty column: 20003-3.21\n"
     ]
    },
    {
     "name": "stderr",
     "output_type": "stream",
     "text": [
      " 87%|████████▋ | 168/193 [00:36<00:05,  4.52it/s]"
     ]
    },
    {
     "name": "stdout",
     "output_type": "stream",
     "text": [
      "Dropping empty column: 20003-3.22\n"
     ]
    },
    {
     "name": "stderr",
     "output_type": "stream",
     "text": [
      " 88%|████████▊ | 170/193 [00:37<00:04,  4.75it/s]"
     ]
    },
    {
     "name": "stdout",
     "output_type": "stream",
     "text": [
      "Dropping empty column: 20003-3.23\n",
      "Dropping empty column: 20003-3.24\n"
     ]
    },
    {
     "name": "stderr",
     "output_type": "stream",
     "text": [
      " 89%|████████▉ | 172/193 [00:37<00:04,  4.61it/s]"
     ]
    },
    {
     "name": "stdout",
     "output_type": "stream",
     "text": [
      "Dropping empty column: 20003-3.25\n",
      "Dropping empty column: 20003-3.26\n"
     ]
    },
    {
     "name": "stderr",
     "output_type": "stream",
     "text": [
      " 90%|████████▉ | 173/193 [00:37<00:04,  4.66it/s]"
     ]
    },
    {
     "name": "stdout",
     "output_type": "stream",
     "text": [
      "Dropping empty column: 20003-3.27\n"
     ]
    },
    {
     "name": "stderr",
     "output_type": "stream",
     "text": [
      " 90%|█████████ | 174/193 [00:37<00:04,  4.70it/s]"
     ]
    },
    {
     "name": "stdout",
     "output_type": "stream",
     "text": [
      "Dropping empty column: 20003-3.28\n"
     ]
    },
    {
     "name": "stderr",
     "output_type": "stream",
     "text": [
      " 91%|█████████ | 175/193 [00:38<00:03,  4.55it/s]"
     ]
    },
    {
     "name": "stdout",
     "output_type": "stream",
     "text": [
      "Dropping empty column: 20003-3.29\n"
     ]
    },
    {
     "name": "stderr",
     "output_type": "stream",
     "text": [
      " 91%|█████████ | 176/193 [00:38<00:03,  4.40it/s]"
     ]
    },
    {
     "name": "stdout",
     "output_type": "stream",
     "text": [
      "Dropping empty column: 20003-3.30\n"
     ]
    },
    {
     "name": "stderr",
     "output_type": "stream",
     "text": [
      " 92%|█████████▏| 177/193 [00:38<00:03,  4.43it/s]"
     ]
    },
    {
     "name": "stdout",
     "output_type": "stream",
     "text": [
      "Dropping empty column: 20003-3.31\n"
     ]
    },
    {
     "name": "stderr",
     "output_type": "stream",
     "text": [
      " 92%|█████████▏| 178/193 [00:38<00:03,  4.41it/s]"
     ]
    },
    {
     "name": "stdout",
     "output_type": "stream",
     "text": [
      "Dropping empty column: 20003-3.32\n"
     ]
    },
    {
     "name": "stderr",
     "output_type": "stream",
     "text": [
      " 93%|█████████▎| 179/193 [00:39<00:03,  4.38it/s]"
     ]
    },
    {
     "name": "stdout",
     "output_type": "stream",
     "text": [
      "Dropping empty column: 20003-3.33\n"
     ]
    },
    {
     "name": "stderr",
     "output_type": "stream",
     "text": [
      " 93%|█████████▎| 180/193 [00:39<00:02,  4.39it/s]"
     ]
    },
    {
     "name": "stdout",
     "output_type": "stream",
     "text": [
      "Dropping empty column: 20003-3.34\n"
     ]
    },
    {
     "name": "stderr",
     "output_type": "stream",
     "text": [
      " 94%|█████████▍| 181/193 [00:39<00:02,  4.34it/s]"
     ]
    },
    {
     "name": "stdout",
     "output_type": "stream",
     "text": [
      "Dropping empty column: 20003-3.35\n"
     ]
    },
    {
     "name": "stderr",
     "output_type": "stream",
     "text": [
      " 94%|█████████▍| 182/193 [00:39<00:02,  4.38it/s]"
     ]
    },
    {
     "name": "stdout",
     "output_type": "stream",
     "text": [
      "Dropping empty column: 20003-3.36\n"
     ]
    },
    {
     "name": "stderr",
     "output_type": "stream",
     "text": [
      " 95%|█████████▍| 183/193 [00:40<00:02,  4.42it/s]"
     ]
    },
    {
     "name": "stdout",
     "output_type": "stream",
     "text": [
      "Dropping empty column: 20003-3.37\n"
     ]
    },
    {
     "name": "stderr",
     "output_type": "stream",
     "text": [
      " 95%|█████████▌| 184/193 [00:40<00:02,  4.40it/s]"
     ]
    },
    {
     "name": "stdout",
     "output_type": "stream",
     "text": [
      "Dropping empty column: 20003-3.38\n"
     ]
    },
    {
     "name": "stderr",
     "output_type": "stream",
     "text": [
      " 96%|█████████▌| 185/193 [00:40<00:01,  4.49it/s]"
     ]
    },
    {
     "name": "stdout",
     "output_type": "stream",
     "text": [
      "Dropping empty column: 20003-3.39\n"
     ]
    },
    {
     "name": "stderr",
     "output_type": "stream",
     "text": [
      " 97%|█████████▋| 187/193 [00:40<00:01,  4.67it/s]"
     ]
    },
    {
     "name": "stdout",
     "output_type": "stream",
     "text": [
      "Dropping empty column: 20003-3.40\n",
      "Dropping empty column: 20003-3.41\n"
     ]
    },
    {
     "name": "stderr",
     "output_type": "stream",
     "text": [
      " 97%|█████████▋| 188/193 [00:41<00:01,  4.70it/s]"
     ]
    },
    {
     "name": "stdout",
     "output_type": "stream",
     "text": [
      "Dropping empty column: 20003-3.42\n"
     ]
    },
    {
     "name": "stderr",
     "output_type": "stream",
     "text": [
      " 98%|█████████▊| 189/193 [00:41<00:00,  4.65it/s]"
     ]
    },
    {
     "name": "stdout",
     "output_type": "stream",
     "text": [
      "Dropping empty column: 20003-3.43\n"
     ]
    },
    {
     "name": "stderr",
     "output_type": "stream",
     "text": [
      " 99%|█████████▉| 191/193 [00:41<00:00,  4.68it/s]"
     ]
    },
    {
     "name": "stdout",
     "output_type": "stream",
     "text": [
      "Dropping empty column: 20003-3.44\n",
      "Dropping empty column: 20003-3.45\n"
     ]
    },
    {
     "name": "stderr",
     "output_type": "stream",
     "text": [
      " 99%|█████████▉| 192/193 [00:41<00:00,  4.64it/s]"
     ]
    },
    {
     "name": "stdout",
     "output_type": "stream",
     "text": [
      "Dropping empty column: 20003-3.46\n"
     ]
    },
    {
     "name": "stderr",
     "output_type": "stream",
     "text": [
      "100%|██████████| 193/193 [00:42<00:00,  4.57it/s]"
     ]
    },
    {
     "name": "stdout",
     "output_type": "stream",
     "text": [
      "Dropping empty column: 20003-3.47\n",
      "There will be 88 columns added to the table: ICD10\n",
      "Updating the formal table: ICD10\n"
     ]
    },
    {
     "name": "stderr",
     "output_type": "stream",
     "text": [
      "\n"
     ]
    },
    {
     "name": "stdout",
     "output_type": "stream",
     "text": [
      "Inserting data into the formal table: ICD10\n",
      "Table ICD10 has been updated successfully.\n"
     ]
    }
   ],
   "source": [
    "# Also include the medical history, we need to exclude those who take \n",
    "update_table_from_csv(ICD_table_name, [20003])"
   ]
  }
 ],
 "metadata": {
  "kernelspec": {
   "display_name": "Python 3",
   "language": "python",
   "name": "python3"
  },
  "language_info": {
   "codemirror_mode": {
    "name": "ipython",
    "version": 3
   },
   "file_extension": ".py",
   "mimetype": "text/x-python",
   "name": "python",
   "nbconvert_exporter": "python",
   "pygments_lexer": "ipython3",
   "version": "3.9.18"
  }
 },
 "nbformat": 4,
 "nbformat_minor": 2
}
