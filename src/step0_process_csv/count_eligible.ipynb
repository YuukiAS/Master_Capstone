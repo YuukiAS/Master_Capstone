{
 "cells": [
  {
   "cell_type": "markdown",
   "metadata": {},
   "source": [
    "Count the number of eligible patients in the database."
   ]
  },
  {
   "cell_type": "code",
   "execution_count": 1,
   "metadata": {},
   "outputs": [],
   "source": [
    "import sqlite3\n",
    "import sys\n",
    "\n",
    "sys.path.append(\"../..\")\n",
    "\n",
    "from utils.constants import db_file, processed_table_name, variables_table_name, primary_key"
   ]
  },
  {
   "cell_type": "code",
   "execution_count": 2,
   "metadata": {},
   "outputs": [],
   "source": [
    "conn = sqlite3.connect(db_file)\n",
    "cursor = conn.cursor()"
   ]
  },
  {
   "cell_type": "code",
   "execution_count": 4,
   "metadata": {},
   "outputs": [
    {
     "name": "stdout",
     "output_type": "stream",
     "text": [
      "[(77888,)]\n"
     ]
    }
   ],
   "source": [
    "# Total participants\n",
    "cursor.execute(f\"\"\"\n",
    "    SELECT COUNT(*) AS Total_count\n",
    "    FROM {processed_table_name}\n",
    "\"\"\")\n",
    "print(cursor.fetchall())"
   ]
  },
  {
   "cell_type": "code",
   "execution_count": 7,
   "metadata": {},
   "outputs": [
    {
     "name": "stdout",
     "output_type": "stream",
     "text": [
      "[(61927,)]\n"
     ]
    }
   ],
   "source": [
    "cursor.execute(f\"\"\"\n",
    "    SELECT COUNT(*) AS Total_count \n",
    "    FROM {processed_table_name} \n",
    "    WHERE ECG_date IS NOT NULL;\n",
    "\"\"\")\n",
    "print(cursor.fetchall())"
   ]
  },
  {
   "cell_type": "code",
   "execution_count": 10,
   "metadata": {},
   "outputs": [
    {
     "data": {
      "text/plain": [
       "15961"
      ]
     },
     "execution_count": 10,
     "metadata": {},
     "output_type": "execute_result"
    }
   ],
   "source": [
    "77888 - 61927"
   ]
  },
  {
   "cell_type": "markdown",
   "metadata": {},
   "source": [
    "Those with ECG_date being NULL have empty ECG XML files."
   ]
  },
  {
   "cell_type": "code",
   "execution_count": 8,
   "metadata": {},
   "outputs": [
    {
     "name": "stdout",
     "output_type": "stream",
     "text": [
      "[(49608,)]\n"
     ]
    }
   ],
   "source": [
    "# Complete test and has valid ECG\n",
    "cursor.execute(f\"\"\"\n",
    "    SELECT COUNT(*) AS Total_count \n",
    "    FROM {processed_table_name} \n",
    "    WHERE test_status = 1  AND ECG_date IS NOT NULL;\n",
    "\"\"\")\n",
    "print(cursor.fetchall())"
   ]
  },
  {
   "cell_type": "code",
   "execution_count": 11,
   "metadata": {},
   "outputs": [
    {
     "data": {
      "text/plain": [
       "12319"
      ]
     },
     "execution_count": 11,
     "metadata": {},
     "output_type": "execute_result"
    }
   ],
   "source": [
    "61927 - 49608"
   ]
  },
  {
   "cell_type": "code",
   "execution_count": 12,
   "metadata": {},
   "outputs": [
    {
     "name": "stdout",
     "output_type": "stream",
     "text": [
      "[(42143,)]\n"
     ]
    }
   ],
   "source": [
    "# Complete test, has valid ECG and don't take statin\n",
    "cursor.execute(f\"\"\"\n",
    "    SELECT COUNT(*) AS Total_count\n",
    "    FROM {processed_table_name} \n",
    "    WHERE statins = 0 AND test_status = 1 AND ECG_date IS NOT NULL;\n",
    "\"\"\")\n",
    "print(cursor.fetchall())"
   ]
  },
  {
   "cell_type": "code",
   "execution_count": 13,
   "metadata": {},
   "outputs": [
    {
     "data": {
      "text/plain": [
       "7465"
      ]
     },
     "execution_count": 13,
     "metadata": {},
     "output_type": "execute_result"
    }
   ],
   "source": [
    "49608 - 42143"
   ]
  },
  {
   "cell_type": "code",
   "execution_count": 14,
   "metadata": {},
   "outputs": [
    {
     "name": "stdout",
     "output_type": "stream",
     "text": [
      "[(36060, 0), (6083, 5214)]\n"
     ]
    }
   ],
   "source": [
    "# Complete test, has valid ECG and don't take statin\n",
    "cursor.execute(f\"\"\"\n",
    "    SELECT COUNT(*) AS Total_count, SUM(CASE WHEN ECG_date < CVD_date THEN 1 ELSE 0 END) AS ECG_before_CVD FROM {processed_table_name} \n",
    "    WHERE statins = 0 AND test_status = 1 AND ECG_date IS NOT NULL\n",
    "    GROUP BY CVD;\n",
    "\"\"\")\n",
    "print(cursor.fetchall())"
   ]
  },
  {
   "cell_type": "code",
   "execution_count": 12,
   "metadata": {},
   "outputs": [
    {
     "name": "stdout",
     "output_type": "stream",
     "text": [
      "41274\n",
      "0.12632650094490477\n"
     ]
    }
   ],
   "source": [
    "print(36060 + 5214)\n",
    "print(5214 / (36060 + 5214))"
   ]
  },
  {
   "cell_type": "code",
   "execution_count": 15,
   "metadata": {},
   "outputs": [
    {
     "data": {
      "text/plain": [
       "869"
      ]
     },
     "execution_count": 15,
     "metadata": {},
     "output_type": "execute_result"
    }
   ],
   "source": [
    "6083 - 5214"
   ]
  },
  {
   "cell_type": "markdown",
   "metadata": {},
   "source": [
    "12.6% of eligible participants have incident CVD, while the remaining ones don't experience CVD so far.\n",
    "\n",
    "The censoring date is 2022-10-31."
   ]
  },
  {
   "cell_type": "code",
   "execution_count": 10,
   "metadata": {},
   "outputs": [],
   "source": [
    "# count missing rate for eligible participants\n",
    "\n",
    "# Get column names\n",
    "conn = sqlite3.connect(db_file)\n",
    "cursor = conn.cursor()\n",
    "\n",
    "selected_columns_ID = [\n",
    "    34,\n",
    "    52,\n",
    "    20116,\n",
    "    31,\n",
    "    2443,\n",
    "    4080,\n",
    "    21000,\n",
    "    50,\n",
    "    21002,\n",
    "    6177,\n",
    "    6153,\n",
    "    6150,\n",
    "    30690,\n",
    "    30760,\n",
    "    6138,\n",
    "    22032\n",
    "]\n",
    "\n",
    "baseline_columns = [f\"v.`{column_ID}-0.0`\" for column_ID in selected_columns_ID]\n",
    "\n",
    "missing_values_dict = {}\n",
    "\n",
    "query_sql = f\"\"\"SELECT p.eid, {', '.join(baseline_columns)} \n",
    "FROM {processed_table_name} p INNER JOIN {variables_table_name} v on p.{primary_key} = v.{primary_key}\n",
    "WHERE p.statins = 0 AND p.test_status = 1 AND p.ECG_date IS NOT NULL AND (p.CVD = 0 OR p.ECG_date < p.CVD_date);\"\"\"\n",
    "cursor.execute(query_sql)\n",
    "\n",
    "cnt = 0\n",
    "for row in cursor:\n",
    "    cnt += 1\n",
    "    eid = row[0]\n",
    "    missing_columns_index = [i for i, value in enumerate(row[1:]) if value is None]\n",
    "    missing_columns = [baseline_columns[i] for i in missing_columns_index]\n",
    "    if missing_columns:\n",
    "        missing_values_dict[eid] = missing_columns"
   ]
  },
  {
   "cell_type": "code",
   "execution_count": 11,
   "metadata": {},
   "outputs": [
    {
     "name": "stdout",
     "output_type": "stream",
     "text": [
      "v.`34-0.0`: 0/41274\n",
      "v.`52-0.0`: 0/41274\n",
      "v.`20116-0.0`: 85/41274\n",
      "v.`31-0.0`: 0/41274\n",
      "v.`2443-0.0`: 85/41274\n",
      "v.`4080-0.0`: 196/41274\n",
      "v.`21000-0.0`: 85/41274\n",
      "v.`50-0.0`: 20/41274\n",
      "v.`21002-0.0`: 1/41274\n",
      "v.`6177-0.0`: 0/41274\n",
      "v.`6153-0.0`: 0/41274\n",
      "v.`6150-0.0`: 85/41274\n",
      "v.`30690-0.0`: 3156/41274\n",
      "v.`30760-0.0`: 5006/41274\n",
      "v.`6138-0.0`: 85/41274\n",
      "v.`22032-0.0`: 6740/41274\n"
     ]
    }
   ],
   "source": [
    "# Note 6153 and 6177 only applicable to a single gender, we thus remove them from the dictionary\n",
    "columns_to_remove = ['6153-0.0', '6177-0.0']\n",
    "\n",
    "for eid in list(missing_values_dict.keys()): \n",
    "    missing_values_dict[eid] = [col for col in missing_values_dict[eid] \n",
    "                               if not any(col_id in col for col_id in ['6153', '6177'])]\n",
    "    # remove those with no missing values\n",
    "    if not missing_values_dict[eid]:\n",
    "        del missing_values_dict[eid]\n",
    "    \n",
    "missing_values_count = {col: 0 for col in baseline_columns}\n",
    "for eid, missing_columns in missing_values_dict.items():\n",
    "    for col in missing_columns:\n",
    "        missing_values_count[col] += 1\n",
    "\n",
    "for col, cnt_missing in missing_values_count.items():\n",
    "    print(f\"{col}: {cnt_missing}/{cnt}\")"
   ]
  },
  {
   "cell_type": "code",
   "execution_count": 13,
   "metadata": {},
   "outputs": [
    {
     "data": {
      "text/plain": [
       "0.12128700877065465"
      ]
     },
     "execution_count": 13,
     "metadata": {},
     "output_type": "execute_result"
    }
   ],
   "source": [
    "5006/41274"
   ]
  },
  {
   "cell_type": "code",
   "execution_count": 1,
   "metadata": {},
   "outputs": [
    {
     "data": {
      "text/plain": [
       "0.16329892910791297"
      ]
     },
     "execution_count": 1,
     "metadata": {},
     "output_type": "execute_result"
    }
   ],
   "source": [
    "6740/41274"
   ]
  },
  {
   "cell_type": "code",
   "execution_count": null,
   "metadata": {},
   "outputs": [],
   "source": []
  }
 ],
 "metadata": {
  "kernelspec": {
   "display_name": "Python 3",
   "language": "python",
   "name": "python3"
  },
  "language_info": {
   "codemirror_mode": {
    "name": "ipython",
    "version": 3
   },
   "file_extension": ".py",
   "mimetype": "text/x-python",
   "name": "python",
   "nbconvert_exporter": "python",
   "pygments_lexer": "ipython3",
   "version": "3.9.18"
  }
 },
 "nbformat": 4,
 "nbformat_minor": 2
}
