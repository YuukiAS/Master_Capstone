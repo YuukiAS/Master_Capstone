{
 "cells": [
  {
   "cell_type": "markdown",
   "metadata": {},
   "source": [
    "Export data from SQL database to CSV, so that R can read it for complete case analysis or impute missing values."
   ]
  },
  {
   "cell_type": "code",
   "execution_count": 42,
   "metadata": {},
   "outputs": [],
   "source": [
    "import sqlite3\n",
    "import pandas as pd\n",
    "import datetime\n",
    "from tqdm import tqdm\n",
    "import sys\n",
    "\n",
    "sys.path.append(\"../../..\")\n",
    "\n",
    "from utils.constants import DatabaseConfig, TableNames"
   ]
  },
  {
   "cell_type": "code",
   "execution_count": 26,
   "metadata": {},
   "outputs": [],
   "source": [
    "conn = sqlite3.connect(DatabaseConfig.DB_PATH)\n",
    "cursor = conn.cursor()\n",
    "primary_key = 'eid'"
   ]
  },
  {
   "cell_type": "markdown",
   "metadata": {},
   "source": [
    "# Generate Table\n",
    "\n",
    "## Covariates Table\n",
    "\n",
    "We first create a table for covariates that will be used for survival analysis.\n",
    "+ We create an `age` column based on ECG_date."
   ]
  },
  {
   "cell_type": "code",
   "execution_count": 29,
   "metadata": {},
   "outputs": [],
   "source": [
    "create_table_sql = f\"\"\"\n",
    "CREATE TABLE {TableNames.COVARIATES} (\n",
    "    eid INTEGER PRIMARY KEY,\n",
    "    age INTEGER,\n",
    "    sex INTEGER,            -- (0=Female, 1=Male)\n",
    "    ethnicity INTEGER,      -- (1=White, 2=Mixed, 3=Asian, 4=Black, 5=Chinese, 6=Other)\n",
    "    BMI REAL,\n",
    "    smoking INTEGER,        -- (0=Never, 1=Previous, 2=Current)\n",
    "    diabetes INTEGER,       -- (1=Yes, 0=No)\n",
    "    systolic_bp REAL,      -- Systolic Blood Pressure\n",
    "    hypertension_treatment INTEGER,\n",
    "    total_chol REAL,\n",
    "    hdl_chol REAL,\n",
    "    education INTEGER,      -- Education Attainment \n",
    "    activity INTEGER,       -- IPAQ Activity Group (0=low, 1=moderate, 2=high)\n",
    "    max_workload REAL,\n",
    "    max_heart_rate REAL\n",
    ");\n",
    "\"\"\"\n",
    "cursor.execute(create_table_sql)\n",
    "\n",
    "# * Here we don't exclude any participants so that imputation might have more information to work with.\n",
    "# Here JULIANDAY() takes a date string and return a number that can be used for calculation.\n",
    "insert_data_sql = f\"\"\"\n",
    "INSERT INTO {TableNames.COVARIATES}\n",
    "SELECT\n",
    "    c.eid,\n",
    "    CAST((JULIANDAY(p.ECG_date) - JULIANDAY(p.birth_date)) / 365.25 AS INTEGER) as age,  -- consider leap years\n",
    "    c.\"31-0.0\" AS sex,\n",
    "    p.ethnicity,\n",
    "    p.BMI,\n",
    "    c.\"20116-0.0\" AS smoking,\n",
    "    c.\"2443-0.0\" AS diabetes,\n",
    "    c.\"4080-0.0\" AS systolic_bp,\n",
    "    p.hypertension_treatment,\n",
    "    c.\"30690-0.0\" AS total_chol,\n",
    "    c.\"30760-0.0\" AS hdl_chol,\n",
    "    c.\"6138-0.0\" AS education,\n",
    "    c.\"22032-0.0\" AS activity,\n",
    "    e.\"6032-0.0\" AS max_workload,\n",
    "    e.\"6033-0.0\" AS max_heart_rate\n",
    "FROM\n",
    "    {TableNames.CONFOUNDERS} c\n",
    "    INNER JOIN {TableNames.PROCESSED} p ON c.eid = p.eid\n",
    "    INNER JOIN {TableNames.ECG} e ON c.eid = e.eid;\n",
    "\"\"\"\n",
    "cursor.execute(insert_data_sql)\n",
    "conn.commit()"
   ]
  },
  {
   "cell_type": "markdown",
   "metadata": {},
   "source": [
    "## Status Table\n",
    "\n",
    "We will also create a table to record the status of each participant. This will mainly be used for selection of eligible participants as well as survival analysis.\n",
    "\n",
    "+ We create `ecg_hrv_ok` column that should be 1 if ECG is uncorrupted and HRV indices are available.\n",
    "+ We create `ecg_before_cvd` column. It is 1 when participant has CVD and the CVD occurred before taking ECG.\n",
    "+ We also creates `time` column based on ECG_date."
   ]
  },
  {
   "cell_type": "code",
   "execution_count": 56,
   "metadata": {},
   "outputs": [
    {
     "name": "stderr",
     "output_type": "stream",
     "text": [
      "100%|██████████| 77888/77888 [00:00<00:00, 138781.32it/s]\n"
     ]
    }
   ],
   "source": [
    "create_table_sql = f\"\"\"\n",
    "CREATE TABLE {TableNames.STATUS} (\n",
    "    eid INTEGER PRIMARY KEY,\n",
    "    event INTEGER,\n",
    "    time DATE,  -- in days\n",
    "    ecg_hrv_ok INTEGER,\n",
    "    ecg_before_cvd INTEGER,\n",
    "    statins INTEGER\n",
    ");\n",
    "\"\"\"\n",
    "cursor.execute(create_table_sql)\n",
    "\n",
    "query_sql = f\"\"\"\n",
    "SELECT {primary_key}, CVD, ECG_date, CVD_date, statins, Censor_date, HRV_available \n",
    "FROM {TableNames.PROCESSED};\n",
    "\"\"\"\n",
    "cursor.execute(query_sql)\n",
    "\n",
    "for row in tqdm(cursor.fetchall()):\n",
    "    eid = row[0]\n",
    "    CVD = row[1]\n",
    "    ECG_date = row[2]\n",
    "    CVD_date = row[3]\n",
    "    statins = row[4]\n",
    "    Censor_date = row[5]\n",
    "    HRV_available = row[6]\n",
    "\n",
    "    assert (CVD == 0 and CVD_date is None) or (CVD == 1 and CVD_date is not None), \"CVD_date must be consistent with CVD\"\n",
    "    event = 0 if CVD == 0 else 1\n",
    "\n",
    "    if ECG_date is None:\n",
    "        time = None\n",
    "    else:\n",
    "        ECG_date_time = datetime.datetime.strptime(ECG_date, \"%Y-%m-%d\")\n",
    "        if CVD_date is None:\n",
    "            Censor_date_time = datetime.datetime.strptime(Censor_date, \"%Y-%m-%d\")\n",
    "            time = (Censor_date_time - ECG_date_time).days\n",
    "        else:\n",
    "            CVD_date_time = datetime.datetime.strptime(CVD_date, \"%Y-%m-%d\")\n",
    "            time = (CVD_date_time - ECG_date_time).days\n",
    "\n",
    "    ecg_hrv_ok = 1 if HRV_available == 1 and ECG_date is not None else 0\n",
    "\n",
    "    if CVD == 1 and ECG_date is not None and ECG_date > CVD_date:\n",
    "        ecg_before_cvd = 1\n",
    "    else:\n",
    "        ecg_before_cvd = 0\n",
    "\n",
    "    statins = 1 if statins == 1 else 0\n",
    "\n",
    "    insert_sql = f\"\"\"\n",
    "    INSERT INTO {TableNames.STATUS}\n",
    "    VALUES (?, ?, ?, ?, ?, ?);\n",
    "    \"\"\"\n",
    "    cursor.execute(insert_sql, (eid, event, time, ecg_hrv_ok, ecg_before_cvd, statins))\n",
    "\n",
    "conn.commit()"
   ]
  },
  {
   "cell_type": "markdown",
   "metadata": {},
   "source": [
    "# Count Missing Rate\n",
    "\n",
    "We can also count the missing rate in the `Covariates` table before imputation."
   ]
  },
  {
   "cell_type": "code",
   "execution_count": 40,
   "metadata": {},
   "outputs": [
    {
     "name": "stdout",
     "output_type": "stream",
     "text": [
      "Full data:\n"
     ]
    },
    {
     "name": "stderr",
     "output_type": "stream",
     "text": [
      "100%|██████████| 1/1 [00:00<00:00, 11650.84it/s]"
     ]
    },
    {
     "name": "stdout",
     "output_type": "stream",
     "text": [
      "age: 15961 / 77888 -> 20.49%\n",
      "sex: 0 / 77888 -> 0.00%\n",
      "ethnicity: 0 / 77888 -> 0.00%\n",
      "BMI: 278 / 77888 -> 0.36%\n",
      "smoking: 209 / 77888 -> 0.27%\n",
      "diabetes: 209 / 77888 -> 0.27%\n",
      "systolic_bp: 458 / 77888 -> 0.59%\n",
      "hypertension_treatment: 486 / 77888 -> 0.62%\n",
      "total_chol: 6238 / 77888 -> 8.01%\n",
      "hdl_chol: 9657 / 77888 -> 12.40%\n",
      "education: 209 / 77888 -> 0.27%\n",
      "activity: 14241 / 77888 -> 18.28%\n",
      "max_workload: 1 / 77888 -> 0.00%\n",
      "max_heart_rate: 17 / 77888 -> 0.02%\n"
     ]
    },
    {
     "name": "stderr",
     "output_type": "stream",
     "text": [
      "\n"
     ]
    }
   ],
   "source": [
    "# Full data\n",
    "cursor.execute(f\"PRAGMA table_info({TableNames.COVARIATES});\")\n",
    "columns = [row[1] for row in cursor.fetchall()]\n",
    "columns = [col for col in columns if col != primary_key]\n",
    "\n",
    "query_sql = f\"\"\"\n",
    "SELECT {primary_key}, \n",
    "       {', '.join(f'SUM(CASE WHEN {col} IS NULL THEN 1 ELSE 0 END) AS {col}_null' for col in columns)}, \n",
    "       COUNT(*) AS total\n",
    "FROM {TableNames.COVARIATES}\n",
    "\"\"\"\n",
    "\n",
    "cursor.execute(query_sql)\n",
    "print(\"Full data:\")\n",
    "for row in tqdm(cursor.fetchall()):\n",
    "    eid = row[0]\n",
    "    values = row[1:-1]\n",
    "    total = row[-1]\n",
    "    \n",
    "    for i, value in enumerate(values):\n",
    "        print(f\"{columns[i]}: {value} / {total} -> {(value / total * 100):.2f}%\")"
   ]
  },
  {
   "cell_type": "code",
   "execution_count": 58,
   "metadata": {},
   "outputs": [
    {
     "name": "stdout",
     "output_type": "stream",
     "text": [
      "Qualified data:\n"
     ]
    },
    {
     "name": "stderr",
     "output_type": "stream",
     "text": [
      "100%|██████████| 1/1 [00:00<00:00, 9425.40it/s]"
     ]
    },
    {
     "name": "stdout",
     "output_type": "stream",
     "text": [
      "age: 0 / 35159 -> 0.00%\n",
      "sex: 0 / 35159 -> 0.00%\n",
      "ethnicity: 0 / 35159 -> 0.00%\n",
      "BMI: 18 / 35159 -> 0.05%\n",
      "smoking: 68 / 35159 -> 0.19%\n",
      "diabetes: 68 / 35159 -> 0.19%\n",
      "systolic_bp: 157 / 35159 -> 0.45%\n",
      "hypertension_treatment: 183 / 35159 -> 0.52%\n",
      "total_chol: 2661 / 35159 -> 7.57%\n",
      "hdl_chol: 4262 / 35159 -> 12.12%\n",
      "education: 68 / 35159 -> 0.19%\n",
      "activity: 5764 / 35159 -> 16.39%\n",
      "max_workload: 0 / 35159 -> 0.00%\n",
      "max_heart_rate: 1 / 35159 -> 0.00%\n"
     ]
    },
    {
     "name": "stderr",
     "output_type": "stream",
     "text": [
      "\n"
     ]
    }
   ],
   "source": [
    "# Qualified data\n",
    "# * This exclusion criteria may be modified for sensitivity analysis.\n",
    "exclusion_criteria = \"WHERE s.statins = 0 AND s.ecg_hrv_ok = 1 AND s.ecg_before_cvd == 0\"\n",
    "cursor.execute(f\"PRAGMA table_info({TableNames.COVARIATES});\")\n",
    "columns = [row[1] for row in cursor.fetchall()]\n",
    "columns = [col for col in columns if col != primary_key]\n",
    "\n",
    "query_sql = f\"\"\"\n",
    "SELECT c.{primary_key}, \n",
    "       {', '.join(f'SUM(CASE WHEN {col} IS NULL THEN 1 ELSE 0 END) AS {col}_null' for col in columns)}, \n",
    "       COUNT(*) AS total\n",
    "FROM {TableNames.COVARIATES} c INNER JOIN {TableNames.STATUS} s ON c.eid = s.eid\n",
    "{exclusion_criteria};\n",
    "\"\"\"\n",
    "\n",
    "cursor.execute(query_sql)\n",
    "print(\"Qualified data:\")\n",
    "for row in tqdm(cursor.fetchall()):\n",
    "    eid = row[0]\n",
    "    values = row[1:-1]\n",
    "    total = row[-1]\n",
    "    \n",
    "    for i, value in enumerate(values):\n",
    "        print(f\"{columns[i]}: {value} / {total} -> {(value / total * 100):.2f}%\")"
   ]
  },
  {
   "cell_type": "markdown",
   "metadata": {},
   "source": [
    "# Export data to CSV"
   ]
  },
  {
   "cell_type": "markdown",
   "metadata": {},
   "source": [
    "## Full Data"
   ]
  },
  {
   "cell_type": "code",
   "execution_count": 43,
   "metadata": {},
   "outputs": [],
   "source": [
    "query_sql = f\"\"\"\n",
    "SELECT * FROM {TableNames.COVARIATES};\n",
    "\"\"\"\n",
    "cursor.execute(query_sql)\n",
    "\n",
    "columns = [description[0] for description in cursor.description]\n",
    "data = cursor.fetchall()\n",
    "\n",
    "df = pd.DataFrame(data, columns=columns)\n",
    "df.to_csv(\"full_data.csv\", index=False)\n"
   ]
  },
  {
   "cell_type": "markdown",
   "metadata": {},
   "source": [
    "## Data for Survival Analysis"
   ]
  },
  {
   "cell_type": "code",
   "execution_count": 65,
   "metadata": {},
   "outputs": [],
   "source": [
    "# * This exclusion criteria may be modified for sensitivity analysis.\n",
    "exclusion_criteria = \"WHERE s.statins = 0 AND s.ecg_hrv_ok = 1 AND s.ecg_before_cvd == 0\"\n",
    "\n",
    "cursor.execute(f\"PRAGMA table_info({TableNames.COVARIATES});\")\n",
    "columns = [row[1] for row in cursor.fetchall()]\n",
    "columns = [col for col in columns if col != primary_key]\n",
    "\n",
    "query_sql = f\"\"\"\n",
    "SELECT c.{primary_key}, {', '.join(f'c.{col}' for col in columns)} \n",
    "FROM {TableNames.COVARIATES} c INNER JOIN {TableNames.STATUS} s ON c.eid = s.eid\n",
    "{exclusion_criteria};\n",
    "\"\"\"\n",
    "\n",
    "cursor.execute(query_sql)\n",
    "columns = [description[0] for description in cursor.description]\n",
    "data = cursor.fetchall()\n",
    "\n",
    "df = pd.DataFrame(data, columns=columns)\n",
    "df.to_csv(\"eligible_data.csv\", index=False)"
   ]
  },
  {
   "cell_type": "code",
   "execution_count": 68,
   "metadata": {},
   "outputs": [],
   "source": [
    "df_na = df.dropna()\n",
    "df_na.to_csv(\"eligible_data_complete_case.csv\", index=False)"
   ]
  },
  {
   "cell_type": "code",
   "execution_count": 71,
   "metadata": {},
   "outputs": [
    {
     "name": "stdout",
     "output_type": "stream",
     "text": [
      "(77888, 15) (35159, 15) (25594, 15)\n"
     ]
    }
   ],
   "source": [
    "# check the shape of all three csv files.\n",
    "csv_full = pd.read_csv(\"full_data.csv\")\n",
    "csv_eligible = pd.read_csv(\"eligible_data.csv\")\n",
    "csv_eligible_complete = pd.read_csv(\"eligible_data_complete_case.csv\")\n",
    "\n",
    "print(csv_full.shape, csv_eligible.shape, csv_eligible_complete.shape)"
   ]
  },
  {
   "cell_type": "markdown",
   "metadata": {},
   "source": [
    "# "
   ]
  }
 ],
 "metadata": {
  "kernelspec": {
   "display_name": "Python 3",
   "language": "python",
   "name": "python3"
  },
  "language_info": {
   "codemirror_mode": {
    "name": "ipython",
    "version": 3
   },
   "file_extension": ".py",
   "mimetype": "text/x-python",
   "name": "python",
   "nbconvert_exporter": "python",
   "pygments_lexer": "ipython3",
   "version": "3.9.18"
  }
 },
 "nbformat": 4,
 "nbformat_minor": 2
}
