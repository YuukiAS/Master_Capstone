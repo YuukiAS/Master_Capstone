{
 "cells": [
  {
   "cell_type": "markdown",
   "metadata": {},
   "source": [
    "Here we add a column to the `Processed` table, indicating that relevant HRV indices are available for certain participants.\n",
    "\n",
    "+ Create `HRV_available` column in `Processed` table to record if the HRV indices for the subject are available."
   ]
  },
  {
   "cell_type": "code",
   "execution_count": 6,
   "metadata": {},
   "outputs": [],
   "source": [
    "import sqlite3\n",
    "import pandas as pd\n",
    "from tqdm import tqdm\n",
    "import sys\n",
    "\n",
    "sys.path.append(\"../..\")\n",
    "\n",
    "from utils.constants import DatabaseConfig, TableNames"
   ]
  },
  {
   "cell_type": "code",
   "execution_count": 2,
   "metadata": {},
   "outputs": [],
   "source": [
    "conn = sqlite3.connect(DatabaseConfig.DB_PATH)\n",
    "cursor = conn.cursor()\n",
    "primary_key = \"eid\""
   ]
  },
  {
   "cell_type": "code",
   "execution_count": 3,
   "metadata": {},
   "outputs": [
    {
     "name": "stderr",
     "output_type": "stream",
     "text": [
      "100%|██████████| 42216/42216 [00:00<00:00, 100447.38it/s]\n"
     ]
    }
   ],
   "source": [
    "cursor.execute(f\"\"\"\n",
    "ALTER TABLE {TableNames.PROCESSED} ADD COLUMN HRV_available INTEGER DEFAULT 0;\n",
    "\"\"\")\n",
    "\n",
    "# We will use the eid in the `HRV_time` table\n",
    "query_sql = f\"\"\"\n",
    "SELECT {primary_key} FROM {TableNames.HRV_TIME}\n",
    "\"\"\"\n",
    "cursor.execute(query_sql)\n",
    "eids = [row[0] for row in cursor.fetchall()]\n",
    "\n",
    "# Update the column\n",
    "for eid in tqdm(eids):\n",
    "    update_sql = f\"UPDATE {TableNames.PROCESSED} SET HRV_available = 1 WHERE eid = ?;\"\n",
    "    cursor.execute(update_sql, (eid,))\n",
    "conn.commit()"
   ]
  },
  {
   "cell_type": "code",
   "execution_count": 7,
   "metadata": {},
   "outputs": [
    {
     "name": "stdout",
     "output_type": "stream",
     "text": [
      "   test_status  HRV_available  count\n",
      "0            0              0  14102\n",
      "1            0              1   1350\n",
      "2            1              0  21570\n",
      "3            1              1  40866\n"
     ]
    }
   ],
   "source": [
    "count_sql = f\"\"\"\n",
    "SELECT test_status, HRV_available, COUNT(*) FROM {TableNames.PROCESSED} \n",
    "GROUP BY test_status, HRV_available\n",
    "ORDER BY test_status, HRV_available;\n",
    "\"\"\"\n",
    "cursor.execute(count_sql)\n",
    "df = pd.DataFrame(cursor.fetchall(), columns=[\"test_status\", \"HRV_available\", \"count\"])\n",
    "print(df)"
   ]
  },
  {
   "cell_type": "markdown",
   "metadata": {},
   "source": [
    "After investigation, we find that those who report \"Participant wanted to stop early\" or \"Heart rate reached safety level\" still may have HRV indices available.\n",
    "\n",
    "**Therefore, we decide to only use `HRV_available` rather than `test_status` for inclusion criteria**."
   ]
  }
 ],
 "metadata": {
  "kernelspec": {
   "display_name": "Python 3",
   "language": "python",
   "name": "python3"
  },
  "language_info": {
   "codemirror_mode": {
    "name": "ipython",
    "version": 3
   },
   "file_extension": ".py",
   "mimetype": "text/x-python",
   "name": "python",
   "nbconvert_exporter": "python",
   "pygments_lexer": "ipython3",
   "version": "3.9.18"
  }
 },
 "nbformat": 4,
 "nbformat_minor": 2
}
