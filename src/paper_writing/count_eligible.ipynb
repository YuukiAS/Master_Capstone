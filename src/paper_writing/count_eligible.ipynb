{
 "cells": [
  {
   "cell_type": "markdown",
   "metadata": {},
   "source": [
    "Count the number of eligible patients in the database."
   ]
  },
  {
   "cell_type": "code",
   "execution_count": 23,
   "metadata": {},
   "outputs": [],
   "source": [
    "import sqlite3\n",
    "import pandas as pd\n",
    "import sys\n",
    "\n",
    "sys.path.append(\"../..\")\n",
    "\n",
    "from utils.constants import DatabaseConfig, TableNames"
   ]
  },
  {
   "cell_type": "code",
   "execution_count": 2,
   "metadata": {},
   "outputs": [],
   "source": [
    "conn = sqlite3.connect(DatabaseConfig.DB_PATH)\n",
    "cursor = conn.cursor()\n",
    "primary_key = \"eid\""
   ]
  },
  {
   "cell_type": "markdown",
   "metadata": {},
   "source": [
    "## Count Number of Eligible Participants"
   ]
  },
  {
   "cell_type": "code",
   "execution_count": 12,
   "metadata": {},
   "outputs": [
    {
     "name": "stdout",
     "output_type": "stream",
     "text": [
      "77888\n"
     ]
    }
   ],
   "source": [
    "# Total participants\n",
    "cursor.execute(f\"\"\"\n",
    "    SELECT COUNT(*) AS Total_count\n",
    "    FROM {TableNames.PROCESSED}\n",
    "\"\"\")\n",
    "num1 = cursor.fetchall()[0][0]\n",
    "print(num1)"
   ]
  },
  {
   "cell_type": "code",
   "execution_count": 13,
   "metadata": {},
   "outputs": [
    {
     "name": "stdout",
     "output_type": "stream",
     "text": [
      "61927\n"
     ]
    }
   ],
   "source": [
    "cursor.execute(f\"\"\"\n",
    "    SELECT COUNT(*) AS Total_count \n",
    "    FROM {TableNames.PROCESSED} \n",
    "    WHERE ECG_date IS NOT NULL;\n",
    "\"\"\")\n",
    "num2 = cursor.fetchall()[0][0]\n",
    "print(num2)"
   ]
  },
  {
   "cell_type": "code",
   "execution_count": 14,
   "metadata": {},
   "outputs": [
    {
     "data": {
      "text/plain": [
       "15961"
      ]
     },
     "execution_count": 14,
     "metadata": {},
     "output_type": "execute_result"
    }
   ],
   "source": [
    "num1 - num2"
   ]
  },
  {
   "cell_type": "markdown",
   "metadata": {},
   "source": [
    "Those with ECG_date being NULL have empty or corrupted ECG XML files."
   ]
  },
  {
   "cell_type": "code",
   "execution_count": 15,
   "metadata": {},
   "outputs": [
    {
     "name": "stdout",
     "output_type": "stream",
     "text": [
      "42216\n"
     ]
    }
   ],
   "source": [
    "# Complete test and has valid ECG\n",
    "cursor.execute(f\"\"\"\n",
    "    SELECT COUNT(*) AS Total_count \n",
    "    FROM {TableNames.PROCESSED} \n",
    "    WHERE HRV_available = 1  AND ECG_date IS NOT NULL;\n",
    "\"\"\")\n",
    "num3 = cursor.fetchall()[0][0]\n",
    "print(num3)"
   ]
  },
  {
   "cell_type": "code",
   "execution_count": 17,
   "metadata": {},
   "outputs": [
    {
     "data": {
      "text/plain": [
       "19711"
      ]
     },
     "execution_count": 17,
     "metadata": {},
     "output_type": "execute_result"
    }
   ],
   "source": [
    "num2 - num3"
   ]
  },
  {
   "cell_type": "code",
   "execution_count": 19,
   "metadata": {},
   "outputs": [
    {
     "name": "stdout",
     "output_type": "stream",
     "text": [
      "35891\n"
     ]
    }
   ],
   "source": [
    "# Complete test, has valid ECG and don't take statin\n",
    "cursor.execute(f\"\"\"\n",
    "    SELECT COUNT(*) AS Total_count\n",
    "    FROM {TableNames.PROCESSED} \n",
    "    WHERE statins = 0 AND HRV_available = 1 AND ECG_date IS NOT NULL;\n",
    "\"\"\")\n",
    "num4 = cursor.fetchall()[0][0]\n",
    "print(num4)"
   ]
  },
  {
   "cell_type": "code",
   "execution_count": 21,
   "metadata": {},
   "outputs": [
    {
     "data": {
      "text/plain": [
       "6325"
      ]
     },
     "execution_count": 21,
     "metadata": {},
     "output_type": "execute_result"
    }
   ],
   "source": [
    "num3 - num4"
   ]
  },
  {
   "cell_type": "code",
   "execution_count": 33,
   "metadata": {},
   "outputs": [
    {
     "name": "stdout",
     "output_type": "stream",
     "text": [
      "        Total_count  CVD_before_ECG  CVD_after_ECG\n",
      "no CVD        30719               0              0\n",
      "CVD            5172             732           4440\n",
      "The final study population has 35159 participants, out of which 4440 have incident CVD\n"
     ]
    }
   ],
   "source": [
    "# Complete test, has valid ECG and don't take statin\n",
    "cursor.execute(f\"\"\"\n",
    "    SELECT COUNT(*) AS Total_count, \n",
    "           SUM(CASE WHEN ECG_date > CVD_date THEN 1 ELSE 0 END) AS CVD_before_ECG, \n",
    "           SUM(CASE WHEN ECG_date < CVD_date THEN 1 ELSE 0 END) AS CVD_after_ECG\n",
    "    FROM {TableNames.PROCESSED} \n",
    "    WHERE statins = 0 AND HRV_available = 1 AND ECG_date IS NOT NULL\n",
    "    GROUP BY CVD;\n",
    "\"\"\")\n",
    "df = pd.DataFrame(cursor.fetchall(), columns=[\"Total_count\", \"CVD_before_ECG\", \"CVD_after_ECG\"], index=[\"no CVD\", \"CVD\"])\n",
    "print(df)\n",
    "num5 = df[\"Total_count\"].sum()\n",
    "num6 = df[\"CVD_before_ECG\"].sum()\n",
    "num7 = df[\"CVD_after_ECG\"].sum()\n",
    "print(f\"The final study population has {num5 - num6} participants, out of which {num7} have incident CVD\")"
   ]
  },
  {
   "cell_type": "markdown",
   "metadata": {},
   "source": [
    "12.6% of eligible participants have incident CVD, while the remaining ones don't experience CVD so far.\n",
    "\n",
    "The censoring date is 2022-10-31."
   ]
  }
 ],
 "metadata": {
  "kernelspec": {
   "display_name": "Python 3",
   "language": "python",
   "name": "python3"
  },
  "language_info": {
   "codemirror_mode": {
    "name": "ipython",
    "version": 3
   },
   "file_extension": ".py",
   "mimetype": "text/x-python",
   "name": "python",
   "nbconvert_exporter": "python",
   "pygments_lexer": "ipython3",
   "version": "3.9.18"
  }
 },
 "nbformat": 4,
 "nbformat_minor": 2
}
