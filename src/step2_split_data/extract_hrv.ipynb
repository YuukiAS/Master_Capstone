{
 "cells": [
  {
   "cell_type": "markdown",
   "metadata": {},
   "source": [
    "The old ways of extracting HRV is not optimal. We should follow the fields to extract the HRV for lead II during exercise phase."
   ]
  }
 ],
 "metadata": {
  "language_info": {
   "name": "python"
  }
 },
 "nbformat": 4,
 "nbformat_minor": 2
}
